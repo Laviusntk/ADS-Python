{
 "cells": [
  {
   "cell_type": "code",
   "execution_count": 1,
   "id": "ebf35181",
   "metadata": {},
   "outputs": [
    {
     "name": "stdout",
     "output_type": "stream",
     "text": [
      "Adding subfolder: ../Data Structures\n",
      "Adding subfolder: ../OOP\n",
      "Adding subfolder: ../Strings and Arrays\n",
      "Adding subfolder: ../Common\n",
      "Adding subfolder: ../Dynamic Programming\n",
      "Adding subfolder: ../.ipynb_checkpoints\n",
      "Adding subfolder: ../Trees and Graphs\n",
      "Adding subfolder: ../LinkedLists\n",
      "importing Jupyter notebook from ../Data Structures/SingleLinkedList.ipynb\n"
     ]
    },
    {
     "name": "stderr",
     "output_type": "stream",
     "text": [
      "\n",
      "----------------------------------------------------------------------\n",
      "Ran 0 tests in 0.000s\n",
      "\n",
      "OK\n"
     ]
    }
   ],
   "source": [
    "import sys\n",
    "sys.path.insert(1, '../common/')\n",
    "\n",
    "import LoadNotebookHelper # Enables Jupyter to import exterbal notebooks as modules\n",
    "import SingleLinkedList"
   ]
  },
  {
   "cell_type": "code",
   "execution_count": null,
   "id": "ef8e6d51",
   "metadata": {},
   "outputs": [],
   "source": []
  },
  {
   "cell_type": "code",
   "execution_count": null,
   "id": "32601801",
   "metadata": {},
   "outputs": [],
   "source": []
  }
 ],
 "metadata": {
  "kernelspec": {
   "display_name": "Python 3 (ipykernel)",
   "language": "python",
   "name": "python3"
  },
  "language_info": {
   "codemirror_mode": {
    "name": "ipython",
    "version": 3
   },
   "file_extension": ".py",
   "mimetype": "text/x-python",
   "name": "python",
   "nbconvert_exporter": "python",
   "pygments_lexer": "ipython3",
   "version": "3.9.7"
  }
 },
 "nbformat": 4,
 "nbformat_minor": 5
}

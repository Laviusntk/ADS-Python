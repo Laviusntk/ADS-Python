{
 "cells": [
  {
   "cell_type": "markdown",
   "id": "b9cac36c",
   "metadata": {},
   "source": [
    "## <span style=\"font-weight:bold;font-size:1.9em;color:#0e92ea\">Trees and Graphs</span>\n",
    "\n",
    "#### <span style=\"font-weight:bold;font-size:1.9em;color:#0e92ea\">Content</span>\n",
    "\n",
    "<ol style=\"color:#0e92ea\">\n",
    "    <li>Binary Trees</li>\n",
    "    <li>Tries Trees</li>\n",
    "    <li>Heaps</li>\n",
    "    <li>Graphs</li>\n",
    "</ol>"
   ]
  },
  {
   "cell_type": "code",
   "execution_count": 1,
   "id": "531ac04d",
   "metadata": {},
   "outputs": [
    {
     "name": "stdout",
     "output_type": "stream",
     "text": [
      "Loading Libary Subfolder: ../Data Structures\n",
      "Loading Libary Subfolder: ../OOP\n",
      "Loading Libary Subfolder: ../Strings and Arrays\n",
      "Loading Libary Subfolder: ../Common\n",
      "Loading Libary Subfolder: ../Dynamic Programming\n",
      "Loading Libary Subfolder: ../.ipynb_checkpoints\n",
      "Loading Libary Subfolder: ../Trees and Graphs\n",
      "Loading Libary Subfolder: ../LinkedLists\n",
      "importing Jupyter notebook from ../LinkedLists/LinkedLists.ipynb\n",
      "current Node 1\n",
      "current Node 2\n",
      "current Node 3\n",
      "current Node 3\n",
      "current Node 3\n"
     ]
    }
   ],
   "source": [
    "import sys\n",
    "sys.path.insert(1, '../common/')\n",
    "\n",
    "import LoadNotebookHelper # Enables Jupyter to import exterbal notebooks as modules\n",
    "import queue\n",
    "from pyvis.network import Network\n",
    "import networkx as nx\n",
    "from LinkedLists import Node\n",
    "from abc import ABC, abstractmethod\n",
    "import json\n",
    "from dataclasses import dataclass\n",
    "import pprint"
   ]
  },
  {
   "cell_type": "markdown",
   "id": "dcf6fcfa",
   "metadata": {},
   "source": [
    "#### <span style=\"font-weight:bold;font-size:1.9em;color:#0e92ea\">1. Binary Trees</span>"
   ]
  },
  {
   "cell_type": "code",
   "execution_count": null,
   "id": "baecfe73",
   "metadata": {},
   "outputs": [],
   "source": []
  },
  {
   "cell_type": "markdown",
   "id": "660f32f6",
   "metadata": {},
   "source": [
    "#### <span style=\"font-weight:bold;font-size:1.9em;color:#0e92ea\">2. Tries Trees</span>"
   ]
  },
  {
   "cell_type": "code",
   "execution_count": null,
   "id": "3035f67c",
   "metadata": {},
   "outputs": [],
   "source": []
  },
  {
   "cell_type": "markdown",
   "id": "59739504",
   "metadata": {},
   "source": [
    "#### <span style=\"font-weight:bold;font-size:1.9em;color:#0e92ea\">3. Heaps</span>"
   ]
  },
  {
   "cell_type": "code",
   "execution_count": null,
   "id": "1745f492",
   "metadata": {},
   "outputs": [],
   "source": []
  },
  {
   "cell_type": "markdown",
   "id": "ac08b018",
   "metadata": {},
   "source": [
    "#### <span style=\"font-weight:bold;font-size:1.9em;color:#0e92ea\">4. Graphs</span>"
   ]
  },
  {
   "cell_type": "code",
   "execution_count": 2,
   "id": "8b22314a",
   "metadata": {},
   "outputs": [
    {
     "data": {
      "text/plain": [
       "{\"Node\": 1, \"Next\": \"None\", \"Visited\": false}"
      ]
     },
     "execution_count": 2,
     "metadata": {},
     "output_type": "execute_result"
    }
   ],
   "source": [
    "class GraphNode(Node):    \n",
    "    def Process(self):\n",
    "        self.Visit()\n",
    "        \n",
    "node = GraphNode(1)\n",
    "node"
   ]
  },
  {
   "cell_type": "code",
   "execution_count": 6,
   "id": "3c2de52d",
   "metadata": {},
   "outputs": [],
   "source": [
    "class UndirectedGraph(ABC):\n",
    "    __graph = {}\n",
    "    \n",
    "    def AddVertex(self, vertex):\n",
    "        if vertex not in self.__graph:\n",
    "            self.__graph[vertex] = []\n",
    "            \n",
    "    def AddEdge(self, from_vertex, to_vertex):\n",
    "        if from_vertex in self.__graph and to_vertex in self.__graph:\n",
    "            self.__graph[from_vertex].append(GraphNode(to_vertex))\n",
    "    \n",
    "    def __str__(self):\n",
    "        return json.dumps(self.__graph, default=lambda o: o.__dict__, indent=2)\n",
    "        \n",
    "    def __repr__(self):\n",
    "        return self.__str__()\n",
    "    "
   ]
  },
  {
   "cell_type": "code",
   "execution_count": 8,
   "id": "8fa3a316",
   "metadata": {},
   "outputs": [
    {
     "data": {
      "text/plain": [
       "{\n",
       "  \"1\": [],\n",
       "  \"3\": [],\n",
       "  \"2\": []\n",
       "}"
      ]
     },
     "execution_count": 8,
     "metadata": {},
     "output_type": "execute_result"
    }
   ],
   "source": [
    "graph = UndirectedGraph()\n",
    "graph.AddVertex(1)\n",
    "graph.AddVertex(2)\n",
    "graph.AddVertex(3)\n",
    "graph"
   ]
  },
  {
   "cell_type": "code",
   "execution_count": 10,
   "id": "ad7fd1d4",
   "metadata": {},
   "outputs": [
    {
     "data": {
      "text/plain": [
       "{\n",
       "  \"1\": [],\n",
       "  \"3\": [],\n",
       "  \"2\": [\n",
       "    {\n",
       "      \"Next\": null,\n",
       "      \"Value\": 3\n",
       "    },\n",
       "    {\n",
       "      \"Next\": null,\n",
       "      \"Value\": 3\n",
       "    }\n",
       "  ]\n",
       "}"
      ]
     },
     "execution_count": 10,
     "metadata": {},
     "output_type": "execute_result"
    }
   ],
   "source": [
    "graph.AddEdge(2, 3)\n",
    "graph"
   ]
  },
  {
   "cell_type": "markdown",
   "id": "93bfcf3b",
   "metadata": {},
   "source": [
    "###### <span style=\"font-weight:bold;font-size:1.5em;color:#0e92ea\">4.1 Reachability</span>"
   ]
  },
  {
   "cell_type": "code",
   "execution_count": 9,
   "id": "45eaad69",
   "metadata": {},
   "outputs": [
    {
     "data": {
      "text/plain": [
       "{\n",
       "  \"1\": [],\n",
       "  \"3\": [],\n",
       "  \"2\": [\n",
       "    {\n",
       "      \"Next\": null,\n",
       "      \"Value\": 3\n",
       "    }\n",
       "  ]\n",
       "}"
      ]
     },
     "execution_count": 9,
     "metadata": {},
     "output_type": "execute_result"
    }
   ],
   "source": []
  },
  {
   "cell_type": "code",
   "execution_count": null,
   "id": "d8fce704",
   "metadata": {},
   "outputs": [],
   "source": []
  }
 ],
 "metadata": {
  "kernelspec": {
   "display_name": "Python 3 (ipykernel)",
   "language": "python",
   "name": "python3"
  },
  "language_info": {
   "codemirror_mode": {
    "name": "ipython",
    "version": 3
   },
   "file_extension": ".py",
   "mimetype": "text/x-python",
   "name": "python",
   "nbconvert_exporter": "python",
   "pygments_lexer": "ipython3",
   "version": "3.9.7"
  }
 },
 "nbformat": 4,
 "nbformat_minor": 5
}

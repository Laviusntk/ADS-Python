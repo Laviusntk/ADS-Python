{
 "cells": [
  {
   "cell_type": "markdown",
   "id": "8d804371",
   "metadata": {},
   "source": [
    "## <span style=\"font-weight:bold;font-size:1.9em;color:#0e92ea\">Trees and Graphs</span>\n",
    "\n",
    "#### <span style=\"font-weight:bold;font-size:1.9em;color:#0e92ea\">Content</span>\n",
    "\n",
    "<ol style=\"color:#0e92ea\">\n",
    "    <li>Binary Trees</li>\n",
    "    <li>Tries Trees</li>\n",
    "    <li>Heaps</li>\n",
    "    <li>Graphs</li>\n",
    "</ol>"
   ]
  },
  {
   "cell_type": "code",
   "execution_count": 2,
   "id": "16f5aa5a",
   "metadata": {},
   "outputs": [
    {
     "name": "stdout",
     "output_type": "stream",
     "text": [
      "importing Jupyter notebook from ../LinkedLists/LinkedLists.ipynb\n",
      "current Node 1\n",
      "current Node 2\n",
      "current Node 3\n",
      "current Node 3\n",
      "current Node 3\n"
     ]
    }
   ],
   "source": [
    "import sys\n",
    "sys.path.insert(1, '../common/')\n",
    "\n",
    "import LoadNotebookHelper # Enables Jupyter to import exterbal notebooks as modules\n",
    "import LinkedLists"
   ]
  },
  {
   "cell_type": "markdown",
   "id": "91f411d8",
   "metadata": {},
   "source": [
    "#### <span style=\"font-weight:bold;font-size:1.9em;color:#0e92ea\">1. Binary Trees</span>"
   ]
  },
  {
   "cell_type": "code",
   "execution_count": null,
   "id": "ea0b84da",
   "metadata": {},
   "outputs": [],
   "source": []
  },
  {
   "cell_type": "markdown",
   "id": "1e6ac5b3",
   "metadata": {},
   "source": [
    "#### <span style=\"font-weight:bold;font-size:1.9em;color:#0e92ea\">2. Tries Trees</span>"
   ]
  },
  {
   "cell_type": "code",
   "execution_count": null,
   "id": "4094c170",
   "metadata": {},
   "outputs": [],
   "source": []
  },
  {
   "cell_type": "markdown",
   "id": "4d854179",
   "metadata": {},
   "source": [
    "#### <span style=\"font-weight:bold;font-size:1.9em;color:#0e92ea\">3. Heaps</span>"
   ]
  },
  {
   "cell_type": "code",
   "execution_count": null,
   "id": "b6c09d84",
   "metadata": {},
   "outputs": [],
   "source": []
  },
  {
   "cell_type": "markdown",
   "id": "6c4f7c8b",
   "metadata": {},
   "source": [
    "#### <span style=\"font-weight:bold;font-size:1.9em;color:#0e92ea\">4. Graphs</span>"
   ]
  },
  {
   "cell_type": "code",
   "execution_count": null,
   "id": "17d1e150",
   "metadata": {},
   "outputs": [],
   "source": []
  }
 ],
 "metadata": {
  "kernelspec": {
   "display_name": "Python 3 (ipykernel)",
   "language": "python",
   "name": "python3"
  },
  "language_info": {
   "codemirror_mode": {
    "name": "ipython",
    "version": 3
   },
   "file_extension": ".py",
   "mimetype": "text/x-python",
   "name": "python",
   "nbconvert_exporter": "python",
   "pygments_lexer": "ipython3",
   "version": "3.9.7"
  }
 },
 "nbformat": 4,
 "nbformat_minor": 5
}

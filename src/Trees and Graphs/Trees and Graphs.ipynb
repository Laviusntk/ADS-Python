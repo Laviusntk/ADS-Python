{
 "cells": [
  {
   "cell_type": "markdown",
   "id": "b9cac36c",
   "metadata": {},
   "source": [
    "## <span style=\"font-weight:bold;font-size:1.9em;color:#0e92ea\">Trees and Graphs</span>\n",
    "\n",
    "#### <span style=\"font-weight:bold;font-size:1.9em;color:#0e92ea\">Content</span>\n",
    "\n",
    "<ol style=\"color:#0e92ea\">\n",
    "    <li>Binary Trees</li>\n",
    "    <li>Tries Trees</li>\n",
    "    <li>Heaps</li>\n",
    "    <li>Graphs</li>\n",
    "</ol>"
   ]
  },
  {
   "cell_type": "code",
   "execution_count": 1,
   "id": "531ac04d",
   "metadata": {},
   "outputs": [
    {
     "name": "stdout",
     "output_type": "stream",
     "text": [
      "Loading Libary Subfolder: ../Data Structures\n",
      "Loading Libary Subfolder: ../OOP\n",
      "Loading Libary Subfolder: ../Strings and Arrays\n",
      "Loading Libary Subfolder: ../Common\n",
      "Loading Libary Subfolder: ../Dynamic Programming\n",
      "Loading Libary Subfolder: ../.ipynb_checkpoints\n",
      "Loading Libary Subfolder: ../Trees and Graphs\n",
      "Loading Libary Subfolder: ../LinkedLists\n",
      "importing Jupyter notebook from ../LinkedLists/LinkedLists.ipynb\n",
      "current Node 1\n",
      "current Node 2\n",
      "current Node 3\n",
      "current Node 3\n",
      "current Node 3\n"
     ]
    }
   ],
   "source": [
    "import sys\n",
    "sys.path.insert(1, '../common/')\n",
    "\n",
    "import LoadNotebookHelper # Enables Jupyter to import exterbal notebooks as modules\n",
    "import queue\n",
    "from pyvis import network\n",
    "from pyvis.network import Network\n",
    "import networkx as nx\n",
    "import matplotlib.pyplot as plt\n",
    "from LinkedLists import Node\n",
    "from abc import ABC, abstractmethod\n",
    "import json\n",
    "from dataclasses import dataclass\n",
    "import pprint\n",
    "from IPython.display import IFrame\n",
    "%matplotlib inline"
   ]
  },
  {
   "cell_type": "markdown",
   "id": "dcf6fcfa",
   "metadata": {},
   "source": [
    "#### <span style=\"font-weight:bold;font-size:1.9em;color:#0e92ea\">1. Binary Trees</span>"
   ]
  },
  {
   "cell_type": "code",
   "execution_count": null,
   "id": "baecfe73",
   "metadata": {},
   "outputs": [],
   "source": []
  },
  {
   "cell_type": "markdown",
   "id": "660f32f6",
   "metadata": {},
   "source": [
    "#### <span style=\"font-weight:bold;font-size:1.9em;color:#0e92ea\">2. Tries Trees</span>"
   ]
  },
  {
   "cell_type": "code",
   "execution_count": null,
   "id": "3035f67c",
   "metadata": {},
   "outputs": [],
   "source": []
  },
  {
   "cell_type": "markdown",
   "id": "59739504",
   "metadata": {},
   "source": [
    "#### <span style=\"font-weight:bold;font-size:1.9em;color:#0e92ea\">3. Heaps</span>"
   ]
  },
  {
   "cell_type": "code",
   "execution_count": null,
   "id": "1745f492",
   "metadata": {},
   "outputs": [],
   "source": []
  },
  {
   "cell_type": "markdown",
   "id": "ac08b018",
   "metadata": {},
   "source": [
    "#### <span style=\"font-weight:bold;font-size:1.9em;color:#0e92ea\">4. Graphs</span>"
   ]
  },
  {
   "cell_type": "code",
   "execution_count": 2,
   "id": "8b22314a",
   "metadata": {},
   "outputs": [
    {
     "data": {
      "text/plain": [
       "{\"Node\": 1, \"Visited\": false}"
      ]
     },
     "execution_count": 2,
     "metadata": {},
     "output_type": "execute_result"
    }
   ],
   "source": [
    "class GraphNode(Node):\n",
    "    \n",
    "    def toJSON(self):\n",
    "        return self.__str_()\n",
    "    \n",
    "    def __str__(self):\n",
    "        return json.dumps({\n",
    "            \"Node\"    : self.Value,\n",
    "            \"Visited\" : self.IsVisited() \n",
    "        })\n",
    "    \n",
    "    def __repr__(self):\n",
    "        return self.__str__()\n",
    "    \n",
    "    def Process(self):\n",
    "        self.Visit()\n",
    "        \n",
    "node = GraphNode(1)\n",
    "node"
   ]
  },
  {
   "cell_type": "code",
   "execution_count": 3,
   "id": "3c2de52d",
   "metadata": {},
   "outputs": [],
   "source": [
    "class UndirectedGraph(ABC):\n",
    "    \n",
    "    def __init__(self):\n",
    "        self._edges = {}\n",
    "        self._vertices = {}\n",
    "    \n",
    "    def __str__(self):\n",
    "        return json.dumps(self, default=lambda o: o.__dict__, indent=2)\n",
    "        \n",
    "    def __repr__(self):\n",
    "        return self.__str__()\n",
    "    \n",
    "    def AddVertex(self, vertex_id):\n",
    "        if vertex_id not in self._vertices:\n",
    "            self._vertices[vertex_id] = GraphNode(vertex_id)\n",
    "            self._edges[vertex_id] = []\n",
    "            \n",
    "    def AddEdge(self, from_vertex, to_vertex):\n",
    "        if from_vertex in self._vertices and to_vertex not in self._edges[from_vertex]:\n",
    "            self._edges[from_vertex].append(to_vertex)\n",
    "        if to_vertex in self._vertices and from_vertex not in self._edges[to_vertex]:\n",
    "            self._edges[to_vertex].append(from_vertex)\n",
    "    \n",
    "    def BFS(self):\n",
    "        pendingNodesQueue = queue.Queue()\n",
    "        start_node_id = list(self._edges.keys())[0]\n",
    "        pendingNodesQueue.put(start_node_id)\n",
    "        self._vertices[start_node_id].Visit()\n",
    "        return self._BFS(start_node_id, pendingNodesQueue, start_node_id)\n",
    "        \n",
    "    def _BFS(self, current_node_id, pendingNodesQueue, results = \"\"):\n",
    "        if pendingNodesQueue.empty():\n",
    "            return results\n",
    "        \n",
    "        print(f\"processing {current_node_id}... {results}\")\n",
    "        adjacent_nodes_ids =  self._edges[current_node_id]\n",
    "        print(adjacent_nodes_ids)\n",
    "        for neighbhor_node_id in adjacent_nodes_ids:\n",
    "            if not self._vertices[neighbhor_node_id].IsVisited():\n",
    "                pendingNodesQueue.put(neighbhor_node_id)\n",
    "                self._vertices[neighbhor_node_id].Visit()\n",
    "                results = f\"{results}, {neighbhor_node_id}\"\n",
    "                \n",
    "        next_node_id  = pendingNodesQueue.get()\n",
    "        return self._BFS(next_node_id, pendingNodesQueue, results)\n",
    "    \n",
    "    def DFS(self):\n",
    "        \n",
    "    \n",
    "    def _DFS(self):\n",
    "        pass"
   ]
  },
  {
   "cell_type": "code",
   "execution_count": 4,
   "id": "8fa3a316",
   "metadata": {},
   "outputs": [],
   "source": [
    "graph = UndirectedGraph()\n",
    "graph.AddVertex(1)\n",
    "graph.AddVertex(2)\n",
    "graph.AddVertex(3)\n",
    "graph.AddVertex(4)\n",
    "graph.AddVertex(5)\n",
    "graph.AddVertex(6)\n",
    "graph.AddVertex(7)\n",
    "graph.AddVertex(8)\n",
    "graph.AddVertex(9)\n",
    "graph.AddVertex(10)\n",
    "graph.AddEdge(1, 2)\n",
    "graph.AddEdge(1, 3)\n",
    "graph.AddEdge(1, 4)\n",
    "\n",
    "graph.AddEdge(2, 1)\n",
    "graph.AddEdge(2, 5)\n",
    "graph.AddEdge(2, 6)\n",
    "graph.AddEdge(2, 7)\n",
    "\n",
    "graph.AddEdge(3, 1)\n",
    "graph.AddEdge(3, 7)\n",
    "\n",
    "graph.AddEdge(4, 1)\n",
    "graph.AddEdge(4, 9)\n",
    "graph.AddEdge(4, 10)\n",
    "\n",
    "graph.AddEdge(5, 2)\n",
    "graph.AddEdge(5, 8)\n",
    "\n",
    "graph.AddEdge(6, 2)\n",
    "graph.AddEdge(6, 8)\n",
    "\n",
    "graph.AddEdge(7, 2)\n",
    "graph.AddEdge(7, 3)\n",
    "\n",
    "graph.AddEdge(8, 5)\n",
    "graph.AddEdge(8, 6)\n",
    "\n",
    "graph.AddEdge(9, 4)\n",
    "graph.AddEdge(9, 10)\n",
    "\n",
    "graph.AddEdge(10, 4)\n",
    "graph.AddEdge(10, 9)\n"
   ]
  },
  {
   "cell_type": "code",
   "execution_count": 5,
   "id": "ac7f5742",
   "metadata": {},
   "outputs": [
    {
     "name": "stdout",
     "output_type": "stream",
     "text": [
      "processing 1... 1\n",
      "[2, 3, 4]\n",
      "processing 1... 1, 2, 3, 4\n",
      "[2, 3, 4]\n",
      "processing 2... 1, 2, 3, 4\n",
      "[1, 5, 6, 7]\n",
      "processing 3... 1, 2, 3, 4, 5, 6, 7\n",
      "[1, 7]\n",
      "processing 4... 1, 2, 3, 4, 5, 6, 7\n",
      "[1, 9, 10]\n",
      "processing 5... 1, 2, 3, 4, 5, 6, 7, 9, 10\n",
      "[2, 8]\n",
      "processing 6... 1, 2, 3, 4, 5, 6, 7, 9, 10, 8\n",
      "[2, 8]\n",
      "processing 7... 1, 2, 3, 4, 5, 6, 7, 9, 10, 8\n",
      "[2, 3]\n",
      "processing 9... 1, 2, 3, 4, 5, 6, 7, 9, 10, 8\n",
      "[4, 10]\n",
      "processing 10... 1, 2, 3, 4, 5, 6, 7, 9, 10, 8\n",
      "[4, 9]\n"
     ]
    },
    {
     "data": {
      "text/plain": [
       "'1, 2, 3, 4, 5, 6, 7, 9, 10, 8'"
      ]
     },
     "execution_count": 5,
     "metadata": {},
     "output_type": "execute_result"
    }
   ],
   "source": [
    "graph.BFS()"
   ]
  },
  {
   "cell_type": "markdown",
   "id": "93bfcf3b",
   "metadata": {},
   "source": [
    "###### <span style=\"font-weight:bold;font-size:1.5em;color:#0e92ea\">4.1 Reachability</span>"
   ]
  },
  {
   "cell_type": "code",
   "execution_count": 6,
   "id": "a3272c71",
   "metadata": {},
   "outputs": [],
   "source": [
    "import threading, queue\n",
    "\n",
    "pendingNodesQueue = queue.Queue()"
   ]
  },
  {
   "cell_type": "code",
   "execution_count": 7,
   "id": "abc0fcca",
   "metadata": {},
   "outputs": [],
   "source": [
    "pendingNodesQueue.put(1)"
   ]
  },
  {
   "cell_type": "code",
   "execution_count": 8,
   "id": "9e515c21",
   "metadata": {},
   "outputs": [
    {
     "data": {
      "text/plain": [
       "1"
      ]
     },
     "execution_count": 8,
     "metadata": {},
     "output_type": "execute_result"
    }
   ],
   "source": [
    "currentItem = pendingNodesQueue.get()\n",
    "currentItem"
   ]
  },
  {
   "cell_type": "code",
   "execution_count": 9,
   "id": "2a5b37bd",
   "metadata": {},
   "outputs": [
    {
     "data": {
      "text/plain": [
       "True"
      ]
     },
     "execution_count": 9,
     "metadata": {},
     "output_type": "execute_result"
    }
   ],
   "source": [
    "pendingNodesQueue.empty()"
   ]
  },
  {
   "cell_type": "code",
   "execution_count": null,
   "id": "50f2f513",
   "metadata": {},
   "outputs": [],
   "source": []
  }
 ],
 "metadata": {
  "kernelspec": {
   "display_name": "Python 3 (ipykernel)",
   "language": "python",
   "name": "python3"
  },
  "language_info": {
   "codemirror_mode": {
    "name": "ipython",
    "version": 3
   },
   "file_extension": ".py",
   "mimetype": "text/x-python",
   "name": "python",
   "nbconvert_exporter": "python",
   "pygments_lexer": "ipython3",
   "version": "3.9.7"
  }
 },
 "nbformat": 4,
 "nbformat_minor": 5
}

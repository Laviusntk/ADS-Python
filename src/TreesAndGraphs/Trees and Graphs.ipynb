{
 "cells": [
  {
   "cell_type": "markdown",
   "id": "b9cac36c",
   "metadata": {},
   "source": [
    "## <span style=\"font-weight:bold;font-size:1.9em;color:#0e92ea\">Trees and Graphs</span>\n",
    "\n",
    "#### <span style=\"font-weight:bold;font-size:1.9em;color:#0e92ea\">Content</span>\n",
    "\n",
    "<ol style=\"color:#0e92ea\">\n",
    "    <li>Binary Trees</li>\n",
    "    <li>Tries Trees</li>\n",
    "    <li>Heaps</li>\n",
    "    <li>Graphs</li>\n",
    "</ol>"
   ]
  },
  {
   "cell_type": "code",
   "execution_count": 1,
   "id": "531ac04d",
   "metadata": {},
   "outputs": [
    {
     "name": "stdout",
     "output_type": "stream",
     "text": [
      "Loading Libary Subfolder: ../TreesAndGraphs\n",
      "Loading Libary Subfolder: ../ObjectOrientedProgramming\n",
      "Loading Libary Subfolder: ../UnitTests\n",
      "Loading Libary Subfolder: ../Common\n",
      "Loading Libary Subfolder: ../Sorting\n",
      "Loading Libary Subfolder: ../DynamicProgramming\n",
      "Loading Libary Subfolder: ../LinkedLists\n",
      "importing Jupyter notebook from ../LinkedLists/LinkedLists.ipynb\n",
      "current Node 1\n",
      "current Node 2\n",
      "current Node 3\n",
      "current Node 3\n",
      "current Node 3\n"
     ]
    }
   ],
   "source": [
    "import sys\n",
    "sys.path.insert(1, '../common/')\n",
    "\n",
    "import LoadNotebookHelper # Enables Jupyter to import exterbal notebooks as modules\n",
    "import queue\n",
    "from pyvis import network\n",
    "from pyvis.network import Network\n",
    "import networkx as nx\n",
    "import matplotlib.pyplot as plt\n",
    "from LinkedLists import Node\n",
    "from abc import ABC, abstractmethod\n",
    "import json\n",
    "from dataclasses import dataclass\n",
    "import pprint\n",
    "from IPython.display import IFrame\n",
    "%matplotlib inline"
   ]
  },
  {
   "cell_type": "markdown",
   "id": "dcf6fcfa",
   "metadata": {},
   "source": [
    "#### <span style=\"font-weight:bold;font-size:1.9em;color:#0e92ea\">1. Binary Trees</span>"
   ]
  },
  {
   "cell_type": "code",
   "execution_count": 2,
   "id": "baecfe73",
   "metadata": {},
   "outputs": [
    {
     "data": {
      "text/plain": [
       "{\n",
       "  \"Value\": 1,\n",
       "  \"Left\": null,\n",
       "  \"Right\": null\n",
       "}"
      ]
     },
     "execution_count": 2,
     "metadata": {},
     "output_type": "execute_result"
    }
   ],
   "source": [
    "class BSTNode(Node):\n",
    "    \n",
    "    def __init__(self, value = 0, left = None, right = None):\n",
    "        self.Value = value\n",
    "        self.Left  = left\n",
    "        self.Right = right\n",
    "        \n",
    "    def __str__(self):\n",
    "        return json.dumps(self, default=lambda o: o.__dict__, indent=2)\n",
    "    \n",
    "    def __repr__(self):\n",
    "        return self.__str__()\n",
    "    \n",
    "    def Process(self):\n",
    "        self.Visit()\n",
    "\n",
    "node = BSTNode(1)\n",
    "node"
   ]
  },
  {
   "cell_type": "code",
   "execution_count": 3,
   "id": "03ccc62d",
   "metadata": {},
   "outputs": [],
   "source": [
    "class BinaryTree:\n",
    "    \n",
    "    def __init__(self):\n",
    "        self.Root = None\n",
    "    \n",
    "    def Insert(self, value):\n",
    "        if self.Root is None:\n",
    "            self.Root = BSTNode(value)\n",
    "        else:\n",
    "            self._Insert(self.Root, BSTNode(value))\n",
    "            \n",
    "    def _Insert(self, currentNode, newNode):\n",
    "        if currentNode is None:\n",
    "            return\n",
    "        \n",
    "        if newNode < currentNode:\n",
    "            if currentNode.Left is None:\n",
    "                currentNode.Left = newNode\n",
    "                return\n",
    "            else:\n",
    "                self._Insert(currentNode.Left, newNode)\n",
    "        elif currentNode.Right is None:\n",
    "            currentNode.Right = newNode\n",
    "            return\n",
    "        else:\n",
    "            self._Insert(currentNode.Right, newNode)\n",
    "\n",
    "    def Remove(self, value):\n",
    "        if self.Root.Value == value:\n",
    "            self.Root = self.__ReplaceNodeHelper(self.Root)\n",
    "        else:\n",
    "            self._Remove(self.Root, value)\n",
    "    \n",
    "    def _Remove(self, currentNode, value):\n",
    "        if currentNode is None:\n",
    "            return\n",
    "        \n",
    "        if currentNode.Left.Value == value:\n",
    "            currentNode.Left = self.__ReplaceNodeHelper(currentNode.Left)\n",
    "            return\n",
    "        elif currentNode.Right.Value == value:\n",
    "            currentNode.Right = self.__ReplaceNodeHelper(currentNode.Right)\n",
    "            return\n",
    "        else:\n",
    "            if value < currentNode.Value:\n",
    "                return self.Remove(currentNode.Left, value)\n",
    "            else:\n",
    "                return self.Remove(currentNode.Right, value)\n",
    "    \n",
    "    def __ReplaceNodeHelper(self, targetNode):\n",
    "        if targetNode.Left is not None:\n",
    "            rightSubtree = targetNode.Right\n",
    "            targetNode = targetNode.Left\n",
    "            self._Insert(targetNode, rightSubtree)\n",
    "        elif currentNode.Left.Right is not None:\n",
    "            leftSubtree = targetNode.Left\n",
    "            targetNode = targetNode.Right\n",
    "            self._Insert(targetNode, leftSubtree)\n",
    "        else:\n",
    "            targetNode = None\n",
    "        return targetNode\n",
    "\n",
    "    def InOrderTraversal(self):\n",
    "        self._InOrderTraversal(self.Root)\n",
    "    \n",
    "    def IsLeafeNode(node):\n",
    "        return node.Left is None and node.Right is None\n",
    "    \n",
    "    def _InOrderTraversal(self, node):\n",
    "        if node is None:\n",
    "            return\n",
    "        \n",
    "        print(node.Value)\n",
    "        self._InOrderTraversal(node.Left)\n",
    "        self._InOrderTraversal(node.Right)\n",
    "    \n",
    "    def InOrderTraversalIter(self):\n",
    "        currentNode = self.Root\n",
    "        stack  = []\n",
    "        results = \"\"\n",
    "        while len(stack) > 0 or currentNode is not None:\n",
    "            while currentNode is not None:\n",
    "                stack.append(currentNode)\n",
    "                currentNode = currentNode.Left\n",
    "                \n",
    "            currentNode = stack.pop()\n",
    "            if currentNode is not None:\n",
    "                print(f\"parent: {currentNode.Value}\")\n",
    "            results +=f\", {currentNode.Value}\"\n",
    "            print(results)\n",
    "            currentNode = currentNode.Right\n",
    "        return results\n",
    "        "
   ]
  },
  {
   "cell_type": "code",
   "execution_count": 4,
   "id": "d70fa5c9",
   "metadata": {},
   "outputs": [
    {
     "name": "stdout",
     "output_type": "stream",
     "text": [
      "parent: 3\n",
      ", 3\n",
      "parent: 4\n",
      ", 3, 4\n",
      "parent: 5\n",
      ", 3, 4, 5\n",
      "parent: 6\n",
      ", 3, 4, 5, 6\n",
      "parent: 7\n",
      ", 3, 4, 5, 6, 7\n",
      "parent: 8\n",
      ", 3, 4, 5, 6, 7, 8\n",
      "parent: 9\n",
      ", 3, 4, 5, 6, 7, 8, 9\n"
     ]
    },
    {
     "data": {
      "text/plain": [
       "', 3, 4, 5, 6, 7, 8, 9'"
      ]
     },
     "execution_count": 4,
     "metadata": {},
     "output_type": "execute_result"
    }
   ],
   "source": [
    "bst = BinaryTree()\n",
    "bst.Insert(6)\n",
    "bst.Insert(4)\n",
    "bst.Insert(3)\n",
    "bst.Insert(5)\n",
    "bst.Insert(8)\n",
    "bst.Insert(7)\n",
    "bst.Insert(9)\n",
    "bst.InOrderTraversalIter()"
   ]
  },
  {
   "cell_type": "markdown",
   "id": "660f32f6",
   "metadata": {},
   "source": [
    "#### <span style=\"font-weight:bold;font-size:1.9em;color:#0e92ea\">2. Tries Trees</span>"
   ]
  },
  {
   "cell_type": "code",
   "execution_count": null,
   "id": "3035f67c",
   "metadata": {},
   "outputs": [],
   "source": []
  },
  {
   "cell_type": "markdown",
   "id": "59739504",
   "metadata": {},
   "source": [
    "#### <span style=\"font-weight:bold;font-size:1.9em;color:#0e92ea\">3. Heaps</span>\n",
    "\n",
    "$\n",
    "{- leftChild(i) = 2 * i}\n",
    "$\n",
    "\n",
    "$\n",
    "{- rightChild(i) = 2*i + 1}\n",
    "$\n",
    "\n",
    "$\n",
    "{- parent(i) = i/2}\n",
    "$"
   ]
  },
  {
   "cell_type": "code",
   "execution_count": 5,
   "id": "1745f492",
   "metadata": {},
   "outputs": [],
   "source": [
    "class MeanHeap:\n",
    "    \n",
    "    def __init__(self, maxSize = 20):\n",
    "        self.Data = [None]\n",
    "        self.MaxSize = maxSize\n",
    "        \n",
    "    def getSize(self):\n",
    "        return len(self.Data)-1\n",
    "    \n",
    "    def isFull(self):\n",
    "        return len(self.Data) == self.MaxSize\n",
    "        \n",
    "    def isEmpty(self):\n",
    "        return len(self.Data) == 1\n",
    "         \n",
    "    def removeMax(self):\n",
    "        if self.isEmpty():\n",
    "            return\n",
    "        \n",
    "        top = self.Data[1]\n",
    "        newTop = self.Data.pop()\n",
    "        self.Data[1] = newTop\n",
    "        self.heapify(1)\n",
    "        return top\n",
    "    \n",
    "    def insert(self, value):\n",
    "        self.Data.append(value)\n",
    "        i = self.getSize()\n",
    "        \n",
    "        while i > 1 and value < self.Data[self.parent(i)]:\n",
    "            temp = self.Data[self.parent(i)]\n",
    "            self.Data[self.parent(i)] = value\n",
    "            self.Data[i] = temp\n",
    "            i = self.parent(i)\n",
    "    \n",
    "    def heapify(self, i):\n",
    "        child = self.leftChild(i)\n",
    "        while child < self.getSize():\n",
    "            \n",
    "            if self.Data[i] > self.Data[child]:\n",
    "                self.swap(i, child)\n",
    "                i = child\n",
    "                child = self.leftChild(i)\n",
    "            else:\n",
    "                return\n",
    "        \n",
    "    def leftChild(self, i):\n",
    "        return i * 2\n",
    "    \n",
    "    def rightChild(self, i):\n",
    "        return i * 2 + 1\n",
    "\n",
    "    def parent(self, i):\n",
    "        return int(i/2)\n",
    "    \n",
    "    def swap(self, i, j):\n",
    "        temp = self.Data[i]\n",
    "        self.Data[i] = self.Data[j]\n",
    "        self.Data[j] = temp\n",
    "        \n",
    "    def __str__(self):\n",
    "        return json.dumps(self, default=lambda o: o.__dict__, indent=2)\n",
    "        \n",
    "    def __repr__(self):\n",
    "        return self.__str__()"
   ]
  },
  {
   "cell_type": "code",
   "execution_count": 6,
   "id": "74e31b25",
   "metadata": {},
   "outputs": [
    {
     "data": {
      "text/plain": [
       "{\n",
       "  \"Data\": [\n",
       "    null,\n",
       "    5,\n",
       "    6,\n",
       "    7,\n",
       "    8,\n",
       "    9,\n",
       "    10,\n",
       "    11\n",
       "  ],\n",
       "  \"MaxSize\": 20\n",
       "}"
      ]
     },
     "execution_count": 6,
     "metadata": {},
     "output_type": "execute_result"
    }
   ],
   "source": [
    "heap = MeanHeap()\n",
    "heap.insert(5)\n",
    "heap.insert(6)\n",
    "heap.insert(7)\n",
    "heap.insert(8)\n",
    "heap.insert(9)\n",
    "heap.insert(10)\n",
    "heap.insert(11)\n",
    "heap"
   ]
  },
  {
   "cell_type": "code",
   "execution_count": 7,
   "id": "50a94056",
   "metadata": {},
   "outputs": [
    {
     "data": {
      "text/plain": [
       "{\n",
       "  \"Data\": [\n",
       "    null,\n",
       "    4,\n",
       "    5,\n",
       "    7,\n",
       "    6,\n",
       "    9,\n",
       "    10,\n",
       "    11,\n",
       "    8\n",
       "  ],\n",
       "  \"MaxSize\": 20\n",
       "}"
      ]
     },
     "execution_count": 7,
     "metadata": {},
     "output_type": "execute_result"
    }
   ],
   "source": [
    "heap.insert(4)\n",
    "heap"
   ]
  },
  {
   "cell_type": "code",
   "execution_count": 8,
   "id": "c533e394",
   "metadata": {},
   "outputs": [
    {
     "data": {
      "text/plain": [
       "{\n",
       "  \"Data\": [\n",
       "    null,\n",
       "    5,\n",
       "    6,\n",
       "    7,\n",
       "    8,\n",
       "    9,\n",
       "    10,\n",
       "    11\n",
       "  ],\n",
       "  \"MaxSize\": 20\n",
       "}"
      ]
     },
     "execution_count": 8,
     "metadata": {},
     "output_type": "execute_result"
    }
   ],
   "source": [
    "heap.removeMax()\n",
    "heap"
   ]
  },
  {
   "cell_type": "markdown",
   "id": "ac08b018",
   "metadata": {},
   "source": [
    "#### <span style=\"font-weight:bold;font-size:1.9em;color:#0e92ea\">4. Graphs</span>"
   ]
  },
  {
   "cell_type": "markdown",
   "id": "b0dbf17a",
   "metadata": {},
   "source": [
    "<p>\n",
    "<img src=\"./assets/graph.png\" />\n",
    "</p>"
   ]
  },
  {
   "cell_type": "code",
   "execution_count": 9,
   "id": "3c2de52d",
   "metadata": {},
   "outputs": [],
   "source": [
    "import queue\n",
    "\n",
    "class Graph:\n",
    "    \n",
    "    def __init__(self):\n",
    "        self.edges_map = {}\n",
    "        self.vertices  = []\n",
    "        \n",
    "    def InsertVertex(self, v):\n",
    "        self.vertices.append(v)\n",
    "        self.edges_map[v] = []\n",
    "    \n",
    "    def AddEdge(self, v1, v2):\n",
    "        self.edges_map[v1].append(v2)\n",
    "        self.edges_map[v2].append(v1)\n",
    "        \n",
    "    def RemoveEdge(self, v1, v2):\n",
    "        self.edges_map[v1].remove(v2)\n",
    "        self.edges_map[v2].remove(v1)\n",
    "        \n",
    "    def RemoveVertex(self, v):\n",
    "        for key in self.edges_map:\n",
    "            try:\n",
    "                self.edges_map[key].remove(v)\n",
    "            except:\n",
    "                pass\n",
    "        \n",
    "        del self.edges_map[v]\n",
    "        self.vertices.remove(v)\n",
    "        \n",
    "    def BFS(self, v):\n",
    "        q = queue.Queue()\n",
    "        q.put(v)\n",
    "        self._bfs([], q)\n",
    "        \n",
    "    def DFS(self, v):\n",
    "        self._dfs([], [v])\n",
    "    \n",
    "        \n",
    "    def _bfs(self, seen, q):\n",
    "        if q.empty():\n",
    "            return\n",
    "        \n",
    "        v = q.get()\n",
    "        \n",
    "        if v not in seen:\n",
    "            seen.append(v)\n",
    "            print(v)\n",
    "            \n",
    "        edges = self.edges_map[v]\n",
    "        \n",
    "        \n",
    "        for edge in edges:\n",
    "            if edge not in seen:\n",
    "                seen.append(edge)\n",
    "                q.put(edge)\n",
    "                print(edge)\n",
    "                \n",
    "        self._bfs(seen, q)\n",
    "        \n",
    "    def _dfs(self, seen, stack):\n",
    "        if len(stack) == 0:\n",
    "            return\n",
    "        \n",
    "        v = stack.pop()\n",
    "        \n",
    "        if v not in seen:\n",
    "            print(v)\n",
    "            seen.append(v)\n",
    "            \n",
    "        edges = self.edges_map[v]\n",
    "        \n",
    "        for edge in edges:\n",
    "            if edge not in seen:\n",
    "                stack.append(edge)\n",
    "        \n",
    "        self._dfs(seen, stack)"
   ]
  },
  {
   "cell_type": "code",
   "execution_count": 10,
   "id": "8fa3a316",
   "metadata": {},
   "outputs": [
    {
     "name": "stdout",
     "output_type": "stream",
     "text": [
      "vertices: [1, 2, 3, 4, 5, 6], edges: {1: [2, 3], 2: [1, 3, 4], 3: [2, 1], 4: [2, 5], 5: [4], 6: []}.\n"
     ]
    }
   ],
   "source": [
    "g = Graph()\n",
    "\n",
    "g.InsertVertex(1)\n",
    "g.InsertVertex(2)\n",
    "g.InsertVertex(3)\n",
    "g.InsertVertex(4)\n",
    "g.InsertVertex(5)\n",
    "g.InsertVertex(6)\n",
    "\n",
    "g.AddEdge(1, 2)\n",
    "g.AddEdge(2, 3)\n",
    "g.AddEdge(1, 3)\n",
    "g.AddEdge(2, 4)\n",
    "g.AddEdge(4, 5)\n",
    "\n",
    "print(f\"vertices: {g.vertices}, edges: {g.edges_map}.\")"
   ]
  },
  {
   "cell_type": "code",
   "execution_count": 11,
   "id": "df62c002",
   "metadata": {},
   "outputs": [
    {
     "name": "stdout",
     "output_type": "stream",
     "text": [
      "1\n",
      "2\n",
      "3\n",
      "4\n",
      "5\n"
     ]
    }
   ],
   "source": [
    "g.BFS(1)"
   ]
  },
  {
   "cell_type": "code",
   "execution_count": 12,
   "id": "db46e709",
   "metadata": {},
   "outputs": [
    {
     "name": "stdout",
     "output_type": "stream",
     "text": [
      "2\n",
      "1\n",
      "3\n",
      "4\n",
      "5\n"
     ]
    }
   ],
   "source": [
    "g.BFS(2)"
   ]
  },
  {
   "cell_type": "code",
   "execution_count": 13,
   "id": "e301027f",
   "metadata": {},
   "outputs": [
    {
     "name": "stdout",
     "output_type": "stream",
     "text": [
      "3\n",
      "2\n",
      "1\n",
      "4\n",
      "5\n"
     ]
    }
   ],
   "source": [
    "g.BFS(3)"
   ]
  },
  {
   "cell_type": "code",
   "execution_count": 14,
   "id": "85eca361",
   "metadata": {},
   "outputs": [
    {
     "name": "stdout",
     "output_type": "stream",
     "text": [
      "4\n",
      "2\n",
      "5\n",
      "1\n",
      "3\n"
     ]
    }
   ],
   "source": [
    "g.BFS(4)"
   ]
  },
  {
   "cell_type": "code",
   "execution_count": 15,
   "id": "c95048c3",
   "metadata": {},
   "outputs": [
    {
     "name": "stdout",
     "output_type": "stream",
     "text": [
      "5\n",
      "4\n",
      "2\n",
      "1\n",
      "3\n"
     ]
    }
   ],
   "source": [
    "g.BFS(5)"
   ]
  },
  {
   "cell_type": "code",
   "execution_count": 16,
   "id": "7bbf2895",
   "metadata": {},
   "outputs": [
    {
     "name": "stdout",
     "output_type": "stream",
     "text": [
      "6\n"
     ]
    }
   ],
   "source": [
    "g.BFS(6)"
   ]
  },
  {
   "cell_type": "code",
   "execution_count": 17,
   "id": "7eb04618",
   "metadata": {},
   "outputs": [
    {
     "name": "stdout",
     "output_type": "stream",
     "text": [
      "1\n",
      "3\n",
      "2\n",
      "4\n",
      "5\n"
     ]
    }
   ],
   "source": [
    "g.DFS(1)"
   ]
  },
  {
   "cell_type": "code",
   "execution_count": 18,
   "id": "087843bb",
   "metadata": {},
   "outputs": [
    {
     "name": "stdout",
     "output_type": "stream",
     "text": [
      "2\n",
      "4\n",
      "5\n",
      "3\n",
      "1\n"
     ]
    }
   ],
   "source": [
    "g.DFS(2)"
   ]
  },
  {
   "cell_type": "code",
   "execution_count": 19,
   "id": "c71d70d0",
   "metadata": {},
   "outputs": [
    {
     "name": "stdout",
     "output_type": "stream",
     "text": [
      "3\n",
      "1\n",
      "2\n",
      "4\n",
      "5\n"
     ]
    }
   ],
   "source": [
    "g.DFS(3)"
   ]
  },
  {
   "cell_type": "code",
   "execution_count": 20,
   "id": "ddcf9aa5",
   "metadata": {},
   "outputs": [
    {
     "name": "stdout",
     "output_type": "stream",
     "text": [
      "4\n",
      "5\n",
      "2\n",
      "3\n",
      "1\n"
     ]
    }
   ],
   "source": [
    "g.DFS(4)"
   ]
  },
  {
   "cell_type": "code",
   "execution_count": 21,
   "id": "ade00d47",
   "metadata": {},
   "outputs": [
    {
     "name": "stdout",
     "output_type": "stream",
     "text": [
      "5\n",
      "4\n",
      "2\n",
      "3\n",
      "1\n"
     ]
    }
   ],
   "source": [
    "g.DFS(5)"
   ]
  },
  {
   "cell_type": "code",
   "execution_count": 22,
   "id": "2a7ec448",
   "metadata": {},
   "outputs": [
    {
     "name": "stdout",
     "output_type": "stream",
     "text": [
      "6\n"
     ]
    }
   ],
   "source": [
    "g.DFS(6)"
   ]
  },
  {
   "cell_type": "markdown",
   "id": "767bd8c3",
   "metadata": {},
   "source": [
    "#### <span style=\"font-weight:bold;font-size:1.9em;color:#0e92ea\">5. Problems</span>"
   ]
  },
  {
   "cell_type": "markdown",
   "id": "da0dbb8e",
   "metadata": {},
   "source": [
    "#### <span style=\"font-weight:bold;font-size:1.9em;color:#0e92ea\">5.1 Validate Binary Search Tree</span>"
   ]
  },
  {
   "cell_type": "code",
   "execution_count": 23,
   "id": "d993372d",
   "metadata": {},
   "outputs": [],
   "source": [
    "class TreeNode:\n",
    "    def __init__(self, val=0, left=None, right=None):\n",
    "        self.val = val\n",
    "        self.left = left\n",
    "        self.right = right"
   ]
  },
  {
   "cell_type": "code",
   "execution_count": 24,
   "id": "1ec18757",
   "metadata": {},
   "outputs": [
    {
     "ename": "NameError",
     "evalue": "name 'Optional' is not defined",
     "output_type": "error",
     "traceback": [
      "\u001b[0;31m---------------------------------------------------------------------------\u001b[0m",
      "\u001b[0;31mNameError\u001b[0m                                 Traceback (most recent call last)",
      "\u001b[0;32m/var/folders/1q/t9wdt3zs6710cmrbv_2s47_00000gn/T/ipykernel_2691/2436280737.py\u001b[0m in \u001b[0;36m<module>\u001b[0;34m\u001b[0m\n\u001b[0;32m----> 1\u001b[0;31m \u001b[0;32mclass\u001b[0m \u001b[0mSolution\u001b[0m\u001b[0;34m:\u001b[0m\u001b[0;34m\u001b[0m\u001b[0;34m\u001b[0m\u001b[0m\n\u001b[0m\u001b[1;32m      2\u001b[0m     \u001b[0;32mdef\u001b[0m \u001b[0misValidBST\u001b[0m\u001b[0;34m(\u001b[0m\u001b[0mself\u001b[0m\u001b[0;34m,\u001b[0m \u001b[0mroot\u001b[0m\u001b[0;34m:\u001b[0m \u001b[0mOptional\u001b[0m\u001b[0;34m[\u001b[0m\u001b[0mTreeNode\u001b[0m\u001b[0;34m]\u001b[0m\u001b[0;34m)\u001b[0m \u001b[0;34m->\u001b[0m \u001b[0mbool\u001b[0m\u001b[0;34m:\u001b[0m\u001b[0;34m\u001b[0m\u001b[0;34m\u001b[0m\u001b[0m\n\u001b[1;32m      3\u001b[0m         \u001b[0mstack\u001b[0m \u001b[0;34m=\u001b[0m \u001b[0;34m[\u001b[0m\u001b[0;34m]\u001b[0m\u001b[0;34m\u001b[0m\u001b[0;34m\u001b[0m\u001b[0m\n\u001b[1;32m      4\u001b[0m         \u001b[0mcurrentNode\u001b[0m \u001b[0;34m=\u001b[0m \u001b[0mroot\u001b[0m\u001b[0;34m\u001b[0m\u001b[0;34m\u001b[0m\u001b[0m\n\u001b[1;32m      5\u001b[0m         \u001b[0mprevNode\u001b[0m \u001b[0;34m=\u001b[0m \u001b[0;32mNone\u001b[0m\u001b[0;34m\u001b[0m\u001b[0;34m\u001b[0m\u001b[0m\n",
      "\u001b[0;32m/var/folders/1q/t9wdt3zs6710cmrbv_2s47_00000gn/T/ipykernel_2691/2436280737.py\u001b[0m in \u001b[0;36mSolution\u001b[0;34m()\u001b[0m\n\u001b[1;32m      1\u001b[0m \u001b[0;32mclass\u001b[0m \u001b[0mSolution\u001b[0m\u001b[0;34m:\u001b[0m\u001b[0;34m\u001b[0m\u001b[0;34m\u001b[0m\u001b[0m\n\u001b[0;32m----> 2\u001b[0;31m     \u001b[0;32mdef\u001b[0m \u001b[0misValidBST\u001b[0m\u001b[0;34m(\u001b[0m\u001b[0mself\u001b[0m\u001b[0;34m,\u001b[0m \u001b[0mroot\u001b[0m\u001b[0;34m:\u001b[0m \u001b[0mOptional\u001b[0m\u001b[0;34m[\u001b[0m\u001b[0mTreeNode\u001b[0m\u001b[0;34m]\u001b[0m\u001b[0;34m)\u001b[0m \u001b[0;34m->\u001b[0m \u001b[0mbool\u001b[0m\u001b[0;34m:\u001b[0m\u001b[0;34m\u001b[0m\u001b[0;34m\u001b[0m\u001b[0m\n\u001b[0m\u001b[1;32m      3\u001b[0m         \u001b[0mstack\u001b[0m \u001b[0;34m=\u001b[0m \u001b[0;34m[\u001b[0m\u001b[0;34m]\u001b[0m\u001b[0;34m\u001b[0m\u001b[0;34m\u001b[0m\u001b[0m\n\u001b[1;32m      4\u001b[0m         \u001b[0mcurrentNode\u001b[0m \u001b[0;34m=\u001b[0m \u001b[0mroot\u001b[0m\u001b[0;34m\u001b[0m\u001b[0;34m\u001b[0m\u001b[0m\n\u001b[1;32m      5\u001b[0m         \u001b[0mprevNode\u001b[0m \u001b[0;34m=\u001b[0m \u001b[0;32mNone\u001b[0m\u001b[0;34m\u001b[0m\u001b[0;34m\u001b[0m\u001b[0m\n",
      "\u001b[0;31mNameError\u001b[0m: name 'Optional' is not defined"
     ]
    }
   ],
   "source": [
    "class Solution:        \n",
    "    def isValidBST(self, root: Optional[TreeNode]) -> bool:\n",
    "        stack = []\n",
    "        currentNode = root\n",
    "        prevNode = None\n",
    "        while len(stack) > 0 or currentNode is not None:\n",
    "            while currentNode is not None:\n",
    "                stack.append(currentNode)\n",
    "                currentNode = currentNode.left\n",
    "            \n",
    "            currentNode = stack.pop()\n",
    "            \n",
    "            if prevNode is not None and prevNode.val >= currentNode.val:\n",
    "                return False\n",
    "            \n",
    "            prevNode = currentNode\n",
    "            currentNode = currentNode.right\n",
    "            \n",
    "        return True"
   ]
  },
  {
   "cell_type": "markdown",
   "id": "f943017a",
   "metadata": {},
   "source": [
    "#### <span style=\"font-weight:bold;font-size:1.9em;color:#0e92ea\">5.2 Symmetric Tree</span>"
   ]
  },
  {
   "cell_type": "code",
   "execution_count": null,
   "id": "f17d5cc8",
   "metadata": {},
   "outputs": [],
   "source": [
    "class Solution:\n",
    "    def isSymmetric(self, root: Optional[TreeNode]) -> bool:\n",
    "        if root is None:\n",
    "            return True\n",
    "        \n",
    "        leftTree  = root.left\n",
    "        rightTree = root.right\n",
    "        \n",
    "        stack = []\n",
    "        \n",
    "        while len(stack) > 0 or self.TreesNotEmpty(leftTree, rightTree):\n",
    "            \n",
    "            while self.TreesNotEmpty(leftTree, rightTree):\n",
    "                if leftTree.val != rightTree.val:\n",
    "                    return False\n",
    "            \n",
    "                stack.append(leftTree)\n",
    "                stack.append(rightTree)\n",
    "                \n",
    "                leftTree = leftTree.left\n",
    "                rightTree = rightTree.right\n",
    "                \n",
    "            if leftTree != rightTree:\n",
    "                return False\n",
    "\n",
    "            \n",
    "            rightTree = stack.pop()\n",
    "            leftTree = stack.pop()\n",
    "            \n",
    "            leftTree = leftTree.right\n",
    "            rightTree = rightTree.left\n",
    "            \n",
    "        if leftTree != rightTree:\n",
    "            return False\n",
    "        else:\n",
    "            return True\n",
    "    \n",
    "    \n",
    "    def TreesNotEmpty(self, leftTree, rightTree):\n",
    "        return (leftTree is not None) and (rightTree is not None)"
   ]
  },
  {
   "cell_type": "code",
   "execution_count": null,
   "id": "bc278dc5",
   "metadata": {},
   "outputs": [],
   "source": [
    "travesal = {\n",
    "    1: [1],\n",
    "    2: [2]\n",
    "}\n",
    "\n",
    "list(travesal.values())"
   ]
  },
  {
   "cell_type": "code",
   "execution_count": null,
   "id": "be57b863",
   "metadata": {},
   "outputs": [],
   "source": [
    "print(round(1%2))"
   ]
  },
  {
   "cell_type": "markdown",
   "id": "3688d4a0",
   "metadata": {},
   "source": [
    "#### <span style=\"font-weight:bold;font-size:1.9em;color:#0e92ea\">5.3 Binary Tree Level Order</span>"
   ]
  },
  {
   "cell_type": "code",
   "execution_count": null,
   "id": "8aea9e6c",
   "metadata": {},
   "outputs": [],
   "source": [
    "class Solution:\n",
    "    def __init__(self):\n",
    "        self.results = {}\n",
    "        \n",
    "    def levelOrder(self, root: Optional[TreeNode], height = 1) -> List[List[int]]:\n",
    "        \n",
    "        if root is None:\n",
    "            return\n",
    "        \n",
    "        if height in self.results:\n",
    "            self.results[height].append(root.val)\n",
    "        else:\n",
    "            self.results[height] = [root.val]\n",
    "        \n",
    "        self.levelOrder(root.left, height + 1)\n",
    "        self.levelOrder(root.right, height + 1)\n",
    "        \n",
    "        return list(self.results.values())"
   ]
  },
  {
   "cell_type": "markdown",
   "id": "3222d3b4",
   "metadata": {},
   "source": [
    "#### <span style=\"font-weight:bold;font-size:1.9em;color:#0e92ea\">5.4 Binary Tree Zig Zag Order</span>"
   ]
  },
  {
   "cell_type": "code",
   "execution_count": null,
   "id": "5993020e",
   "metadata": {},
   "outputs": [],
   "source": [
    "class Solution:\n",
    "    def __init__(self):\n",
    "        self.results = {}\n",
    "        \n",
    "    def zigzagLevelOrder(self, root: Optional[TreeNode], height = 1) -> List[List[int]]:\n",
    "        if root is None:\n",
    "            return\n",
    "        \n",
    "        self.Append(height, root.val)\n",
    "\n",
    "        self.zigzagLevelOrder(root.right, height + 1)\n",
    "                    \n",
    "        self.zigzagLevelOrder(root.left, height + 1)\n",
    "\n",
    "\n",
    "        return list(self.results.values())\n",
    "    \n",
    "    \n",
    "    def Append(self, height, val):\n",
    "        if height in self.results:\n",
    "            if height % 2 == 0:\n",
    "                self.results[height].append(val)\n",
    "            else:\n",
    "                self.results[height].insert(0, val)\n",
    "        else:\n",
    "            self.results[height] = [val]"
   ]
  },
  {
   "cell_type": "markdown",
   "id": "e27eadf8",
   "metadata": {},
   "source": [
    "#### <span style=\"font-weight:bold;font-size:1.9em;color:#0e92ea\">5.5 Word Ladder II</span>"
   ]
  },
  {
   "cell_type": "code",
   "execution_count": 75,
   "id": "6638c57a",
   "metadata": {},
   "outputs": [],
   "source": [
    "import queue\n",
    "import json\n",
    "\n",
    "class Node:\n",
    "    def __init__(self, word, parent = None):\n",
    "        self.word = word\n",
    "        self.height = 0\n",
    "\n",
    "class Graph:\n",
    "    \n",
    "    def __init__(self, start_word, end_word, word_list):\n",
    "        self.edges = {}\n",
    "        self.vertices = {}\n",
    "        self.start_word = start_word\n",
    "        self.end_word = end_word\n",
    "        self.word_list = word_list.copy()\n",
    "        self.results = []\n",
    "        self.min_height = 0\n",
    "        \n",
    "        word_list.insert(0, start_word)\n",
    "        \n",
    "        for word in word_list:\n",
    "            self.add_vertex(word)\n",
    "        \n",
    "        self.vertices[self.start_word].height = 1\n",
    "        self.build_graph(self.start_word, [], [])\n",
    "   \n",
    "    def build_graph(self, word, ladder = [], seen = []):\n",
    "        if word in seen:\n",
    "            return\n",
    "        \n",
    "        v = self.vertices[word]\n",
    "        seen.append(v.word)\n",
    "        \n",
    "        if v.word == self.end_word:\n",
    "            new_ladder = ladder + [self.end_word]\n",
    "            if len(self.results) == 0:\n",
    "                self.min_height = len(new_ladder)\n",
    "                self.results.append(new_ladder)\n",
    "            elif len(new_ladder) < self.min_height:\n",
    "                self.results = [new_ladder]\n",
    "                self.min_height = len(new_ladder)\n",
    "            elif len(new_ladder) == self.min_height:\n",
    "                self.results.append(new_ladder)\n",
    "        else:\n",
    "            new_ladder = ladder.copy()\n",
    "            new_ladder.append(word)\n",
    "            \n",
    "            for word in self.word_list:\n",
    "                if word not in seen:\n",
    "                    self.add_edge(v.word, word)\n",
    "            \n",
    "            for edge in self.edges[v.word]:\n",
    "                self.build_graph(edge, new_ladder, seen.copy())\n",
    "        \n",
    "    def add_edge(self, v1, v2):\n",
    "        v1 = self.vertices[v1]\n",
    "        v2 = self.vertices[v2]\n",
    "        if self.can_connect(v1, v2) and v2.word not in self.edges[v1.word]:\n",
    "            self.edges[v1.word].append(v2.word)\n",
    "            self.vertices[v2.word].height = v1.height + 1\n",
    "            self.vertices[v2.word].seen = False\n",
    "            self.vertices[v2.word].parent = v1.word\n",
    "            return True\n",
    "        else:\n",
    "            return False\n",
    "    \n",
    "    def add_vertex(self, v):\n",
    "        if v not in self.vertices:\n",
    "            self.vertices[v] = Node(v)\n",
    "            self.edges[v] = []\n",
    "            \n",
    "    def can_connect(self, v1, v2):\n",
    "        word_2 = v2.word\n",
    "        for char in v1.word:\n",
    "            word_2 = word_2.replace(char, \"\", 1)\n",
    "            \n",
    "        has_valid_height = v2.height == 0 or v2.height > v1.height or v2.word == self.end_word\n",
    "        return has_valid_height and len(word_2) == 1\n",
    "        \n",
    "class Solution:    \n",
    "    def findLadders(self, beginWord, endWord, wordList):\n",
    "        return Graph(beginWord, endWord, wordList).results"
   ]
  },
  {
   "cell_type": "code",
   "execution_count": 76,
   "id": "33ce984f",
   "metadata": {},
   "outputs": [
    {
     "name": "stdout",
     "output_type": "stream",
     "text": [
      "hit-hit\n",
      "hit.ladder=['hit']\n",
      "hit.Add(hot, 2)\n",
      "hit-hot\n",
      "hot.ladder=['hit', 'hot']\n",
      "hot.Add(dot, 3)\n",
      "hot.Add(lot, 3)\n",
      "hot-lot\n",
      "lot.ladder=['hit', 'hot', 'lot']\n",
      "lot.Add(log, 4)\n",
      "lot-log\n",
      "log.ladder=['hit', 'hot', 'lot', 'log']\n",
      "log.Add(cog, 5)\n",
      "cog.ladder=['hit', 'hot', 'lot', 'log', 'cog']\n",
      "log-dot\n",
      "dot.ladder=['hit', 'hot', 'lot', 'log', 'dot']\n",
      "dot.Add(dog, 4)\n",
      "dot-dog\n",
      "dog.ladder=['hit', 'hot', 'lot', 'log', 'dot', 'dog']\n",
      "dog.Add(cog, 5)\n",
      "cog.ladder=['hit', 'hot', 'lot', 'log', 'dot', 'dog', 'cog']\n"
     ]
    },
    {
     "data": {
      "text/plain": [
       "[['hit', 'hot', 'lot', 'log', 'cog'],\n",
       " ['hit', 'hot', 'lot', 'log', 'dot', 'dog', 'cog']]"
      ]
     },
     "execution_count": 76,
     "metadata": {},
     "output_type": "execute_result"
    }
   ],
   "source": [
    "beginWord=\"hit\"\n",
    "endWord=\"cog\"\n",
    "wordList=[\"hot\",\"dot\",\"dog\",\"lot\",\"log\",\"cog\"]\n",
    "\n",
    "wordladder = Solution()\n",
    "wordladder.findLadders(beginWord, endWord, wordList)\n"
   ]
  },
  {
   "cell_type": "code",
   "execution_count": null,
   "id": "99a40952",
   "metadata": {},
   "outputs": [],
   "source": []
  }
 ],
 "metadata": {
  "kernelspec": {
   "display_name": "Python 3 (ipykernel)",
   "language": "python",
   "name": "python3"
  },
  "language_info": {
   "codemirror_mode": {
    "name": "ipython",
    "version": 3
   },
   "file_extension": ".py",
   "mimetype": "text/x-python",
   "name": "python",
   "nbconvert_exporter": "python",
   "pygments_lexer": "ipython3",
   "version": "3.9.7"
  }
 },
 "nbformat": 4,
 "nbformat_minor": 5
}

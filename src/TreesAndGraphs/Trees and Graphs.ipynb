{
 "cells": [
  {
   "cell_type": "markdown",
   "id": "b9cac36c",
   "metadata": {},
   "source": [
    "## <span style=\"font-weight:bold;font-size:1.9em;color:#0e92ea\">Trees and Graphs</span>\n",
    "\n",
    "#### <span style=\"font-weight:bold;font-size:1.9em;color:#0e92ea\">Content</span>\n",
    "\n",
    "<ol style=\"color:#0e92ea\">\n",
    "    <li>Binary Trees</li>\n",
    "    <li>Tries Trees</li>\n",
    "    <li>Heaps</li>\n",
    "    <li>Graphs</li>\n",
    "</ol>"
   ]
  },
  {
   "cell_type": "code",
   "execution_count": 1,
   "id": "531ac04d",
   "metadata": {},
   "outputs": [
    {
     "name": "stdout",
     "output_type": "stream",
     "text": [
      "Loading Libary Subfolder: ../TreesAndGraphs\n",
      "Loading Libary Subfolder: ../ObjectOrientedProgramming\n",
      "Loading Libary Subfolder: ../UnitTests\n",
      "Loading Libary Subfolder: ../Common\n",
      "Loading Libary Subfolder: ../Sorting\n",
      "Loading Libary Subfolder: ../DynamicProgramming\n",
      "Loading Libary Subfolder: ../LinkedLists\n",
      "importing Jupyter notebook from ../LinkedLists/LinkedLists.ipynb\n",
      "current Node 1\n",
      "current Node 2\n",
      "current Node 3\n",
      "current Node 3\n",
      "current Node 3\n"
     ]
    }
   ],
   "source": [
    "import sys\n",
    "sys.path.insert(1, '../common/')\n",
    "\n",
    "import LoadNotebookHelper # Enables Jupyter to import exterbal notebooks as modules\n",
    "import queue\n",
    "from pyvis import network\n",
    "from pyvis.network import Network\n",
    "import networkx as nx\n",
    "import matplotlib.pyplot as plt\n",
    "from LinkedLists import Node\n",
    "from abc import ABC, abstractmethod\n",
    "import json\n",
    "from dataclasses import dataclass\n",
    "import pprint\n",
    "from IPython.display import IFrame\n",
    "%matplotlib inline"
   ]
  },
  {
   "cell_type": "markdown",
   "id": "dcf6fcfa",
   "metadata": {},
   "source": [
    "#### <span style=\"font-weight:bold;font-size:1.9em;color:#0e92ea\">1. Binary Trees</span>"
   ]
  },
  {
   "cell_type": "code",
   "execution_count": 2,
   "id": "baecfe73",
   "metadata": {},
   "outputs": [
    {
     "data": {
      "text/plain": [
       "{\n",
       "  \"Value\": 1,\n",
       "  \"Left\": null,\n",
       "  \"Right\": null\n",
       "}"
      ]
     },
     "execution_count": 2,
     "metadata": {},
     "output_type": "execute_result"
    }
   ],
   "source": [
    "class BSTNode(Node):\n",
    "    \n",
    "    def __init__(self, value = 0, left = None, right = None):\n",
    "        self.Value = value\n",
    "        self.Left  = left\n",
    "        self.Right = right\n",
    "        \n",
    "    def __str__(self):\n",
    "        return json.dumps(self, default=lambda o: o.__dict__, indent=2)\n",
    "    \n",
    "    def __repr__(self):\n",
    "        return self.__str__()\n",
    "    \n",
    "    def Process(self):\n",
    "        self.Visit()\n",
    "\n",
    "node = BSTNode(1)\n",
    "node"
   ]
  },
  {
   "cell_type": "code",
   "execution_count": 28,
   "id": "03ccc62d",
   "metadata": {},
   "outputs": [],
   "source": [
    "class BinaryTree:\n",
    "    \n",
    "    def __init__(self):\n",
    "        self.Root = None\n",
    "    \n",
    "    def Insert(self, value):\n",
    "        if self.Root is None:\n",
    "            self.Root = BSTNode(value)\n",
    "        else:\n",
    "            self._Insert(self.Root, BSTNode(value))\n",
    "            \n",
    "    def _Insert(self, currentNode, newNode):\n",
    "        if currentNode is None:\n",
    "            return\n",
    "        \n",
    "        if newNode < currentNode:\n",
    "            if currentNode.Left is None:\n",
    "                currentNode.Left = newNode\n",
    "                return\n",
    "            else:\n",
    "                self._Insert(currentNode.Left, newNode)\n",
    "        elif currentNode.Right is None:\n",
    "            currentNode.Right = newNode\n",
    "            return\n",
    "        else:\n",
    "            self._Insert(currentNode.Right, newNode)\n",
    "\n",
    "    def Remove(self, value):\n",
    "        if self.Root.Value == value:\n",
    "            self.Root = self.__ReplaceNodeHelper(self.Root)\n",
    "        else:\n",
    "            self._Remove(self.Root, value)\n",
    "    \n",
    "    def _Remove(self, currentNode, value):\n",
    "        if currentNode is None:\n",
    "            return\n",
    "        \n",
    "        if currentNode.Left.Value == value:\n",
    "            currentNode.Left = self.__ReplaceNodeHelper(currentNode.Left)\n",
    "            return\n",
    "        elif currentNode.Right.Value == value:\n",
    "            currentNode.Right = self.__ReplaceNodeHelper(currentNode.Right)\n",
    "            return\n",
    "        else:\n",
    "            if value < currentNode.Value:\n",
    "                return self.Remove(currentNode.Left, value)\n",
    "            else:\n",
    "                return self.Remove(currentNode.Right, value)\n",
    "    \n",
    "    def __ReplaceNodeHelper(self, targetNode):\n",
    "        if targetNode.Left is not None:\n",
    "            rightSubtree = targetNode.Right\n",
    "            targetNode = targetNode.Left\n",
    "            self._Insert(targetNode, rightSubtree)\n",
    "        elif currentNode.Left.Right is not None:\n",
    "            leftSubtree = targetNode.Left\n",
    "            targetNode = targetNode.Right\n",
    "            self._Insert(targetNode, leftSubtree)\n",
    "        else:\n",
    "            targetNode = None\n",
    "        return targetNode\n",
    "\n",
    "    def InOrderTraversal(self):\n",
    "        self._InOrderTraversal(self.Root)\n",
    "    \n",
    "    def IsLeafeNode(node):\n",
    "        return node.Left is None and node.Right is None\n",
    "    \n",
    "    def _InOrderTraversal(self, node):\n",
    "        if node is None:\n",
    "            return\n",
    "        \n",
    "        print(node.Value)\n",
    "        self._InOrderTraversal(node.Left)\n",
    "        self._InOrderTraversal(node.Right)\n",
    "    \n",
    "    def InOrderTraversalIter(self):\n",
    "        currentNode = self.Root\n",
    "        stack  = []\n",
    "        results = \"\"\n",
    "        while len(stack) > 0 or currentNode is not None:\n",
    "            while currentNode is not None:\n",
    "                stack.append(currentNode)\n",
    "                currentNode = currentNode.Left\n",
    "                \n",
    "            currentNode = stack.pop()\n",
    "            if currentNode is not None:\n",
    "                print(f\"parent: {currentNode.Value}\")\n",
    "            results +=f\", {currentNode.Value}\"\n",
    "            print(results)\n",
    "            currentNode = currentNode.Right\n",
    "        return results\n",
    "        "
   ]
  },
  {
   "cell_type": "code",
   "execution_count": 29,
   "id": "d70fa5c9",
   "metadata": {},
   "outputs": [
    {
     "name": "stdout",
     "output_type": "stream",
     "text": [
      "parent: 3\n",
      ", 3\n",
      "parent: 4\n",
      ", 3, 4\n",
      "parent: 5\n",
      ", 3, 4, 5\n",
      "parent: 6\n",
      ", 3, 4, 5, 6\n",
      "parent: 7\n",
      ", 3, 4, 5, 6, 7\n",
      "parent: 8\n",
      ", 3, 4, 5, 6, 7, 8\n",
      "parent: 9\n",
      ", 3, 4, 5, 6, 7, 8, 9\n"
     ]
    },
    {
     "data": {
      "text/plain": [
       "', 3, 4, 5, 6, 7, 8, 9'"
      ]
     },
     "execution_count": 29,
     "metadata": {},
     "output_type": "execute_result"
    }
   ],
   "source": [
    "bst = BinaryTree()\n",
    "bst.Insert(6)\n",
    "bst.Insert(4)\n",
    "bst.Insert(3)\n",
    "bst.Insert(5)\n",
    "bst.Insert(8)\n",
    "bst.Insert(7)\n",
    "bst.Insert(9)\n",
    "bst.InOrderTraversalIter()"
   ]
  },
  {
   "cell_type": "markdown",
   "id": "660f32f6",
   "metadata": {},
   "source": [
    "#### <span style=\"font-weight:bold;font-size:1.9em;color:#0e92ea\">2. Tries Trees</span>"
   ]
  },
  {
   "cell_type": "code",
   "execution_count": null,
   "id": "3035f67c",
   "metadata": {},
   "outputs": [],
   "source": []
  },
  {
   "cell_type": "markdown",
   "id": "59739504",
   "metadata": {},
   "source": [
    "#### <span style=\"font-weight:bold;font-size:1.9em;color:#0e92ea\">3. Heaps</span>\n",
    "\n",
    "$\n",
    "{- leftChild(i) = 2 * i}\n",
    "$\n",
    "\n",
    "$\n",
    "{- rightChild(i) = 2*i + 1}\n",
    "$\n",
    "\n",
    "$\n",
    "{- parent(i) = i/2}\n",
    "$"
   ]
  },
  {
   "cell_type": "code",
   "execution_count": 5,
   "id": "1745f492",
   "metadata": {},
   "outputs": [],
   "source": [
    "class MeanHeap:\n",
    "    \n",
    "    def __init__(self, maxSize = 20):\n",
    "        self.Data = [None]\n",
    "        self.MaxSize = maxSize\n",
    "        \n",
    "    def getSize(self):\n",
    "        return len(self.Data)-1\n",
    "    \n",
    "    def isFull(self):\n",
    "        return len(self.Data) == self.MaxSize\n",
    "        \n",
    "    def isEmpty(self):\n",
    "        return len(self.Data) == 1\n",
    "         \n",
    "    def removeMax(self):\n",
    "        if self.isEmpty():\n",
    "            return\n",
    "        \n",
    "        top = self.Data[1]\n",
    "        newTop = self.Data.pop()\n",
    "        self.Data[1] = newTop\n",
    "        self.heapify(1)\n",
    "        return top\n",
    "    \n",
    "    def insert(self, value):\n",
    "        self.Data.append(value)\n",
    "        i = self.getSize()\n",
    "        \n",
    "        while i > 1 and value < self.Data[self.parent(i)]:\n",
    "            temp = self.Data[self.parent(i)]\n",
    "            self.Data[self.parent(i)] = value\n",
    "            self.Data[i] = temp\n",
    "            i = self.parent(i)\n",
    "    \n",
    "    def heapify(self, i):\n",
    "        child = self.leftChild(i)\n",
    "        while child < self.getSize():\n",
    "            \n",
    "            if self.Data[i] > self.Data[child]:\n",
    "                self.swap(i, child)\n",
    "                i = child\n",
    "                child = self.leftChild(i)\n",
    "            else:\n",
    "                return\n",
    "        \n",
    "    def leftChild(self, i):\n",
    "        return i * 2\n",
    "    \n",
    "    def rightChild(self, i):\n",
    "        return i * 2 + 1\n",
    "\n",
    "    def parent(self, i):\n",
    "        return int(i/2)\n",
    "    \n",
    "    def swap(self, i, j):\n",
    "        temp = self.Data[i]\n",
    "        self.Data[i] = self.Data[j]\n",
    "        self.Data[j] = temp\n",
    "        \n",
    "    def __str__(self):\n",
    "        return json.dumps(self, default=lambda o: o.__dict__, indent=2)\n",
    "        \n",
    "    def __repr__(self):\n",
    "        return self.__str__()"
   ]
  },
  {
   "cell_type": "code",
   "execution_count": 6,
   "id": "74e31b25",
   "metadata": {},
   "outputs": [
    {
     "data": {
      "text/plain": [
       "{\n",
       "  \"Data\": [\n",
       "    null,\n",
       "    5,\n",
       "    6,\n",
       "    7,\n",
       "    8,\n",
       "    9,\n",
       "    10,\n",
       "    11\n",
       "  ],\n",
       "  \"MaxSize\": 20\n",
       "}"
      ]
     },
     "execution_count": 6,
     "metadata": {},
     "output_type": "execute_result"
    }
   ],
   "source": [
    "heap = MeanHeap()\n",
    "heap.insert(5)\n",
    "heap.insert(6)\n",
    "heap.insert(7)\n",
    "heap.insert(8)\n",
    "heap.insert(9)\n",
    "heap.insert(10)\n",
    "heap.insert(11)\n",
    "heap"
   ]
  },
  {
   "cell_type": "code",
   "execution_count": 7,
   "id": "50a94056",
   "metadata": {},
   "outputs": [
    {
     "data": {
      "text/plain": [
       "{\n",
       "  \"Data\": [\n",
       "    null,\n",
       "    4,\n",
       "    5,\n",
       "    7,\n",
       "    6,\n",
       "    9,\n",
       "    10,\n",
       "    11,\n",
       "    8\n",
       "  ],\n",
       "  \"MaxSize\": 20\n",
       "}"
      ]
     },
     "execution_count": 7,
     "metadata": {},
     "output_type": "execute_result"
    }
   ],
   "source": [
    "heap.insert(4)\n",
    "heap"
   ]
  },
  {
   "cell_type": "code",
   "execution_count": 8,
   "id": "c533e394",
   "metadata": {},
   "outputs": [
    {
     "data": {
      "text/plain": [
       "{\n",
       "  \"Data\": [\n",
       "    null,\n",
       "    5,\n",
       "    6,\n",
       "    7,\n",
       "    8,\n",
       "    9,\n",
       "    10,\n",
       "    11\n",
       "  ],\n",
       "  \"MaxSize\": 20\n",
       "}"
      ]
     },
     "execution_count": 8,
     "metadata": {},
     "output_type": "execute_result"
    }
   ],
   "source": [
    "heap.removeMax()\n",
    "heap"
   ]
  },
  {
   "cell_type": "markdown",
   "id": "ac08b018",
   "metadata": {},
   "source": [
    "#### <span style=\"font-weight:bold;font-size:1.9em;color:#0e92ea\">4. Graphs</span>"
   ]
  },
  {
   "cell_type": "code",
   "execution_count": 9,
   "id": "8b22314a",
   "metadata": {},
   "outputs": [
    {
     "data": {
      "text/plain": [
       "{\"Node\": 1, \"Visited\": false}"
      ]
     },
     "execution_count": 9,
     "metadata": {},
     "output_type": "execute_result"
    }
   ],
   "source": [
    "class GraphNode(Node):\n",
    "    \n",
    "    def toJSON(self):\n",
    "        return self.__str_()\n",
    "    \n",
    "    def __str__(self):\n",
    "        return json.dumps({\n",
    "            \"Node\"    : self.Value,\n",
    "            \"Visited\" : self.IsVisited() \n",
    "        })\n",
    "    \n",
    "    def __repr__(self):\n",
    "        return self.__str__()\n",
    "    \n",
    "    def Process(self):\n",
    "        self.Visit()\n",
    "        \n",
    "node = GraphNode(1)\n",
    "node"
   ]
  },
  {
   "cell_type": "code",
   "execution_count": 10,
   "id": "3c2de52d",
   "metadata": {},
   "outputs": [],
   "source": [
    "class UndirectedGraph(ABC):\n",
    "    \n",
    "    def __init__(self):\n",
    "        self._edges = {}\n",
    "        self._vertices = {}\n",
    "    \n",
    "    def __str__(self):\n",
    "        return json.dumps(self, default=lambda o: o.__dict__, indent=2)\n",
    "        \n",
    "    def __repr__(self):\n",
    "        return self.__str__()\n",
    "    \n",
    "    def AddVertex(self, vertex_id):\n",
    "        if vertex_id not in self._vertices:\n",
    "            self._vertices[vertex_id] = GraphNode(vertex_id)\n",
    "            self._edges[vertex_id] = []\n",
    "            \n",
    "    def AddEdge(self, from_vertex, to_vertex):\n",
    "        if from_vertex in self._vertices and to_vertex not in self._edges[from_vertex]:\n",
    "            self._edges[from_vertex].append(to_vertex)\n",
    "        if to_vertex in self._vertices and from_vertex not in self._edges[to_vertex]:\n",
    "            self._edges[to_vertex].append(from_vertex)\n",
    "    \n",
    "    def BFS(self):\n",
    "        pendingNodesQueue = queue.Queue()\n",
    "        start_node_id = list(self._edges.keys())[0]\n",
    "        pendingNodesQueue.put(start_node_id)\n",
    "        self._vertices[start_node_id].Visit()\n",
    "        return self._BFS(start_node_id, start_node_id, pendingNodesQueue, [])\n",
    "        \n",
    "    def _BFS(self, results, current_node_id, pendingNodesQueue, visited):\n",
    "        if pendingNodesQueue.empty():\n",
    "            return results\n",
    "        \n",
    "        adjacent_nodes_ids =  self._edges[current_node_id]\n",
    "        \n",
    "        for neighbhor_node_id in adjacent_nodes_ids:\n",
    "            if neighbhor_node_id not in visited:\n",
    "                pendingNodesQueue.put(neighbhor_node_id)\n",
    "                visited.append(neighbhor_node_id)\n",
    "                results = f\"{results}, {neighbhor_node_id}\"\n",
    "                \n",
    "        next_node_id  = pendingNodesQueue.get()\n",
    "        return self._BFS(results, next_node_id, pendingNodesQueue, visited)\n",
    "    \n",
    "    def DFS(self):\n",
    "        start_node_id = list(self._edges.keys())[0]\n",
    "        stack = [start_node_id]\n",
    "        return self._DFS(\"\", stack, [])\n",
    "    \n",
    "    def _DFS(self, results, stack, seen):\n",
    "        if not stack:\n",
    "            return results\n",
    "        \n",
    "        currNodeId = stack.pop()\n",
    "        seen.append(currNodeId)\n",
    "        \n",
    "        results = f\"{results}, {currNodeId}\"\n",
    "        \n",
    "        currNodeEdges = self._edges[currNodeId]\n",
    "        \n",
    "        for nodeId in currNodeEdges:\n",
    "            if nodeId not in seen and nodeId not in stack:\n",
    "                stack.append(nodeId)\n",
    "        \n",
    "        return self._DFS(results, stack, seen)"
   ]
  },
  {
   "cell_type": "code",
   "execution_count": 11,
   "id": "8fa3a316",
   "metadata": {},
   "outputs": [],
   "source": [
    "def BuildGraph():\n",
    "    graph = UndirectedGraph()\n",
    "    graph.AddVertex(1)\n",
    "    graph.AddVertex(2)\n",
    "    graph.AddVertex(3)\n",
    "    graph.AddVertex(4)\n",
    "    graph.AddVertex(5)\n",
    "    graph.AddVertex(6)\n",
    "    graph.AddVertex(7)\n",
    "    graph.AddVertex(8)\n",
    "    graph.AddVertex(9)\n",
    "    graph.AddVertex(10)\n",
    "    graph.AddEdge(1, 2)\n",
    "    graph.AddEdge(1, 3)\n",
    "    graph.AddEdge(1, 4)\n",
    "\n",
    "    graph.AddEdge(2, 1)\n",
    "    graph.AddEdge(2, 5)\n",
    "    graph.AddEdge(2, 6)\n",
    "    graph.AddEdge(2, 7)\n",
    "\n",
    "    graph.AddEdge(3, 1)\n",
    "    graph.AddEdge(3, 7)\n",
    "\n",
    "    graph.AddEdge(4, 1)\n",
    "    graph.AddEdge(4, 9)\n",
    "    graph.AddEdge(4, 10)\n",
    "\n",
    "    graph.AddEdge(5, 2)\n",
    "    graph.AddEdge(5, 8)\n",
    "\n",
    "    graph.AddEdge(6, 2)\n",
    "    graph.AddEdge(6, 8)\n",
    "\n",
    "    graph.AddEdge(7, 2)\n",
    "    graph.AddEdge(7, 3)\n",
    "\n",
    "    graph.AddEdge(8, 5)\n",
    "    graph.AddEdge(8, 6)\n",
    "\n",
    "    graph.AddEdge(9, 4)\n",
    "    graph.AddEdge(9, 10)\n",
    "\n",
    "    graph.AddEdge(10, 4)\n",
    "    graph.AddEdge(10, 9)\n",
    "    return graph"
   ]
  },
  {
   "cell_type": "code",
   "execution_count": 12,
   "id": "df62c002",
   "metadata": {},
   "outputs": [
    {
     "data": {
      "text/plain": [
       "'1, 2, 3, 4, 1, 5, 6, 7, 9, 10, 8'"
      ]
     },
     "execution_count": 12,
     "metadata": {},
     "output_type": "execute_result"
    }
   ],
   "source": [
    "graph = BuildGraph()\n",
    "graph.BFS()"
   ]
  },
  {
   "cell_type": "code",
   "execution_count": 13,
   "id": "db46e709",
   "metadata": {},
   "outputs": [
    {
     "data": {
      "text/plain": [
       "', 1, 4, 10, 9, 3, 7, 2, 6, 8, 5'"
      ]
     },
     "execution_count": 13,
     "metadata": {},
     "output_type": "execute_result"
    }
   ],
   "source": [
    "graph = BuildGraph()\n",
    "graph.DFS()"
   ]
  },
  {
   "cell_type": "markdown",
   "id": "767bd8c3",
   "metadata": {},
   "source": [
    "#### <span style=\"font-weight:bold;font-size:1.9em;color:#0e92ea\">5. Problems</span>"
   ]
  },
  {
   "cell_type": "markdown",
   "id": "da0dbb8e",
   "metadata": {},
   "source": [
    "#### <span style=\"font-weight:bold;font-size:1.9em;color:#0e92ea\">5.1 Validate Binary Search Tree</span>"
   ]
  },
  {
   "cell_type": "code",
   "execution_count": 35,
   "id": "d993372d",
   "metadata": {},
   "outputs": [],
   "source": [
    "class TreeNode:\n",
    "    def __init__(self, val=0, left=None, right=None):\n",
    "        self.val = val\n",
    "        self.left = left\n",
    "        self.right = right"
   ]
  },
  {
   "cell_type": "code",
   "execution_count": null,
   "id": "1ec18757",
   "metadata": {},
   "outputs": [],
   "source": [
    "class Solution:        \n",
    "    def isValidBST(self, root: Optional[TreeNode]) -> bool:\n",
    "        stack = []\n",
    "        currentNode = root\n",
    "        prevNode = None\n",
    "        while len(stack) > 0 or currentNode is not None:\n",
    "            while currentNode is not None:\n",
    "                stack.append(currentNode)\n",
    "                currentNode = currentNode.left\n",
    "            \n",
    "            currentNode = stack.pop()\n",
    "            \n",
    "            if prevNode is not None and prevNode.val >= currentNode.val:\n",
    "                return False\n",
    "            \n",
    "            prevNode = currentNode\n",
    "            currentNode = currentNode.right\n",
    "            \n",
    "        return True"
   ]
  },
  {
   "cell_type": "markdown",
   "id": "f943017a",
   "metadata": {},
   "source": [
    "#### <span style=\"font-weight:bold;font-size:1.9em;color:#0e92ea\">5.2 Symmetric Tree</span>"
   ]
  },
  {
   "cell_type": "code",
   "execution_count": null,
   "id": "f17d5cc8",
   "metadata": {},
   "outputs": [],
   "source": [
    "class Solution:\n",
    "    def isSymmetric(self, root: Optional[TreeNode]) -> bool:\n",
    "        if root is None:\n",
    "            return True\n",
    "        \n",
    "        leftTree  = root.left\n",
    "        rightTree = root.right\n",
    "        \n",
    "        stack = []\n",
    "        \n",
    "        while len(stack) > 0 or self.TreesNotEmpty(leftTree, rightTree):\n",
    "            \n",
    "            while self.TreesNotEmpty(leftTree, rightTree):\n",
    "                if leftTree.val != rightTree.val:\n",
    "                    return False\n",
    "            \n",
    "                stack.append(leftTree)\n",
    "                stack.append(rightTree)\n",
    "                \n",
    "                leftTree = leftTree.left\n",
    "                rightTree = rightTree.right\n",
    "                \n",
    "            if leftTree != rightTree:\n",
    "                return False\n",
    "\n",
    "            \n",
    "            rightTree = stack.pop()\n",
    "            leftTree = stack.pop()\n",
    "            \n",
    "            leftTree = leftTree.right\n",
    "            rightTree = rightTree.left\n",
    "            \n",
    "        if leftTree != rightTree:\n",
    "            return False\n",
    "        else:\n",
    "            return True\n",
    "    \n",
    "    \n",
    "    def TreesNotEmpty(self, leftTree, rightTree):\n",
    "        return (leftTree is not None) and (rightTree is not None)"
   ]
  },
  {
   "cell_type": "code",
   "execution_count": 3,
   "id": "bc278dc5",
   "metadata": {},
   "outputs": [
    {
     "data": {
      "text/plain": [
       "[[1], [2]]"
      ]
     },
     "execution_count": 3,
     "metadata": {},
     "output_type": "execute_result"
    }
   ],
   "source": [
    "travesal = {\n",
    "    1: [1],\n",
    "    2: [2]\n",
    "}\n",
    "\n",
    "list(travesal.values())"
   ]
  },
  {
   "cell_type": "code",
   "execution_count": 22,
   "id": "be57b863",
   "metadata": {},
   "outputs": [
    {
     "name": "stdout",
     "output_type": "stream",
     "text": [
      "1\n"
     ]
    }
   ],
   "source": [
    "print(round(1%2))"
   ]
  },
  {
   "cell_type": "markdown",
   "id": "3688d4a0",
   "metadata": {},
   "source": [
    "#### <span style=\"font-weight:bold;font-size:1.9em;color:#0e92ea\">5.3 Binary Tree Level Order</span>"
   ]
  },
  {
   "cell_type": "code",
   "execution_count": null,
   "id": "8aea9e6c",
   "metadata": {},
   "outputs": [],
   "source": [
    "class Solution:\n",
    "    def __init__(self):\n",
    "        self.results = {}\n",
    "        \n",
    "    def levelOrder(self, root: Optional[TreeNode], height = 1) -> List[List[int]]:\n",
    "        \n",
    "        if root is None:\n",
    "            return\n",
    "        \n",
    "        if height in self.results:\n",
    "            self.results[height].append(root.val)\n",
    "        else:\n",
    "            self.results[height] = [root.val]\n",
    "        \n",
    "        self.levelOrder(root.left, height + 1)\n",
    "        self.levelOrder(root.right, height + 1)\n",
    "        \n",
    "        return list(self.results.values())"
   ]
  },
  {
   "cell_type": "markdown",
   "id": "3222d3b4",
   "metadata": {},
   "source": [
    "#### <span style=\"font-weight:bold;font-size:1.9em;color:#0e92ea\">5.4 Binary Tree Zig Zag Order</span>"
   ]
  },
  {
   "cell_type": "code",
   "execution_count": null,
   "id": "5993020e",
   "metadata": {},
   "outputs": [],
   "source": [
    "class Solution:\n",
    "    def __init__(self):\n",
    "        self.results = {}\n",
    "        \n",
    "    def zigzagLevelOrder(self, root: Optional[TreeNode], height = 1) -> List[List[int]]:\n",
    "        if root is None:\n",
    "            return\n",
    "        \n",
    "        self.Append(height, root.val)\n",
    "\n",
    "        self.zigzagLevelOrder(root.right, height + 1)\n",
    "                    \n",
    "        self.zigzagLevelOrder(root.left, height + 1)\n",
    "\n",
    "\n",
    "        return list(self.results.values())\n",
    "    \n",
    "    \n",
    "    def Append(self, height, val):\n",
    "        if height in self.results:\n",
    "            if height % 2 == 0:\n",
    "                self.results[height].append(val)\n",
    "            else:\n",
    "                self.results[height].insert(0, val)\n",
    "        else:\n",
    "            self.results[height] = [val]"
   ]
  }
 ],
 "metadata": {
  "kernelspec": {
   "display_name": "Python 3 (ipykernel)",
   "language": "python",
   "name": "python3"
  },
  "language_info": {
   "codemirror_mode": {
    "name": "ipython",
    "version": 3
   },
   "file_extension": ".py",
   "mimetype": "text/x-python",
   "name": "python",
   "nbconvert_exporter": "python",
   "pygments_lexer": "ipython3",
   "version": "3.9.7"
  }
 },
 "nbformat": 4,
 "nbformat_minor": 5
}

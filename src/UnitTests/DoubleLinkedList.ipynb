{
 "cells": [
  {
   "cell_type": "markdown",
   "id": "a445e5d3",
   "metadata": {},
   "source": [
    "# DoubleLinkedList\n",
    "\n",
    "Implementing a double linkedlist. Inhering from SingleLinkedlist implemented on the SingleLinkedList.ipynb. For more info on how to import a notebook see Importing Jupyter Notebooks as Modules"
   ]
  },
  {
   "cell_type": "code",
   "execution_count": 1,
   "id": "638c13dd",
   "metadata": {},
   "outputs": [
    {
     "name": "stdout",
     "output_type": "stream",
     "text": [
      "importing Jupyter notebook from SingleLinkedList.ipynb\n"
     ]
    },
    {
     "name": "stderr",
     "output_type": "stream",
     "text": [
      "\n",
      "----------------------------------------------------------------------\n",
      "Ran 0 tests in 0.000s\n",
      "\n",
      "OK\n"
     ]
    }
   ],
   "source": [
    "import sys\n",
    "sys.path.insert(1, '../common/')\n",
    "\n",
    "import LoadNotebookHelper # Enables Jupyter to import exterbal notebooks as modules\n",
    "import SingleLinkedList"
   ]
  },
  {
   "cell_type": "code",
   "execution_count": 2,
   "id": "a55349da",
   "metadata": {},
   "outputs": [],
   "source": [
    "from SingleLinkedList import LinkedListNode\n",
    "\n",
    "class DoubleLinkedListNode(LinkedListNode):\n",
    "    \n",
    "    def __init__(self, value = 0, nextNode = None, prevNode = None):\n",
    "        super().__init__(value, nextNode)\n",
    "        self.PrevNode = prevNode"
   ]
  },
  {
   "cell_type": "code",
   "execution_count": 3,
   "id": "8c0db9a4",
   "metadata": {},
   "outputs": [],
   "source": [
    "class DoubleLinkedList():\n",
    "    \n",
    "    def __init__(self):\n",
    "        self.Head = None\n",
    "        self.Count = 0\n",
    "        \n",
    "    def AddX(self, newNode):\n",
    "        if self.Head == None:\n",
    "            self.Head = newNode\n",
    "            self.Count += 1\n",
    "            self.Display()\n",
    "        elif self.Head.Value >= newNode.Value:\n",
    "            newNode.NextNode = self.Head\n",
    "            self.Head.PrevNode = newNode\n",
    "            self.Head = newNode\n",
    "            self.Count += 1\n",
    "            self.Display()\n",
    "        else:\n",
    "            currentNode = self.Head\n",
    "            while currentNode != None:\n",
    "                if currentNode.Value <= newNode.Value:\n",
    "                    if currentNode.NextNode == None:\n",
    "                        currentNode.NextNode = newNode\n",
    "                        newNode.PrevNode = currentNode\n",
    "                        self.Count += 1\n",
    "                        self.Display()\n",
    "                        break\n",
    "                    elif currentNode.NextNode.Value >= newNode.Value:\n",
    "                        newNode.NextNode = currentNode.NextNode\n",
    "                        newNode.PrevNode = currentNode\n",
    "                        currentNode.NextNode.PrevNode = newNode\n",
    "                        currentNode.NextNode = newNode\n",
    "                        self.Count += 1\n",
    "                        self.Display()\n",
    "                        break\n",
    "                currentNode = currentNode.NextNode\n",
    "        print(\"Inserted : \" + str(newNode.Value))\n",
    "\n",
    "    def Remove(self, node2Remove):\n",
    "        if self.Head == None:\n",
    "            return\n",
    "        elif self.Head.Value == node2Remove.Value:\n",
    "            self.Head = self.Head.NextNode\n",
    "            return\n",
    "        else:\n",
    "            currentNode = self.Head\n",
    "            while (currentNode.NextNode != None):\n",
    "                if currentNode.NextNode.Value == node2Remove.Value:\n",
    "                    currentNode.NextNode = currentNode.NextNode.NextNode\n",
    "                    return\n",
    "                currentNode =currentNode.NextNode\n",
    "    \n",
    "    def Display(self):\n",
    "        currentNode = self.Head\n",
    "        linkedListText = \"\"\n",
    "        while currentNode != None:\n",
    "            linkedListText += str(currentNode.Value) + \",\"\n",
    "            currentNode = currentNode.NextNode\n",
    "        print(linkedListText + \" Count: \" + str(self.Count))"
   ]
  },
  {
   "cell_type": "code",
   "execution_count": 4,
   "id": "80ff7b49",
   "metadata": {},
   "outputs": [
    {
     "name": "stdout",
     "output_type": "stream",
     "text": [
      "5, Count: 1\n",
      "Inserted : 5\n",
      "5,8, Count: 2\n",
      "Inserted : 8\n",
      "-5,5,8, Count: 3\n",
      "Inserted : -5\n",
      "-20,-5,5,8, Count: 4\n",
      "Inserted : -20\n",
      "-20,-5,5,8,15, Count: 5\n",
      "Inserted : 15\n",
      "-20,-5,5,6,8,15, Count: 6\n",
      "Inserted : 6\n",
      "-20,-5,5,6,8,15, Count: 6\n"
     ]
    }
   ],
   "source": [
    "doublelinkedList = DoubleLinkedList()\n",
    "doublelinkedList.AddX(DoubleLinkedListNode(5))\n",
    "doublelinkedList.AddX(DoubleLinkedListNode(8))\n",
    "doublelinkedList.AddX(DoubleLinkedListNode(-5))\n",
    "doublelinkedList.AddX(DoubleLinkedListNode(-20))\n",
    "doublelinkedList.AddX(DoubleLinkedListNode(15))\n",
    "doublelinkedList.AddX(DoubleLinkedListNode(6))\n",
    "doublelinkedList.Display()"
   ]
  },
  {
   "cell_type": "code",
   "execution_count": 5,
   "id": "5f5999f8",
   "metadata": {},
   "outputs": [
    {
     "name": "stdout",
     "output_type": "stream",
     "text": [
      "-5,5,6,8,15, Count: 6\n",
      "-5,6,8,15, Count: 6\n",
      "-5,6,8, Count: 6\n"
     ]
    }
   ],
   "source": [
    "doublelinkedList.Remove(DoubleLinkedListNode(-20))\n",
    "doublelinkedList.Display()\n",
    "\n",
    "doublelinkedList.Remove(DoubleLinkedListNode(5))\n",
    "doublelinkedList.Display()\n",
    "\n",
    "doublelinkedList.Remove(DoubleLinkedListNode(15))\n",
    "doublelinkedList.Display()"
   ]
  },
  {
   "cell_type": "code",
   "execution_count": null,
   "id": "4565c620",
   "metadata": {},
   "outputs": [],
   "source": []
  }
 ],
 "metadata": {
  "kernelspec": {
   "display_name": "Python 3 (ipykernel)",
   "language": "python",
   "name": "python3"
  },
  "language_info": {
   "codemirror_mode": {
    "name": "ipython",
    "version": 3
   },
   "file_extension": ".py",
   "mimetype": "text/x-python",
   "name": "python",
   "nbconvert_exporter": "python",
   "pygments_lexer": "ipython3",
   "version": "3.9.7"
  }
 },
 "nbformat": 4,
 "nbformat_minor": 5
}

{
 "cells": [
  {
   "cell_type": "markdown",
   "id": "58f7d1fb",
   "metadata": {},
   "source": [
    "# Two Sums"
   ]
  },
  {
   "cell_type": "markdown",
   "id": "7ea21fb5",
   "metadata": {},
   "source": [
    "Given an array of integers nums and an integer target, return indices of the two numbers such that they add up to target.\n",
    "\n",
    "You may assume that each input would have exactly one solution, and you may not use the same element twice.\n",
    "\n",
    "You can return the answer in any order."
   ]
  },
  {
   "cell_type": "markdown",
   "id": "9c618a9b",
   "metadata": {},
   "source": [
    "### Example 1:"
   ]
  },
  {
   "cell_type": "markdown",
   "id": "0aba595a",
   "metadata": {},
   "source": [
    "```\n",
    "`Input`: nums = [2,7,11,15], target = 9\n",
    "\n",
    "`Output`: [0,1]\n",
    "\n",
    "`Explanation`: Because nums[0] + nums[1] == 9, we return [0, 1]\n",
    "```"
   ]
  }
 ],
 "metadata": {
  "kernelspec": {
   "display_name": "Python 3 (ipykernel)",
   "language": "python",
   "name": "python3"
  },
  "language_info": {
   "codemirror_mode": {
    "name": "ipython",
    "version": 3
   },
   "file_extension": ".py",
   "mimetype": "text/x-python",
   "name": "python",
   "nbconvert_exporter": "python",
   "pygments_lexer": "ipython3",
   "version": "3.9.7"
  }
 },
 "nbformat": 4,
 "nbformat_minor": 5
}

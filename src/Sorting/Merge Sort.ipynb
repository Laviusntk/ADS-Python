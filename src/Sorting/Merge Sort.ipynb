{
 "cells": [
  {
   "cell_type": "markdown",
   "id": "e9df53a9",
   "metadata": {},
   "source": [
    "## <span style=\"font-weight:bold;font-size:1.9em;color:#0e92ea\">Merge Sort</span>  "
   ]
  },
  {
   "cell_type": "markdown",
   "id": "eb526c2b",
   "metadata": {},
   "source": [
    "#### <span style=\"font-weight:bold;font-size:1.9em;color:#0e92ea\">Overview</span>  \n",
    "\n",
    "<ol style=\"font-size:1.2em;\">\n",
    "    <li>\n",
    "        Given a list A of size N, starting at ${from}$ ending at ${to}$, (${to = N -1 }$) we want to sort the list such that:<br><br>\n",
    "        ${A[from] < A[from+1]< A[from+2] \\cdots < A[from+2]}$<br><br>\n",
    "    </li>\n",
    "    <li>\n",
    "        Start by dividing the list into two:<br><br>\n",
    "        <ol>\n",
    "            <li>${leftList = A[from, middle -1]}$</li><br>\n",
    "            <li>${rightList = A[middle, to]}$</li><br>\n",
    "        </ol>\n",
    "    </li>\n",
    "    <li>\n",
    "        Sort (divide and sort) leftList and rightList independanlty and merge them into one sorted list.\n",
    "    </li>\n",
    "</ol>\n"
   ]
  },
  {
   "cell_type": "code",
   "execution_count": 178,
   "id": "4d397a93",
   "metadata": {},
   "outputs": [],
   "source": [
    "class MergeSort:\n",
    "    def Sort(self, A):\n",
    "        self.__Sort(A, 0, len(A)-1)\n",
    "    \n",
    "    def __Sort(self, A:[], start=0, end=0):\n",
    "        if len(A[start:end+1]) <= 1:\n",
    "            return\n",
    "        elif len(A[start:end+1]) == 2 and A[start] > A[end]:\n",
    "            self.Swap(A, start, end)\n",
    "        else:\n",
    "            middle = int(round((end-start)/2,0))\n",
    "            self.__Sort(A, start, middle)\n",
    "            self.__Sort(A, middle+1, end)\n",
    "            self.Merge(A, start, middle, end)\n",
    "        \n",
    "    def Swap(self, A: [], i: int, j: int):\n",
    "        temp = A[j]\n",
    "        A[j] = A[i]\n",
    "        A[i] = temp\n",
    "        \n",
    "    def Merge(self, A, start, middle, end):\n",
    "        merged = []\n",
    "        l = start\n",
    "        r = middle+1\n",
    "        m = 0\n",
    "        \n",
    "        while l <= middle and r <= end:\n",
    "            if A[l] < A[r]:\n",
    "                merged.append(A[l])\n",
    "                l += 1\n",
    "            else:\n",
    "                merged.append(A[r])\n",
    "                r += 1\n",
    "        \n",
    "        for i in range(l, middle + 1):\n",
    "            merged.append(A[i])\n",
    "            \n",
    "        for i in range(r, end + 1):\n",
    "            merged.append(A[i])\n",
    "            \n",
    "        for i in range(start, end+1):\n",
    "            A[i] = merged[m]\n",
    "            m += 1\n",
    "        "
   ]
  },
  {
   "cell_type": "code",
   "execution_count": 179,
   "id": "c5a5063f",
   "metadata": {
    "scrolled": false
   },
   "outputs": [
    {
     "data": {
      "text/plain": [
       "[1, 2, 3]"
      ]
     },
     "execution_count": 179,
     "metadata": {},
     "output_type": "execute_result"
    }
   ],
   "source": [
    "A = [2, 3, 1]\n",
    "mergesort = MergeSort()\n",
    "mergesort.Sort(A)\n",
    "A"
   ]
  },
  {
   "cell_type": "code",
   "execution_count": 1,
   "id": "5fa016fc",
   "metadata": {},
   "outputs": [],
   "source": [
    "class ListNode:\n",
    "    def __init__(self, val=0, nextNode=None):\n",
    "        self.val = val\n",
    "        self.nextNode = nextNode\n",
    "        \n",
    "def mergeTwoLists(list1: ListNode, list2: ListNode):\n",
    "    mergedList = None\n",
    "\n",
    "    while list1 is not None and list2 is not None:\n",
    "        print(f\"list1.val <= list2.val: {list1.val} < = {list2.val}\")\n",
    "        if list1.val <= list2.val:\n",
    "            print(f\"1. inserting {list1.val}\")\n",
    "            if mergedList is None:\n",
    "                mergedList = ListNode(list1.val)\n",
    "            else:\n",
    "                mergedList.nextNode = ListNode(list1.val)\n",
    "            list1 = list1.nextNode\n",
    "            print(f\"1. next {list1.val}\")\n",
    "            print(list1 is not None)\n",
    "        else:\n",
    "            print(f\"2. inserting {list2.val}\")\n",
    "            if mergedList is None:\n",
    "                mergedList = ListNode(list2.val)\n",
    "            else:\n",
    "                mergedList.nextNode = ListNode(list2.val)\n",
    "            list2 = list2.nextNode\n",
    "            print(f\"2. next {list2.val}\")\n",
    "\n",
    "        while list1 is not None:\n",
    "            print(f\"while 1: inserting {list1.val}\")\n",
    "            mergedList.next = ListNode(list1.val)\n",
    "            list1 = list1.nextNode\n",
    "\n",
    "        while list2 is not None:\n",
    "            print(f\"while 2: inserting {list2.val}\")\n",
    "            mergedList.next = ListNode(list2.val)\n",
    "            list2 = list2.nextNode\n",
    "\n",
    "        return mergedList\n",
    "\n",
    "def Print(node):\n",
    "    while node is not None:\n",
    "        print(node.val)\n",
    "        node = node.nextNode"
   ]
  },
  {
   "cell_type": "code",
   "execution_count": 8,
   "id": "b988005f",
   "metadata": {},
   "outputs": [],
   "source": [
    "node1 = ListNode(1)\n",
    "node1.nextNode = ListNode(2)\n",
    "node1.nextNode.nextNode = ListNode(3)"
   ]
  },
  {
   "cell_type": "code",
   "execution_count": 9,
   "id": "49f1c477",
   "metadata": {},
   "outputs": [
    {
     "name": "stdout",
     "output_type": "stream",
     "text": [
      "1\n",
      "2\n",
      "3\n"
     ]
    }
   ],
   "source": [
    "Print(node1)"
   ]
  },
  {
   "cell_type": "code",
   "execution_count": null,
   "id": "4c7085b2",
   "metadata": {},
   "outputs": [],
   "source": []
  }
 ],
 "metadata": {
  "kernelspec": {
   "display_name": "Python 3 (ipykernel)",
   "language": "python",
   "name": "python3"
  },
  "language_info": {
   "codemirror_mode": {
    "name": "ipython",
    "version": 3
   },
   "file_extension": ".py",
   "mimetype": "text/x-python",
   "name": "python",
   "nbconvert_exporter": "python",
   "pygments_lexer": "ipython3",
   "version": "3.9.7"
  }
 },
 "nbformat": 4,
 "nbformat_minor": 5
}

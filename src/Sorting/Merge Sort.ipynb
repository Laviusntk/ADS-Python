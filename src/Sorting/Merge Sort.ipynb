{
 "cells": [
  {
   "cell_type": "markdown",
   "id": "4091289d",
   "metadata": {},
   "source": [
    "## <span style=\"font-weight:bold;font-size:1.9em;color:#0e92ea\">Merge Sort</span>  "
   ]
  },
  {
   "cell_type": "markdown",
   "id": "b995b47d",
   "metadata": {},
   "source": [
    "#### <span style=\"font-weight:bold;font-size:1.9em;color:#0e92ea\">Overview</span>  \n",
    "\n",
    "<ol style=\"font-size:1.2em;\">\n",
    "    <li>\n",
    "        Given a list A of size N, starting at ${from}$ ending at ${to}$, (${to = N -1 }$) we want to sort the list such that:<br><br>\n",
    "        ${A[from] < A[from+1]< A[from+2] \\cdots < A[from+2]}$<br><br>\n",
    "    </li>\n",
    "    <li>\n",
    "        Start by dividing the list into two:<br><br>\n",
    "        <ol>\n",
    "            <li>${leftList = A[from, middle -1]}$</li><br>\n",
    "            <li>${rightList = A[middle, to]}$</li><br>\n",
    "        </ol>\n",
    "    </li>\n",
    "    <li>\n",
    "        Sort (divide and sort) leftList and rightList independanlty and merge them into one sorted list.\n",
    "    </li>\n",
    "</ol>\n"
   ]
  },
  {
   "cell_type": "code",
   "execution_count": 162,
   "id": "0b35b383",
   "metadata": {},
   "outputs": [],
   "source": [
    "class MergeSort:\n",
    "    def Sort(self, A):\n",
    "        A.insert(0, None)\n",
    "        return self.__Sort(A, 1, len(A)-1)\n",
    "    \n",
    "    def __Sort(self, A:[], start=0, end=0):\n",
    "        print(f\"Sorting: {A[start:end+1]}. end:{end} - start:{start} = {(end - start)}\")\n",
    "        if len(A[start:end+1]) <= 1:\n",
    "            return A\n",
    "        elif len(A[start:end+1]) == 2:\n",
    "            if A[start] < A[end]:\n",
    "                return\n",
    "            else:\n",
    "                self.Swap(A, start, end)\n",
    "        else:\n",
    "            middle = int(round((end + start)/2, 0))\n",
    "            print(f\"start: {start}, new middle:{middle}, end:{end} \")\n",
    "            self.__Sort(A, start, middle)\n",
    "            self.__Sort(A, middle+1, end)\n",
    "            self.Merge(A, start, middle, end)\n",
    "            \n",
    "    def Swap(self, A: [], i: int, j: int):\n",
    "        print(f\"swaping {A[i]} and {A[j]}\")\n",
    "        temp = A[i]\n",
    "        A[i] = A[j]\n",
    "        A[j] = temp\n",
    "        return A\n",
    "    \n",
    "    def Merge(self, A, start, middle, end):\n",
    "        print(f\"merging : {A[start:middle+1]} and {A[middle+1:end+1]}, start: {start}, middle:{middle}, end:{end}\")\n",
    "        merged = []\n",
    "        l  = start\n",
    "        r = middle + 1\n",
    "        m = 0\n",
    "        print(f\" l: {l}, r:{r}, m:{m}\")\n",
    "        while l <= middle and r <= end:\n",
    "            if A[l] < A[r]:\n",
    "                merged.append(A[l]) \n",
    "                l = l + 1\n",
    "            else:\n",
    "                merged.append(A[r]) \n",
    "                r = r + 1\n",
    "        \n",
    "        if l != middle:\n",
    "            for i in range(l, middle+1):\n",
    "                merged.append(A[i])\n",
    "        \n",
    "        if r != end:\n",
    "            for i in range(r, end+1):\n",
    "                merged.append(A[i])\n",
    "        \n",
    "        m = 0\n",
    "        for i in range(start, end +1):\n",
    "            A[i] = merged[m]\n",
    "            m = m+1\n",
    "            \n",
    "        print(f\"merged: {merged}\")\n",
    "                "
   ]
  },
  {
   "cell_type": "code",
   "execution_count": 164,
   "id": "587b6b91",
   "metadata": {
    "scrolled": false
   },
   "outputs": [
    {
     "name": "stdout",
     "output_type": "stream",
     "text": [
      "Sorting: [2, 3, 1]. end:3 - start:1 = 2\n",
      "start: 1, new middle:2, end:3 \n",
      "Sorting: [2, 3]. end:2 - start:1 = 1\n",
      "Sorting: [1]. end:3 - start:3 = 0\n",
      "merging : [2, 3] and [1], start: 1, middle:2, end:3\n",
      " l: 1, r:3, m:0\n",
      "merged: [1, 2, 3]\n"
     ]
    },
    {
     "data": {
      "text/plain": [
       "[None, 1, 2, 3]"
      ]
     },
     "execution_count": 164,
     "metadata": {},
     "output_type": "execute_result"
    }
   ],
   "source": [
    "A = [2, 3, 1]\n",
    "mergesort = MergeSort()\n",
    "mergesort.Sort(A)\n",
    "A"
   ]
  },
  {
   "cell_type": "code",
   "execution_count": null,
   "id": "db9c90e5",
   "metadata": {},
   "outputs": [],
   "source": []
  }
 ],
 "metadata": {
  "kernelspec": {
   "display_name": "Python 3 (ipykernel)",
   "language": "python",
   "name": "python3"
  },
  "language_info": {
   "codemirror_mode": {
    "name": "ipython",
    "version": 3
   },
   "file_extension": ".py",
   "mimetype": "text/x-python",
   "name": "python",
   "nbconvert_exporter": "python",
   "pygments_lexer": "ipython3",
   "version": "3.9.7"
  }
 },
 "nbformat": 4,
 "nbformat_minor": 5
}

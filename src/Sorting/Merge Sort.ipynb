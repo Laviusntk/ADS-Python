{
 "cells": [
  {
   "cell_type": "markdown",
   "id": "8b81f9d1",
   "metadata": {},
   "source": [
    "## <span style=\"font-weight:bold;font-size:1.9em;color:#0e92ea\">Merge Sort</span>  "
   ]
  },
  {
   "cell_type": "markdown",
   "id": "563f05ad",
   "metadata": {},
   "source": [
    "#### <span style=\"font-weight:bold;font-size:1.9em;color:#0e92ea\">Overview</span>  \n",
    "\n",
    "<ol style=\"font-size:1.2em;color:#0e92ea\">\n",
    "    <li>\n",
    "        Given a list A of size N, starting at ${from}$ ending at ${to}$, (${to = N -1 }$) we want to sort the list such that:<br><br>\n",
    "        ${A[from] < A[from+1]< A[from+2] \\cdots < A[from+2]}$<br><br>\n",
    "    </li>\n",
    "    <li>\n",
    "        Start by dividing the list into two:<br><br>\n",
    "        <ol>\n",
    "            <li>${left_list = A[from, middle -1]}$</li><br>\n",
    "            <li>${right_list = A[middle, to]}$</li><br>\n",
    "        </ol>\n",
    "    </li>\n",
    "</ol>\n",
    "\n",
    "\n",
    " \n"
   ]
  },
  {
   "cell_type": "code",
   "execution_count": null,
   "id": "968095d4",
   "metadata": {},
   "outputs": [],
   "source": []
  }
 ],
 "metadata": {
  "kernelspec": {
   "display_name": "Python 3 (ipykernel)",
   "language": "python",
   "name": "python3"
  },
  "language_info": {
   "codemirror_mode": {
    "name": "ipython",
    "version": 3
   },
   "file_extension": ".py",
   "mimetype": "text/x-python",
   "name": "python",
   "nbconvert_exporter": "python",
   "pygments_lexer": "ipython3",
   "version": "3.9.7"
  }
 },
 "nbformat": 4,
 "nbformat_minor": 5
}

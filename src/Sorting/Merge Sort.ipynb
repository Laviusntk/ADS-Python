{
 "cells": [
  {
   "cell_type": "markdown",
   "id": "4fba41c0",
   "metadata": {},
   "source": [
    "## <span style=\"font-weight:bold;font-size:1.9em;color:#0e92ea\">Merge Sort</span>  "
   ]
  },
  {
   "cell_type": "markdown",
   "id": "d8df9085",
   "metadata": {},
   "source": [
    "#### <span style=\"font-weight:bold;font-size:1.9em;color:#0e92ea\">Overview</span>  \n",
    "\n",
    "<ol style=\"font-size:1.2em;\">\n",
    "    <li>\n",
    "        Given a list A of size N, starting at ${from}$ ending at ${to}$, (${to = N -1 }$) we want to sort the list such that:<br><br>\n",
    "        ${A[from] < A[from+1]< A[from+2] \\cdots < A[from+2]}$<br><br>\n",
    "    </li>\n",
    "    <li>\n",
    "        Start by dividing the list into two:<br><br>\n",
    "        <ol>\n",
    "            <li>${leftList = A[from, middle -1]}$</li><br>\n",
    "            <li>${rightList = A[middle, to]}$</li><br>\n",
    "        </ol>\n",
    "    </li>\n",
    "    <li>\n",
    "        Sort (divide and sort) leftList and rightList independanlty and merge them into one sorted list.\n",
    "    </li>\n",
    "</ol>\n"
   ]
  },
  {
   "cell_type": "code",
   "execution_count": 8,
   "id": "c83aa773",
   "metadata": {},
   "outputs": [],
   "source": [
    "class MergeSort:\n",
    "    def Sort(A:[], start=0, end=0):\n",
    "        if end - start <= 1:\n",
    "            return\n",
    "        if end - start == 2:\n",
    "            A = swap(A, start, end)\n",
    "        else:\n",
    "            middle = (end - start)/2\n",
    "            self.Sort(A, start, middle-1)\n",
    "            Sort(A, middle, end)\n",
    "            \n",
    "    def Swap(A: [], i: int, j: int):\n",
    "        temp = A[i]\n",
    "        A[i] = A[j]\n",
    "        A[j] = temp\n",
    "        return A\n",
    "    \n",
    "    def Merge(A, start, middle, end):\n",
    "        merged = []\n",
    "        l  = start\n",
    "        r = middle + 1\n",
    "        m = 0\n",
    "        \n",
    "        while l <= middle and r <= end:\n",
    "            if A[l] < A[r]:\n",
    "                merged[m] = A[l]\n",
    "                l = l + 1\n",
    "            else:\n",
    "                merged[m] = A[r]\n",
    "                r = r + 1\n",
    "            m = m + 1\n",
    "        \n",
    "        if l != middle:\n",
    "            for i in range(l, middle+1):\n",
    "                merged[m] = A[i]\n",
    "                m = m + 1\n",
    "        \n",
    "        if rightIndex != end:\n",
    "            for i in range(rightIndex, end+1):\n",
    "                merged[m] = A[i]\n",
    "                m = m + 1"
   ]
  },
  {
   "cell_type": "code",
   "execution_count": null,
   "id": "d6f6237b",
   "metadata": {},
   "outputs": [],
   "source": []
  }
 ],
 "metadata": {
  "kernelspec": {
   "display_name": "Python 3 (ipykernel)",
   "language": "python",
   "name": "python3"
  },
  "language_info": {
   "codemirror_mode": {
    "name": "ipython",
    "version": 3
   },
   "file_extension": ".py",
   "mimetype": "text/x-python",
   "name": "python",
   "nbconvert_exporter": "python",
   "pygments_lexer": "ipython3",
   "version": "3.9.7"
  }
 },
 "nbformat": 4,
 "nbformat_minor": 5
}

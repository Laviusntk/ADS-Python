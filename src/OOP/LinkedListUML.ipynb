{
 "cells": [
  {
   "cell_type": "code",
   "execution_count": 2,
   "id": "b817efb8",
   "metadata": {},
   "outputs": [],
   "source": [
    "import iplantuml"
   ]
  },
  {
   "cell_type": "code",
   "execution_count": 4,
   "id": "a37c2e47",
   "metadata": {},
   "outputs": [
    {
     "name": "stdout",
     "output_type": "stream",
     "text": [
      "Writing output for /Users/motileng/Documents/GitHub/ADS-Python/src/OOP/c547f5ff-cd03-40a9-82c7-39106f1bd99d.uml to c547f5ff-cd03-40a9-82c7-39106f1bd99d.svg\n"
     ]
    },
    {
     "data": {
      "image/svg+xml": [
       "<svg xmlns=\"http://www.w3.org/2000/svg\" xmlns:xlink=\"http://www.w3.org/1999/xlink\" contentStyleType=\"text/css\" height=\"319px\" preserveAspectRatio=\"none\" style=\"width:243px;height:319px;background:#FFFFFF;\" version=\"1.1\" viewBox=\"0 0 243 319\" width=\"243px\" zoomAndPan=\"magnify\"><defs/><g><!--MD5=[3fee75583bb7a64f68d843a3c9534ab3]\n",
       "class Node--><g id=\"elem_Node\"><rect codeLine=\"1\" fill=\"#F1F1F1\" height=\"96.8906\" id=\"Node\" rx=\"2.5\" ry=\"2.5\" style=\"stroke:#181818;stroke-width:0.5;\" width=\"132\" x=\"53.5\" y=\"10\"/><ellipse cx=\"91.9\" cy=\"26\" fill=\"#ADD1B2\" rx=\"11\" ry=\"11\" style=\"stroke:#181818;stroke-width:1.0;\"/><path d=\"M94.2438,21.6719 C93.3063,21.2344 92.7125,21.0938 91.8375,21.0938 C89.2125,21.0938 87.2125,23.1719 87.2125,25.8906 L87.2125,27.0156 C87.2125,29.5938 89.3219,31.4844 92.2125,31.4844 C93.4313,31.4844 94.5875,31.1875 95.3375,30.6406 C95.9156,30.2344 96.2438,29.7813 96.2438,29.3906 C96.2438,28.9375 95.8531,28.5469 95.3844,28.5469 C95.1656,28.5469 94.9625,28.625 94.775,28.8125 C94.3219,29.2969 94.3219,29.2969 94.1344,29.3906 C93.7125,29.6563 93.025,29.7813 92.2594,29.7813 C90.2125,29.7813 88.9156,28.6875 88.9156,26.9844 L88.9156,25.8906 C88.9156,24.1094 90.1656,22.7969 91.9,22.7969 C92.4781,22.7969 93.0875,22.9531 93.5563,23.2031 C94.0406,23.4844 94.2125,23.7031 94.3063,24.1094 C94.3688,24.5156 94.4,24.6406 94.5406,24.7656 C94.6813,24.9063 94.9156,25.0156 95.1344,25.0156 C95.4,25.0156 95.6656,24.875 95.8375,24.6563 C95.9469,24.5 95.9781,24.3125 95.9781,23.8906 L95.9781,22.4688 C95.9781,22.0313 95.9625,21.9063 95.8688,21.75 C95.7125,21.4844 95.4313,21.3438 95.1344,21.3438 C94.8375,21.3438 94.6344,21.4375 94.4156,21.75 L94.2438,21.6719 Z \" fill=\"#000000\"/><text fill=\"#000000\" font-family=\"sans-serif\" font-size=\"14\" lengthAdjust=\"spacing\" textLength=\"37\" x=\"111.1\" y=\"30.8467\">Node</text><rect fill=\"#FFFFFF\" height=\"15.9688\" style=\"stroke:#000000;stroke-width:1.0;stroke-dasharray:2.0,2.0;\" width=\"9\" x=\"179.5\" y=\"7\"/><text fill=\"#000000\" font-family=\"sans-serif\" font-size=\"12\" font-style=\"italic\" lengthAdjust=\"spacing\" textLength=\"7\" x=\"180.5\" y=\"19.1387\">T</text><line style=\"stroke:#181818;stroke-width:0.5;\" x1=\"54.5\" x2=\"184.5\" y1=\"42\" y2=\"42\"/><ellipse cx=\"64.5\" cy=\"53\" fill=\"none\" rx=\"3\" ry=\"3\" style=\"stroke:#038048;stroke-width:1.0;\"/><text fill=\"#000000\" font-family=\"sans-serif\" font-size=\"14\" lengthAdjust=\"spacing\" textLength=\"106\" x=\"73.5\" y=\"58.9951\">Node&lt;T&gt; Next</text><ellipse cx=\"64.5\" cy=\"69.2969\" fill=\"none\" rx=\"3\" ry=\"3\" style=\"stroke:#038048;stroke-width:1.0;\"/><text fill=\"#000000\" font-family=\"sans-serif\" font-size=\"14\" lengthAdjust=\"spacing\" textLength=\"47\" x=\"73.5\" y=\"75.292\">T Item</text><line style=\"stroke:#181818;stroke-width:0.5;\" x1=\"54.5\" x2=\"184.5\" y1=\"82.5938\" y2=\"82.5938\"/><ellipse cx=\"64.5\" cy=\"93.5938\" fill=\"#84BE84\" rx=\"3\" ry=\"3\" style=\"stroke:#038048;stroke-width:1.0;\"/><text fill=\"#000000\" font-family=\"sans-serif\" font-size=\"14\" lengthAdjust=\"spacing\" textLength=\"99\" x=\"73.5\" y=\"99.5889\">void Process()</text></g><!--MD5=[a046d640d88ed63f622f54ae7bf961fb]\n",
       "class LinkedList--><g id=\"elem_LinkedList\"><rect codeLine=\"7\" fill=\"#F1F1F1\" height=\"145.7813\" id=\"LinkedList\" rx=\"2.5\" ry=\"2.5\" style=\"stroke:#181818;stroke-width:0.5;\" width=\"225\" x=\"7\" y=\"167\"/><ellipse cx=\"72.75\" cy=\"183\" fill=\"#ADD1B2\" rx=\"11\" ry=\"11\" style=\"stroke:#181818;stroke-width:1.0;\"/><path d=\"M75.0938,178.6719 C74.1563,178.2344 73.5625,178.0938 72.6875,178.0938 C70.0625,178.0938 68.0625,180.1719 68.0625,182.8906 L68.0625,184.0156 C68.0625,186.5938 70.1719,188.4844 73.0625,188.4844 C74.2813,188.4844 75.4375,188.1875 76.1875,187.6406 C76.7656,187.2344 77.0938,186.7813 77.0938,186.3906 C77.0938,185.9375 76.7031,185.5469 76.2344,185.5469 C76.0156,185.5469 75.8125,185.625 75.625,185.8125 C75.1719,186.2969 75.1719,186.2969 74.9844,186.3906 C74.5625,186.6563 73.875,186.7813 73.1094,186.7813 C71.0625,186.7813 69.7656,185.6875 69.7656,183.9844 L69.7656,182.8906 C69.7656,181.1094 71.0156,179.7969 72.75,179.7969 C73.3281,179.7969 73.9375,179.9531 74.4063,180.2031 C74.8906,180.4844 75.0625,180.7031 75.1563,181.1094 C75.2188,181.5156 75.25,181.6406 75.3906,181.7656 C75.5313,181.9063 75.7656,182.0156 75.9844,182.0156 C76.25,182.0156 76.5156,181.875 76.6875,181.6563 C76.7969,181.5 76.8281,181.3125 76.8281,180.8906 L76.8281,179.4688 C76.8281,179.0313 76.8125,178.9063 76.7188,178.75 C76.5625,178.4844 76.2813,178.3438 75.9844,178.3438 C75.6875,178.3438 75.4844,178.4375 75.2656,178.75 L75.0938,178.6719 Z \" fill=\"#000000\"/><text fill=\"#000000\" font-family=\"sans-serif\" font-size=\"14\" lengthAdjust=\"spacing\" textLength=\"74\" x=\"93.25\" y=\"187.8467\">LinkedList</text><rect fill=\"#FFFFFF\" height=\"15.9688\" style=\"stroke:#000000;stroke-width:1.0;stroke-dasharray:2.0,2.0;\" width=\"9\" x=\"226\" y=\"164\"/><text fill=\"#000000\" font-family=\"sans-serif\" font-size=\"12\" font-style=\"italic\" lengthAdjust=\"spacing\" textLength=\"7\" x=\"227\" y=\"176.1387\">T</text><line style=\"stroke:#181818;stroke-width:0.5;\" x1=\"8\" x2=\"231\" y1=\"199\" y2=\"199\"/><ellipse cx=\"18\" cy=\"210\" fill=\"none\" rx=\"3\" ry=\"3\" style=\"stroke:#038048;stroke-width:1.0;\"/><text fill=\"#000000\" font-family=\"sans-serif\" font-size=\"14\" lengthAdjust=\"spacing\" textLength=\"108\" x=\"27\" y=\"215.9951\">Node&lt;T&gt; Head</text><ellipse cx=\"18\" cy=\"226.2969\" fill=\"none\" rx=\"3\" ry=\"3\" style=\"stroke:#038048;stroke-width:1.0;\"/><text fill=\"#000000\" font-family=\"sans-serif\" font-size=\"14\" lengthAdjust=\"spacing\" textLength=\"67\" x=\"27\" y=\"232.292\">int Count</text><line style=\"stroke:#181818;stroke-width:0.5;\" x1=\"8\" x2=\"231\" y1=\"239.5938\" y2=\"239.5938\"/><ellipse cx=\"18\" cy=\"250.5938\" fill=\"#84BE84\" rx=\"3\" ry=\"3\" style=\"stroke:#038048;stroke-width:1.0;\"/><text fill=\"#000000\" font-family=\"sans-serif\" font-size=\"14\" lengthAdjust=\"spacing\" textLength=\"52\" x=\"27\" y=\"256.5889\">Insert()</text><ellipse cx=\"18\" cy=\"266.8906\" fill=\"#84BE84\" rx=\"3\" ry=\"3\" style=\"stroke:#038048;stroke-width:1.0;\"/><text fill=\"#000000\" font-family=\"sans-serif\" font-size=\"14\" lengthAdjust=\"spacing\" textLength=\"147\" x=\"27\" y=\"272.8857\">Remove&lt;T&gt;(T item)</text><ellipse cx=\"18\" cy=\"283.1875\" fill=\"#84BE84\" rx=\"3\" ry=\"3\" style=\"stroke:#038048;stroke-width:1.0;\"/><text fill=\"#000000\" font-family=\"sans-serif\" font-size=\"14\" lengthAdjust=\"spacing\" textLength=\"68\" x=\"27\" y=\"289.1826\">Reverse()</text><ellipse cx=\"18\" cy=\"299.4844\" fill=\"#84BE84\" rx=\"3\" ry=\"3\" style=\"stroke:#038048;stroke-width:1.0;\"/><text fill=\"#000000\" font-family=\"sans-serif\" font-size=\"14\" lengthAdjust=\"spacing\" textLength=\"199\" x=\"27\" y=\"305.4795\">Find&lt;T&gt;(T item) : Node&lt;T&gt;</text></g><!--MD5=[5b1deb8cebf273ca7d9cf58e0731e9bb]\n",
       "reverse link Node to LinkedList--><g id=\"link_Node_LinkedList\"><path codeLine=\"16\" d=\"M119.5,112.349 C119.5,129.393 119.5,148.588 119.5,166.783 \" fill=\"none\" id=\"Node-backto-LinkedList\" style=\"stroke:#181818;stroke-width:1.0;stroke-dasharray:7.0,7.0;\"/><polygon fill=\"#181818\" points=\"119.5,107.131,115.5,116.131,119.5,112.131,123.5,116.131,119.5,107.131\" style=\"stroke:#181818;stroke-width:1.0;\"/></g><!--MD5=[294d7b4ee18f10c362ed56451964ef6c]\n",
       "@startuml\n",
       "class Node<T> {\n",
       "    + Node<T> Next\n",
       "    + T Item\n",
       "    + void Process()\n",
       "}\n",
       "\n",
       "class LinkedList<T> {\n",
       "    + Node<T> Head\n",
       "    + int Count\n",
       "    + Insert()\n",
       "    + Remove<T>(T item)\n",
       "    + Reverse()\n",
       "    + Find<T>(T item) : Node<T>\n",
       "}\n",
       "\n",
       "Node <.. LinkedList\n",
       "@enduml\n",
       "\n",
       "PlantUML version 1.2022.6beta5(Unknown compile time)\n",
       "(GPL source distribution)\n",
       "Java Runtime: Java(TM) SE Runtime Environment\n",
       "JVM: Java HotSpot(TM) 64-Bit Server VM\n",
       "Default Encoding: UTF-8\n",
       "Language: en\n",
       "Country: US\n",
       "--></g></svg>"
      ],
      "text/plain": [
       "<IPython.core.display.SVG object>"
      ]
     },
     "execution_count": 4,
     "metadata": {},
     "output_type": "execute_result"
    }
   ],
   "source": [
    "%%plantuml \n",
    "\n",
    "@startuml\n",
    "class Node<T> {\n",
    "    + Node<T> Next\n",
    "    + T Item\n",
    "    + void Process()\n",
    "}\n",
    "\n",
    "class LinkedList<T> {\n",
    "    + Node<T> Head\n",
    "    + int Count\n",
    "    + Insert()\n",
    "    + Remove<T>(T item)\n",
    "    + Reverse()\n",
    "    + Find<T>(T item) : Node<T>\n",
    "}\n",
    "\n",
    "Node <.. LinkedList\n",
    "@enduml"
   ]
  },
  {
   "cell_type": "code",
   "execution_count": null,
   "id": "bfcbaf6e",
   "metadata": {},
   "outputs": [],
   "source": []
  }
 ],
 "metadata": {
  "kernelspec": {
   "display_name": "Python 3 (ipykernel)",
   "language": "python",
   "name": "python3"
  },
  "language_info": {
   "codemirror_mode": {
    "name": "ipython",
    "version": 3
   },
   "file_extension": ".py",
   "mimetype": "text/x-python",
   "name": "python",
   "nbconvert_exporter": "python",
   "pygments_lexer": "ipython3",
   "version": "3.9.7"
  }
 },
 "nbformat": 4,
 "nbformat_minor": 5
}

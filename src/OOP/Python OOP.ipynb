{
 "cells": [
  {
   "cell_type": "markdown",
   "id": "b05db695",
   "metadata": {},
   "source": [
    "## <span style=\"font-weight:bold;font-size:1.9em;color:#0e92ea\">Object Oriented Programming</span>\n",
    "<p style=\"font-family: Arial;color:#0e92ea\">OOP helps us : keep complex and large programs Organised, abstract complex code, and isolate different parts of the program.</p>\n",
    "\n",
    "#### <span style=\"font-weight:bold;font-size:1.9em;color:#0e92ea\">Content</span>\n",
    "\n",
    "<ol style=\"color:#0e92ea\">\n",
    "    <li>Classes</li>\n",
    "    <li>Inheritence</li>\n",
    "    <li>Composition</li>\n",
    "    <li>Interfaces</li>\n",
    "    <li>UML</li>\n",
    "</ol>"
   ]
  },
  {
   "cell_type": "markdown",
   "id": "49cf8ae0",
   "metadata": {},
   "source": [
    "#### <span style=\"font-weight:bold;font-size:1.9em;color:#0e92ea\">1. Classes</span>"
   ]
  },
  {
   "cell_type": "markdown",
   "id": "ef3e88da",
   "metadata": {},
   "source": [
    "#### <span style=\"font-weight:bold;font-size:1.2em;color:#0e92ea\">1.1 Creating a class</span>"
   ]
  },
  {
   "cell_type": "code",
   "execution_count": 1,
   "id": "8bd78449",
   "metadata": {},
   "outputs": [],
   "source": [
    "class Node:\n",
    "    pass"
   ]
  },
  {
   "cell_type": "markdown",
   "id": "9da2791d",
   "metadata": {},
   "source": [
    "#### <span style=\"font-weight:bold;font-size:1.2em;color:#0e92ea\">1.2 Class Construtor and Attributes</span>\n",
    "\n",
    "- The python __init__ method perfoms simlar function to a constructor in C#/Java/C++\n",
    "- We use this method to initalise class attributes and to define class member variables"
   ]
  },
  {
   "cell_type": "code",
   "execution_count": 2,
   "id": "8cdbe7ac",
   "metadata": {},
   "outputs": [],
   "source": [
    "class Node:\n",
    "    def __init__(self, nextNode = None, value = 0):\n",
    "        self.NextNode = nextNode\n",
    "        self.Item = value"
   ]
  },
  {
   "cell_type": "markdown",
   "id": "349c39d0",
   "metadata": {},
   "source": [
    "#### <span style=\"font-weight:bold;font-size:1.2em;color:#0e92ea\">1.3 Creating an instance of a class</span>"
   ]
  },
  {
   "cell_type": "code",
   "execution_count": 3,
   "id": "ca72b349",
   "metadata": {},
   "outputs": [],
   "source": [
    "node = Node()"
   ]
  },
  {
   "cell_type": "markdown",
   "id": "10e9ea86",
   "metadata": {},
   "source": [
    "#### <span style=\"font-weight:bold;font-size:1.2em;color:#0e92ea\">1.4 Class Functions</span>\n",
    "\n",
    "- The keyword `def` is used to create python functions.\n",
    "- In this example we define a function called Process() that marks the current Node as seen by setting the Seen variable to True\n",
    "- to Access the Seen member variable we need to use the `self` keyword"
   ]
  },
  {
   "cell_type": "code",
   "execution_count": 4,
   "id": "8796e302",
   "metadata": {},
   "outputs": [],
   "source": [
    "class Node:\n",
    "    def __init__(self, nextNode = None, value = 0):\n",
    "        self.NextNode = nextNode\n",
    "        self.Item = value\n",
    "        self.Seen = False\n",
    "        \n",
    "    def __init__(self, value = 0):\n",
    "        self.Item = value\n",
    "        self.NextNode = None\n",
    "        self.Seen = False\n",
    "        \n",
    "    def Process(self):\n",
    "        self.Seen = True"
   ]
  },
  {
   "cell_type": "code",
   "execution_count": 5,
   "id": "e2e8020a",
   "metadata": {},
   "outputs": [
    {
     "name": "stdout",
     "output_type": "stream",
     "text": [
      "Item: 5, Seen: False\n"
     ]
    }
   ],
   "source": [
    "node = Node(value = 5)\n",
    "print(f\"Item: {node.Item}, Seen: {node.Seen}\")"
   ]
  },
  {
   "cell_type": "code",
   "execution_count": 6,
   "id": "353bc1d8",
   "metadata": {},
   "outputs": [
    {
     "name": "stdout",
     "output_type": "stream",
     "text": [
      "Item: 5, Seen: True\n"
     ]
    }
   ],
   "source": [
    "node.Process()\n",
    "print(f\"Item: {node.Item}, Seen: {node.Seen}\")"
   ]
  },
  {
   "cell_type": "markdown",
   "id": "49fcb0ef",
   "metadata": {},
   "source": [
    "#### <span style=\"font-weight:bold;font-size:1.2em;color:#0e92ea\">1.5 Class Ptotected Access Modifier</span>\n",
    "\n",
    "- Protected members are only accessed within the class and derived class.\n",
    "- Protected members are created by starting the variable names with underscore `_`\n",
    "- In this example, we move the variable Seen from public to protected so that it can only be accessed within the class and the derived class using the Process() method"
   ]
  },
  {
   "cell_type": "code",
   "execution_count": 7,
   "id": "572fd740",
   "metadata": {},
   "outputs": [],
   "source": [
    "class Node:\n",
    "    _Seen = False\n",
    "    def __init__(self, nextNode = None, value = 0):\n",
    "        self.NextNode = nextNode\n",
    "        self.Item = value\n",
    "        \n",
    "    def __init__(self, value = 0):\n",
    "        self.Item = value\n",
    "        self.NextNode = None\n",
    "        \n",
    "    def Process(self):\n",
    "        self._Seen = True\n",
    "        \n",
    "    def IsVisited(self):\n",
    "        return self._Seen"
   ]
  },
  {
   "cell_type": "markdown",
   "id": "7c7e93b2",
   "metadata": {},
   "source": [
    "- _Seen can still be accessed by a variable name\n",
    "- The underscore just tells us the variable `is only intended to be used by the class`"
   ]
  },
  {
   "cell_type": "code",
   "execution_count": 8,
   "id": "bf2a2713",
   "metadata": {},
   "outputs": [
    {
     "name": "stdout",
     "output_type": "stream",
     "text": [
      "Item: 5, Seen: False\n"
     ]
    }
   ],
   "source": [
    "node = Node(value = 5)\n",
    "print(f\"Item: {node.Item}, Seen: {node._Seen}\")"
   ]
  },
  {
   "cell_type": "code",
   "execution_count": 9,
   "id": "353a8fd9",
   "metadata": {},
   "outputs": [
    {
     "data": {
      "text/plain": [
       "True"
      ]
     },
     "execution_count": 9,
     "metadata": {},
     "output_type": "execute_result"
    }
   ],
   "source": [
    "node._Seen = True\n",
    "node._Seen"
   ]
  },
  {
   "cell_type": "code",
   "execution_count": 10,
   "id": "847cba93",
   "metadata": {},
   "outputs": [
    {
     "name": "stdout",
     "output_type": "stream",
     "text": [
      "Item: 5, Seen: False\n"
     ]
    }
   ],
   "source": [
    "node = Node(value = 5)\n",
    "print(f\"Item: {node.Item}, Seen: {node.IsVisited()}\")"
   ]
  },
  {
   "cell_type": "code",
   "execution_count": 11,
   "id": "4b3346d7",
   "metadata": {},
   "outputs": [
    {
     "name": "stdout",
     "output_type": "stream",
     "text": [
      "Item: 5, Seen: True\n"
     ]
    }
   ],
   "source": [
    "node.Process()\n",
    "print(f\"Item: {node.Item}, Seen: {node.IsVisited()}\")"
   ]
  },
  {
   "cell_type": "markdown",
   "id": "23b07ce6",
   "metadata": {},
   "source": [
    "#### <span style=\"font-weight:bold;font-size:1.2em;color:#0e92ea\">1.6 Class Private Access Modifier</span>\n",
    "\n",
    "- Private members are marked by double underscore `__`\n",
    "- Private members are only accessed within the class"
   ]
  },
  {
   "cell_type": "code",
   "execution_count": 12,
   "id": "8848dea5",
   "metadata": {},
   "outputs": [],
   "source": [
    "class Node:\n",
    "    __Seen = False\n",
    "    def __init__(self, nextNode = None, value = 0):\n",
    "        self.NextNode = nextNode\n",
    "        self.Item = value\n",
    "        \n",
    "    def __init__(self, value = 0):\n",
    "        self.Item = value\n",
    "        self.NextNode = None\n",
    "        \n",
    "    def Process(self):\n",
    "        self.__Seen = True\n",
    "        \n",
    "    def IsVisited(self):\n",
    "        return self.__Seen"
   ]
  },
  {
   "cell_type": "markdown",
   "id": "7794bf01",
   "metadata": {},
   "source": [
    "__Seen cannot be accessed by a vriable name"
   ]
  },
  {
   "cell_type": "code",
   "execution_count": 13,
   "id": "5c13fe3e",
   "metadata": {},
   "outputs": [
    {
     "ename": "AttributeError",
     "evalue": "'Node' object has no attribute '__Seen'",
     "output_type": "error",
     "traceback": [
      "\u001b[0;31m---------------------------------------------------------------------------\u001b[0m",
      "\u001b[0;31mAttributeError\u001b[0m                            Traceback (most recent call last)",
      "\u001b[0;32m/var/folders/my/dk1czlp12lv2qk5g5z05hww00000gn/T/ipykernel_25757/3619426996.py\u001b[0m in \u001b[0;36m<module>\u001b[0;34m\u001b[0m\n\u001b[1;32m      1\u001b[0m \u001b[0mnode\u001b[0m \u001b[0;34m=\u001b[0m \u001b[0mNode\u001b[0m\u001b[0;34m(\u001b[0m\u001b[0mvalue\u001b[0m \u001b[0;34m=\u001b[0m \u001b[0;36m5\u001b[0m\u001b[0;34m)\u001b[0m\u001b[0;34m\u001b[0m\u001b[0;34m\u001b[0m\u001b[0m\n\u001b[0;32m----> 2\u001b[0;31m \u001b[0mprint\u001b[0m\u001b[0;34m(\u001b[0m\u001b[0;34mf\"Item: {node.Item}, Seen: {node.__Seen}\"\u001b[0m\u001b[0;34m)\u001b[0m\u001b[0;34m\u001b[0m\u001b[0;34m\u001b[0m\u001b[0m\n\u001b[0m",
      "\u001b[0;31mAttributeError\u001b[0m: 'Node' object has no attribute '__Seen'"
     ]
    }
   ],
   "source": [
    "node = Node(value = 5)\n",
    "print(f\"Item: {node.Item}, Seen: {node.__Seen}\")"
   ]
  },
  {
   "cell_type": "code",
   "execution_count": 14,
   "id": "27ce99da",
   "metadata": {},
   "outputs": [
    {
     "name": "stdout",
     "output_type": "stream",
     "text": [
      "Item: 5, Seen: False\n"
     ]
    }
   ],
   "source": [
    "node = Node(value = 5)\n",
    "print(f\"Item: {node.Item}, Seen: {node.IsVisited()}\")"
   ]
  },
  {
   "cell_type": "code",
   "execution_count": 15,
   "id": "0b7f910a",
   "metadata": {},
   "outputs": [
    {
     "name": "stdout",
     "output_type": "stream",
     "text": [
      "Item: 5, Seen: True\n"
     ]
    }
   ],
   "source": [
    "node.Process()\n",
    "print(f\"Item: {node.Item}, Seen: {node.IsVisited()}\")"
   ]
  },
  {
   "cell_type": "markdown",
   "id": "e2f110f8",
   "metadata": {},
   "source": [
    "#### <span style=\"font-weight:bold;font-size:1.2em;color:#0e92ea\">1.7 Method Overloading</span>\n",
    "\n",
    "- Method with the same name and return type but different arguments.\n",
    "- Logic executed may depend on the type of arguments used\n",
    "- Here we overload Process() providing it with a bolean value to set the __Seen Status"
   ]
  },
  {
   "cell_type": "code",
   "execution_count": 16,
   "id": "e12b78bb",
   "metadata": {},
   "outputs": [],
   "source": [
    "class Node:\n",
    "    __Seen = False\n",
    "    def __init__(self, nextNode = None, value = 0):\n",
    "        self.NextNode = nextNode\n",
    "        self.Item = value\n",
    "        \n",
    "    def __init__(self, value = 0):\n",
    "        self.Item = value\n",
    "        self.NextNode = None\n",
    "        \n",
    "    def Process(self, seen = True):\n",
    "        self.__Seen = seen\n",
    "        \n",
    "    def IsVisited(self):\n",
    "        return self.__Seen"
   ]
  },
  {
   "cell_type": "code",
   "execution_count": 17,
   "id": "34964214",
   "metadata": {},
   "outputs": [
    {
     "name": "stdout",
     "output_type": "stream",
     "text": [
      "Item: 5, Seen: False\n"
     ]
    }
   ],
   "source": [
    "node = Node(value = 5)\n",
    "print(f\"Item: {node.Item}, Seen: {node.IsVisited()}\")"
   ]
  },
  {
   "cell_type": "code",
   "execution_count": 18,
   "id": "7252c06c",
   "metadata": {},
   "outputs": [
    {
     "name": "stdout",
     "output_type": "stream",
     "text": [
      "Item: 5, Seen: True\n"
     ]
    }
   ],
   "source": [
    "node.Process()\n",
    "print(f\"Item: {node.Item}, Seen: {node.IsVisited()}\")"
   ]
  },
  {
   "cell_type": "code",
   "execution_count": 19,
   "id": "da5b4148",
   "metadata": {},
   "outputs": [
    {
     "name": "stdout",
     "output_type": "stream",
     "text": [
      "Item: 5, Seen: False\n"
     ]
    }
   ],
   "source": [
    "node.Process(False)\n",
    "print(f\"Item: {node.Item}, Seen: {node.IsVisited()}\")"
   ]
  },
  {
   "cell_type": "code",
   "execution_count": null,
   "id": "b69eaf0b",
   "metadata": {},
   "outputs": [],
   "source": []
  }
 ],
 "metadata": {
  "kernelspec": {
   "display_name": "Python 3 (ipykernel)",
   "language": "python",
   "name": "python3"
  },
  "language_info": {
   "codemirror_mode": {
    "name": "ipython",
    "version": 3
   },
   "file_extension": ".py",
   "mimetype": "text/x-python",
   "name": "python",
   "nbconvert_exporter": "python",
   "pygments_lexer": "ipython3",
   "version": "3.9.7"
  }
 },
 "nbformat": 4,
 "nbformat_minor": 5
}

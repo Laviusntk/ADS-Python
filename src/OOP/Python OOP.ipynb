{
 "cells": [
  {
   "cell_type": "markdown",
   "id": "b05db695",
   "metadata": {},
   "source": [
    "## <span style=\"font-weight:bold;font-size:1.9em;color:#0e92ea\">Object Oriented Programming</span>\n",
    "<p style=\"font-family: Arial;color:#0e92ea\">OOP helps us : keep complex and large programs Organised, abstract complex code, and isolate different parts of the program.</p>\n",
    "\n",
    "#### <span style=\"font-weight:bold;font-size:1.9em;color:#0e92ea\">Content</span>\n",
    "\n",
    "<ol style=\"color:#0e92ea\">\n",
    "    <li>Classes</li>\n",
    "    <li>Inheritence</li>\n",
    "    <li>Interfaces</li>\n",
    "    <li>Composition</li>\n",
    "    <li>Unit Testing</li>\n",
    "</ol>"
   ]
  },
  {
   "cell_type": "code",
   "execution_count": 1,
   "id": "5c245e79",
   "metadata": {},
   "outputs": [],
   "source": [
    "from abc import ABC, abstractmethod\n",
    "import json"
   ]
  },
  {
   "cell_type": "markdown",
   "id": "49cf8ae0",
   "metadata": {},
   "source": [
    "#### <span style=\"font-weight:bold;font-size:1.9em;color:#0e92ea\">1. Classes</span>"
   ]
  },
  {
   "cell_type": "markdown",
   "id": "ef3e88da",
   "metadata": {},
   "source": [
    "#### <span style=\"font-weight:bold;font-size:1.2em;color:#0e92ea\">1.1 Creating a class</span>"
   ]
  },
  {
   "cell_type": "code",
   "execution_count": 2,
   "id": "8bd78449",
   "metadata": {},
   "outputs": [],
   "source": [
    "class Node:\n",
    "    pass"
   ]
  },
  {
   "cell_type": "markdown",
   "id": "a42d129e",
   "metadata": {},
   "source": [
    "#### <span style=\"font-weight:bold;font-size:1.2em;color:#0e92ea\">1.2 Class Construtor and Attributes</span>\n",
    "\n",
    "- The python __init__ method perfoms simlar function to a constructor in C#/Java/C++\n",
    "- We use this method to initalise class attributes and to define class member variables"
   ]
  },
  {
   "cell_type": "code",
   "execution_count": 3,
   "id": "a91c5f95",
   "metadata": {},
   "outputs": [],
   "source": [
    "class Node:\n",
    "    def __init__(self, nextNode = None, value = 0):\n",
    "        self.NextNode = nextNode\n",
    "        self.Item = value"
   ]
  },
  {
   "cell_type": "markdown",
   "id": "349c39d0",
   "metadata": {},
   "source": [
    "#### <span style=\"font-weight:bold;font-size:1.2em;color:#0e92ea\">1.3 Creating an instance of a class</span>"
   ]
  },
  {
   "cell_type": "code",
   "execution_count": 4,
   "id": "ca72b349",
   "metadata": {},
   "outputs": [],
   "source": [
    "node = Node()"
   ]
  },
  {
   "cell_type": "markdown",
   "id": "10e9ea86",
   "metadata": {},
   "source": [
    "#### <span style=\"font-weight:bold;font-size:1.2em;color:#0e92ea\">1.4 Class Functions</span>\n",
    "\n",
    "- The keyword `def` is used to create python functions.\n",
    "- In this example we define a function called Process() that marks the current Node as seen by setting the Seen variable to True\n",
    "- to Access the Seen member variable we need to use the `self` keyword"
   ]
  },
  {
   "cell_type": "code",
   "execution_count": 5,
   "id": "8796e302",
   "metadata": {},
   "outputs": [],
   "source": [
    "class Node:\n",
    "    def __init__(self, nextNode = None, value = 0):\n",
    "        self.NextNode = nextNode\n",
    "        self.Item = value\n",
    "        self.Seen = False\n",
    "\n",
    "    def Process(self):\n",
    "        self.Seen = True"
   ]
  },
  {
   "cell_type": "code",
   "execution_count": 6,
   "id": "e2e8020a",
   "metadata": {},
   "outputs": [
    {
     "name": "stdout",
     "output_type": "stream",
     "text": [
      "Item: 5, Seen: False\n"
     ]
    }
   ],
   "source": [
    "node = Node(value = 5)\n",
    "print(f\"Item: {node.Item}, Seen: {node.Seen}\")"
   ]
  },
  {
   "cell_type": "code",
   "execution_count": 7,
   "id": "a5986acb",
   "metadata": {},
   "outputs": [
    {
     "name": "stdout",
     "output_type": "stream",
     "text": [
      "Item: 5, Seen: True\n"
     ]
    }
   ],
   "source": [
    "node.Process()\n",
    "print(f\"Item: {node.Item}, Seen: {node.Seen}\")"
   ]
  },
  {
   "cell_type": "markdown",
   "id": "2e8d9adc",
   "metadata": {},
   "source": [
    "#### <span style=\"font-weight:bold;font-size:1.2em;color:#0e92ea\">1.5 Class Protected Access Modifier</span>\n",
    "\n",
    "- Protected members are only accessed within the class and derived class.\n",
    "- Protected members are created by starting the variable names with underscore `_`\n",
    "- In this example, we move the variable Seen from public to protected so that it can only be accessed within the class and the derived class using the Process() method"
   ]
  },
  {
   "cell_type": "code",
   "execution_count": 8,
   "id": "6802c900",
   "metadata": {},
   "outputs": [],
   "source": [
    "class Node:\n",
    "    _Seen = False\n",
    "    def __init__(self, nextNode = None, value = 0):\n",
    "        self.NextNode = nextNode\n",
    "        self.Item = value\n",
    "        \n",
    "    def Process(self):\n",
    "        self._Seen = True\n",
    "        \n",
    "    def IsVisited(self):\n",
    "        return self._Seen"
   ]
  },
  {
   "cell_type": "markdown",
   "id": "4295cc30",
   "metadata": {},
   "source": [
    "- _Seen can still be accessed by a variable name\n",
    "- The underscore just tells us the variable `is only intended to be used by the class`"
   ]
  },
  {
   "cell_type": "code",
   "execution_count": 9,
   "id": "2050e32a",
   "metadata": {},
   "outputs": [
    {
     "name": "stdout",
     "output_type": "stream",
     "text": [
      "Item: 5, Seen: False\n"
     ]
    }
   ],
   "source": [
    "node = Node(value = 5)\n",
    "print(f\"Item: {node.Item}, Seen: {node._Seen}\")"
   ]
  },
  {
   "cell_type": "code",
   "execution_count": 10,
   "id": "b32e82ce",
   "metadata": {},
   "outputs": [
    {
     "data": {
      "text/plain": [
       "True"
      ]
     },
     "execution_count": 10,
     "metadata": {},
     "output_type": "execute_result"
    }
   ],
   "source": [
    "node._Seen = True\n",
    "node._Seen"
   ]
  },
  {
   "cell_type": "code",
   "execution_count": 11,
   "id": "be62ee46",
   "metadata": {},
   "outputs": [
    {
     "name": "stdout",
     "output_type": "stream",
     "text": [
      "Item: 5, Seen: False\n"
     ]
    }
   ],
   "source": [
    "node = Node(value = 5)\n",
    "print(f\"Item: {node.Item}, Seen: {node.IsVisited()}\")"
   ]
  },
  {
   "cell_type": "code",
   "execution_count": 12,
   "id": "e3f1d2a0",
   "metadata": {},
   "outputs": [
    {
     "name": "stdout",
     "output_type": "stream",
     "text": [
      "Item: 5, Seen: True\n"
     ]
    }
   ],
   "source": [
    "node.Process()\n",
    "print(f\"Item: {node.Item}, Seen: {node.IsVisited()}\")"
   ]
  },
  {
   "cell_type": "markdown",
   "id": "5dc8199e",
   "metadata": {},
   "source": [
    "#### <span style=\"font-weight:bold;font-size:1.2em;color:#0e92ea\">1.6 Class Private Access Modifier</span>\n",
    "\n",
    "- Private members are marked by double underscore `__`\n",
    "- Private members are only accessed within the class"
   ]
  },
  {
   "cell_type": "code",
   "execution_count": 13,
   "id": "886918b2",
   "metadata": {},
   "outputs": [],
   "source": [
    "class Node:\n",
    "    __Seen = False\n",
    "    def __init__(self, nextNode = None, value = 0):\n",
    "        self.NextNode = nextNode\n",
    "        self.Item = value\n",
    "        \n",
    "    def Process(self):\n",
    "        self.__Seen = True\n",
    "        \n",
    "    def IsVisited(self):\n",
    "        return self.__Seen"
   ]
  },
  {
   "cell_type": "markdown",
   "id": "b69fac8f",
   "metadata": {},
   "source": [
    "__Seen cannot be accessed by a vriable name"
   ]
  },
  {
   "cell_type": "code",
   "execution_count": 14,
   "id": "82aa5729",
   "metadata": {},
   "outputs": [
    {
     "ename": "AttributeError",
     "evalue": "'Node' object has no attribute '__Seen'",
     "output_type": "error",
     "traceback": [
      "\u001b[0;31m---------------------------------------------------------------------------\u001b[0m",
      "\u001b[0;31mAttributeError\u001b[0m                            Traceback (most recent call last)",
      "\u001b[0;32m/var/folders/my/dk1czlp12lv2qk5g5z05hww00000gn/T/ipykernel_29411/3619426996.py\u001b[0m in \u001b[0;36m<module>\u001b[0;34m\u001b[0m\n\u001b[1;32m      1\u001b[0m \u001b[0mnode\u001b[0m \u001b[0;34m=\u001b[0m \u001b[0mNode\u001b[0m\u001b[0;34m(\u001b[0m\u001b[0mvalue\u001b[0m \u001b[0;34m=\u001b[0m \u001b[0;36m5\u001b[0m\u001b[0;34m)\u001b[0m\u001b[0;34m\u001b[0m\u001b[0;34m\u001b[0m\u001b[0m\n\u001b[0;32m----> 2\u001b[0;31m \u001b[0mprint\u001b[0m\u001b[0;34m(\u001b[0m\u001b[0;34mf\"Item: {node.Item}, Seen: {node.__Seen}\"\u001b[0m\u001b[0;34m)\u001b[0m\u001b[0;34m\u001b[0m\u001b[0;34m\u001b[0m\u001b[0m\n\u001b[0m",
      "\u001b[0;31mAttributeError\u001b[0m: 'Node' object has no attribute '__Seen'"
     ]
    }
   ],
   "source": [
    "node = Node(value = 5)\n",
    "print(f\"Item: {node.Item}, Seen: {node.__Seen}\")"
   ]
  },
  {
   "cell_type": "code",
   "execution_count": 15,
   "id": "998c90d4",
   "metadata": {},
   "outputs": [
    {
     "name": "stdout",
     "output_type": "stream",
     "text": [
      "Item: 5, Seen: False\n"
     ]
    }
   ],
   "source": [
    "node = Node(value = 5)\n",
    "print(f\"Item: {node.Item}, Seen: {node.IsVisited()}\")"
   ]
  },
  {
   "cell_type": "code",
   "execution_count": 16,
   "id": "ebd1fa5b",
   "metadata": {},
   "outputs": [
    {
     "name": "stdout",
     "output_type": "stream",
     "text": [
      "Item: 5, Seen: True\n"
     ]
    }
   ],
   "source": [
    "node.Process()\n",
    "print(f\"Item: {node.Item}, Seen: {node.IsVisited()}\")"
   ]
  },
  {
   "cell_type": "markdown",
   "id": "f9bd9ae7",
   "metadata": {},
   "source": [
    "#### <span style=\"font-weight:bold;font-size:1.2em;color:#0e92ea\">1.7 Method Overloading</span>\n",
    "\n",
    "- Method with the same name and return type but different arguments.\n",
    "- Logic executed may depend on the type of arguments used\n",
    "- Here we overload Process() providing it with a bolean value to set the __Seen Status"
   ]
  },
  {
   "cell_type": "code",
   "execution_count": 17,
   "id": "8efee25a",
   "metadata": {},
   "outputs": [],
   "source": [
    "class Node:\n",
    "    __Seen = False\n",
    "    def __init__(self, nextNode = None, value = 0):\n",
    "        self.NextNode = nextNode\n",
    "        self.Item = value\n",
    "        \n",
    "    def Process(self, seen = True):\n",
    "        self.__Seen = seen\n",
    "        \n",
    "    def IsVisited(self):\n",
    "        return self.__Seen"
   ]
  },
  {
   "cell_type": "code",
   "execution_count": 18,
   "id": "4627aaa6",
   "metadata": {},
   "outputs": [
    {
     "name": "stdout",
     "output_type": "stream",
     "text": [
      "Item: 5, Seen: False\n"
     ]
    }
   ],
   "source": [
    "node = Node(value = 5)\n",
    "print(f\"Item: {node.Item}, Seen: {node.IsVisited()}\")"
   ]
  },
  {
   "cell_type": "code",
   "execution_count": 19,
   "id": "5ffaf47d",
   "metadata": {},
   "outputs": [
    {
     "name": "stdout",
     "output_type": "stream",
     "text": [
      "Item: 5, Seen: True\n"
     ]
    }
   ],
   "source": [
    "node.Process()\n",
    "print(f\"Item: {node.Item}, Seen: {node.IsVisited()}\")"
   ]
  },
  {
   "cell_type": "code",
   "execution_count": 20,
   "id": "d2714ccf",
   "metadata": {},
   "outputs": [
    {
     "name": "stdout",
     "output_type": "stream",
     "text": [
      "Item: 5, Seen: False\n"
     ]
    }
   ],
   "source": [
    "node.Process(False)\n",
    "print(f\"Item: {node.Item}, Seen: {node.IsVisited()}\")"
   ]
  },
  {
   "cell_type": "markdown",
   "id": "a45253d7",
   "metadata": {},
   "source": [
    "#### <span style=\"font-weight:bold;font-size:1.9em;color:#0e92ea\">2. Inheritence</span>"
   ]
  },
  {
   "cell_type": "markdown",
   "id": "e13cc495",
   "metadata": {},
   "source": [
    "#### <span style=\"font-weight:bold;font-size:1.2em;color:#0e92ea\">2.1 Inheritence Overview</span>\n",
    "- Inheritence provides a way for class to inherit attributes and functionality from another class.\n",
    "- This helps reduce duplication of code.\n",
    "- A class that inherits can also override the functionality of the parent class.\n",
    "- In the example below we create a DoubleLinkedListNode that inherits from Node. We do this by adding Node in the paranthesis of the DoubleLinkedListNode class name\n",
    "- A double LinkedList node has an extra attribute called \"PreviousNode\" that points to the  previous Node."
   ]
  },
  {
   "cell_type": "code",
   "execution_count": 21,
   "id": "439160ff",
   "metadata": {},
   "outputs": [],
   "source": [
    "class DoubleLinkedListNode(Node):\n",
    "    __Seen = False\n",
    "    def __init__(self, previousNode = None, nextNode = None, value = 0):\n",
    "        super().__init__(nextNode, value)\n",
    "        self.PreviousNode = previousNode"
   ]
  },
  {
   "cell_type": "code",
   "execution_count": 22,
   "id": "ce6cbcd8",
   "metadata": {},
   "outputs": [
    {
     "name": "stdout",
     "output_type": "stream",
     "text": [
      "Item: 0, Seen: False\n"
     ]
    }
   ],
   "source": [
    "doubleLinkedListNode = DoubleLinkedListNode(6)\n",
    "print(f\"Item: {doubleLinkedListNode.Item}, Seen: {doubleLinkedListNode.IsVisited()}\")"
   ]
  },
  {
   "cell_type": "code",
   "execution_count": 23,
   "id": "bf4f97d4",
   "metadata": {},
   "outputs": [
    {
     "name": "stdout",
     "output_type": "stream",
     "text": [
      "Item: 0, Seen: True\n"
     ]
    }
   ],
   "source": [
    "doubleLinkedListNode.Process()\n",
    "print(f\"Item: {doubleLinkedListNode.Item}, Seen: {doubleLinkedListNode.IsVisited()}\")"
   ]
  },
  {
   "cell_type": "code",
   "execution_count": 24,
   "id": "fd44f142",
   "metadata": {},
   "outputs": [
    {
     "name": "stdout",
     "output_type": "stream",
     "text": [
      "Item: 0, Seen: False\n"
     ]
    }
   ],
   "source": [
    "doubleLinkedListNode.Process(False)\n",
    "print(f\"Item: {doubleLinkedListNode.Item}, Seen: {doubleLinkedListNode.IsVisited()}\")"
   ]
  },
  {
   "cell_type": "markdown",
   "id": "aeebb979",
   "metadata": {},
   "source": [
    "#### <span style=\"font-weight:bold;font-size:1.2em;color:#0e92ea\">2.2 Abstract Base Class</span>\n",
    "- Abstract classes allow us to create a template for classes with base functionality.\n",
    "- Abstract classes can be instatiated since they may contain methods that arent implemtnted yet. We can enforce this by inheriting from the Abtract Base classs (ABC).\n",
    "- In the example below we create a base abstract Node class with an empty Process() method. This allows for different DS algorithms to provide their own implementation of Process()"
   ]
  },
  {
   "cell_type": "code",
   "execution_count": 25,
   "id": "760e43e2",
   "metadata": {},
   "outputs": [],
   "source": [
    "class BaseNode(ABC):\n",
    "    _Seen = False\n",
    "    def __init__(self, nextNode = None, value = 0):\n",
    "        self.NextNode = nextNode\n",
    "        self.Item = value\n",
    "     \n",
    "    def IsVisited(self):\n",
    "        return self._Seen\n",
    "    \n",
    "    @abstractmethod\n",
    "    def Process(self, seen = True):\n",
    "        pass "
   ]
  },
  {
   "cell_type": "markdown",
   "id": "21bbd48d",
   "metadata": {},
   "source": [
    "- When we try to instantiate a base class we get an error:"
   ]
  },
  {
   "cell_type": "code",
   "execution_count": 26,
   "id": "3dd8ddc9",
   "metadata": {},
   "outputs": [
    {
     "ename": "TypeError",
     "evalue": "Can't instantiate abstract class BaseNode with abstract method Process",
     "output_type": "error",
     "traceback": [
      "\u001b[0;31m---------------------------------------------------------------------------\u001b[0m",
      "\u001b[0;31mTypeError\u001b[0m                                 Traceback (most recent call last)",
      "\u001b[0;32m/var/folders/my/dk1czlp12lv2qk5g5z05hww00000gn/T/ipykernel_29411/818593405.py\u001b[0m in \u001b[0;36m<module>\u001b[0;34m\u001b[0m\n\u001b[0;32m----> 1\u001b[0;31m \u001b[0mnode\u001b[0m \u001b[0;34m=\u001b[0m \u001b[0mBaseNode\u001b[0m\u001b[0;34m(\u001b[0m\u001b[0;36m6\u001b[0m\u001b[0;34m)\u001b[0m\u001b[0;34m\u001b[0m\u001b[0;34m\u001b[0m\u001b[0m\n\u001b[0m\u001b[1;32m      2\u001b[0m \u001b[0mprint\u001b[0m\u001b[0;34m(\u001b[0m\u001b[0;34mf\"Item: {node.Item}, Seen: {node.IsVisited()}\"\u001b[0m\u001b[0;34m)\u001b[0m\u001b[0;34m\u001b[0m\u001b[0;34m\u001b[0m\u001b[0m\n",
      "\u001b[0;31mTypeError\u001b[0m: Can't instantiate abstract class BaseNode with abstract method Process"
     ]
    }
   ],
   "source": [
    "node = BaseNode(6)\n",
    "print(f\"Item: {node.Item}, Seen: {node.IsVisited()}\")"
   ]
  },
  {
   "cell_type": "markdown",
   "id": "6ae7c0e6",
   "metadata": {},
   "source": [
    "- Now `DoubleLinkedListNode` inherits from `BaseNode` and implements the `Process()` method "
   ]
  },
  {
   "cell_type": "code",
   "execution_count": 27,
   "id": "ce3be598",
   "metadata": {},
   "outputs": [],
   "source": [
    "class DoubleLinkedListNode(BaseNode):\n",
    "    def __init__(self, previousNode = None, nextNode = None, value = 0):\n",
    "        super().__init__(nextNode, value)\n",
    "        self.PreviousNode = previousNode\n",
    "        \n",
    "    def Process(self, seen = True):\n",
    "        print(\"Processing\")\n",
    "        self._Seen = seen"
   ]
  },
  {
   "cell_type": "code",
   "execution_count": 28,
   "id": "a303407d",
   "metadata": {},
   "outputs": [
    {
     "name": "stdout",
     "output_type": "stream",
     "text": [
      "Item: 0, Seen: False\n"
     ]
    }
   ],
   "source": [
    "doubleLinkedListNode = DoubleLinkedListNode(7)\n",
    "print(f\"Item: {doubleLinkedListNode.Item}, Seen: {doubleLinkedListNode.IsVisited()}\")"
   ]
  },
  {
   "cell_type": "code",
   "execution_count": 29,
   "id": "68d5c7aa",
   "metadata": {},
   "outputs": [
    {
     "name": "stdout",
     "output_type": "stream",
     "text": [
      "Processing\n",
      "Item: 0, Seen: True\n"
     ]
    }
   ],
   "source": [
    "doubleLinkedListNode.Process()\n",
    "print(f\"Item: {doubleLinkedListNode.Item}, Seen: {doubleLinkedListNode.IsVisited()}\")"
   ]
  },
  {
   "cell_type": "markdown",
   "id": "7bb23a91",
   "metadata": {},
   "source": [
    "#### <span style=\"font-weight:bold;font-size:1.9em;color:#0e92ea\">3. Interfaces</span>\n",
    "\n",
    "- Interfaces are created in same way as an Abstract class\n",
    "- Here we create an interface called Stringify that forces class that inherits it to provide a string version of the class"
   ]
  },
  {
   "cell_type": "code",
   "execution_count": 33,
   "id": "5459c79a",
   "metadata": {},
   "outputs": [],
   "source": [
    "class Stringify(ABC):\n",
    "    @abstractmethod\n",
    "    def ToString(self):\n",
    "        pass\n",
    "    \n",
    "class DoubleLinkedListNode(BaseNode, Stringify):\n",
    "    def __init__(self, previousNode = None, nextNode = None, value = 0):\n",
    "        super().__init__(nextNode, value)\n",
    "        self.PreviousNode = previousNode\n",
    "        \n",
    "    def Process(self, seen = True):\n",
    "        print(\"Processing\")\n",
    "        self._Seen = seen\n",
    "    \n",
    "    def ToString(self):\n",
    "        return json.dumps({\n",
    "            \"Seen\" : self._Seen,\n",
    "            \"PreviousNode\": self.PreviousNode.Item,\n",
    "            \"NextNode\": self.NextNode.Item,\n",
    "            \"Value\": self.Item\n",
    "        })"
   ]
  },
  {
   "cell_type": "code",
   "execution_count": 35,
   "id": "73e1d69c",
   "metadata": {},
   "outputs": [
    {
     "data": {
      "text/plain": [
       "'{\"Seen\": false, \"PreviousNode\": 10, \"NextNode\": 12, \"Value\": 11}'"
      ]
     },
     "execution_count": 35,
     "metadata": {},
     "output_type": "execute_result"
    }
   ],
   "source": [
    "doubleLinkedListNode = DoubleLinkedListNode(\n",
    "    previousNode = DoubleLinkedListNode(None, None, 10),\n",
    "    nextNode     = DoubleLinkedListNode(None, None, 12),\n",
    "    value        = 11)\n",
    "doubleLinkedListNode.ToString()"
   ]
  },
  {
   "cell_type": "code",
   "execution_count": 37,
   "id": "7963e814",
   "metadata": {},
   "outputs": [
    {
     "data": {
      "text/plain": [
       "(__main__.DoubleLinkedListNode,\n",
       " __main__.BaseNode,\n",
       " __main__.Stringify,\n",
       " abc.ABC,\n",
       " object)"
      ]
     },
     "execution_count": 37,
     "metadata": {},
     "output_type": "execute_result"
    }
   ],
   "source": [
    "DoubleLinkedListNode.__mro__"
   ]
  },
  {
   "cell_type": "markdown",
   "id": "c2135df8",
   "metadata": {},
   "source": [
    "#### <span style=\"font-weight:bold;font-size:1.9em;color:#0e92ea\">4. Composition</span>\n",
    "- Just using a custom type as a member variable.\n",
    "- Example is NextNode used for Node type."
   ]
  },
  {
   "cell_type": "code",
   "execution_count": null,
   "id": "ae7da78f",
   "metadata": {},
   "outputs": [],
   "source": []
  }
 ],
 "metadata": {
  "kernelspec": {
   "display_name": "Python 3 (ipykernel)",
   "language": "python",
   "name": "python3"
  },
  "language_info": {
   "codemirror_mode": {
    "name": "ipython",
    "version": 3
   },
   "file_extension": ".py",
   "mimetype": "text/x-python",
   "name": "python",
   "nbconvert_exporter": "python",
   "pygments_lexer": "ipython3",
   "version": "3.9.7"
  }
 },
 "nbformat": 4,
 "nbformat_minor": 5
}

{
 "cells": [
  {
   "cell_type": "markdown",
   "id": "b05db695",
   "metadata": {},
   "source": [
    "## <span style=\"font-weight:bold;font-size:1.9em;color:#0e92ea\">Object Oriented Programming</span>\n",
    "<p style=\"font-family: Arial;color:#0e92ea\">OOP helps us : keep complex and large programs Organised, abstract complex code, and isolate different parts of the program.</p>\n",
    "\n",
    "#### <span style=\"font-weight:bold;font-size:1.9em;color:#0e92ea\">Content</span>\n",
    "\n",
    "<ol style=\"color:#0e92ea\">\n",
    "    <li>Classes</li>\n",
    "    <li>Inheritence</li>\n",
    "    <li>Composition</li>\n",
    "    <li>Interfaces</li>\n",
    "    <li>UML</li>\n",
    "</ol>"
   ]
  },
  {
   "cell_type": "markdown",
   "id": "49cf8ae0",
   "metadata": {},
   "source": [
    "#### <span style=\"font-weight:bold;font-size:1.9em;color:#0e92ea\">1. Classes</span>"
   ]
  },
  {
   "cell_type": "markdown",
   "id": "ef3e88da",
   "metadata": {},
   "source": [
    "#### <span style=\"font-weight:bold;font-size:1.2em;color:#0e92ea\">1.1 Creating a class</span>"
   ]
  },
  {
   "cell_type": "code",
   "execution_count": 1,
   "id": "8bd78449",
   "metadata": {},
   "outputs": [],
   "source": [
    "class Node:\n",
    "    pass"
   ]
  },
  {
   "cell_type": "markdown",
   "id": "a764f996",
   "metadata": {},
   "source": [
    "#### <span style=\"font-weight:bold;font-size:1.2em;color:#0e92ea\">1.2 Class Construtor and Attributes</span>\n",
    "\n",
    "- The python __init__ method perfoms simlar function to a constructor in C#/Java/C++\n",
    "- We use this method to initalise class attributes and to define class member variables"
   ]
  },
  {
   "cell_type": "code",
   "execution_count": 2,
   "id": "2fe62ff5",
   "metadata": {},
   "outputs": [],
   "source": [
    "class Node:\n",
    "    def __init__(self, nextNode = None, value = 0):\n",
    "        self.NextNode = nextNode\n",
    "        self.Item = value"
   ]
  },
  {
   "cell_type": "markdown",
   "id": "349c39d0",
   "metadata": {},
   "source": [
    "#### <span style=\"font-weight:bold;font-size:1.2em;color:#0e92ea\">1.3 Creating an instance of a class</span>"
   ]
  },
  {
   "cell_type": "code",
   "execution_count": 3,
   "id": "ca72b349",
   "metadata": {},
   "outputs": [],
   "source": [
    "node = Node()"
   ]
  },
  {
   "cell_type": "markdown",
   "id": "10e9ea86",
   "metadata": {},
   "source": [
    "#### <span style=\"font-weight:bold;font-size:1.2em;color:#0e92ea\">1.4 Class Functions</span>\n",
    "\n",
    "- The keyword `def` is used to create python functions.\n",
    "- In this example we define a function called Process() that marks the current Node as seen by setting the Seen variable to True\n",
    "- to Access the Seen member variable we need to use the `self` keyword"
   ]
  },
  {
   "cell_type": "code",
   "execution_count": 4,
   "id": "8796e302",
   "metadata": {},
   "outputs": [],
   "source": [
    "class Node:\n",
    "    def __init__(self, nextNode = None, value = 0):\n",
    "        self.NextNode = nextNode\n",
    "        self.Item = value\n",
    "        self.Seen = False\n",
    "        \n",
    "    def __init__(self, value = 0):\n",
    "        self.Item = value\n",
    "        self.NextNode = None\n",
    "        self.Seen = False\n",
    "        \n",
    "    def Process(self):\n",
    "        self.Seen = True"
   ]
  },
  {
   "cell_type": "code",
   "execution_count": 5,
   "id": "e2e8020a",
   "metadata": {},
   "outputs": [
    {
     "name": "stdout",
     "output_type": "stream",
     "text": [
      "Item: 5, Seen: False\n"
     ]
    }
   ],
   "source": [
    "node = Node(value = 5)\n",
    "print(f\"Item: {node.Item}, Seen: {node.Seen}\")"
   ]
  },
  {
   "cell_type": "code",
   "execution_count": 6,
   "id": "44569066",
   "metadata": {},
   "outputs": [
    {
     "name": "stdout",
     "output_type": "stream",
     "text": [
      "Item: 5, Seen: True\n"
     ]
    }
   ],
   "source": [
    "node.Process()\n",
    "print(f\"Item: {node.Item}, Seen: {node.Seen}\")"
   ]
  },
  {
   "cell_type": "markdown",
   "id": "7d98466d",
   "metadata": {},
   "source": [
    "#### <span style=\"font-weight:bold;font-size:1.2em;color:#0e92ea\">1.5 Class Ptotected Access Modifier</span>\n",
    "\n",
    "- Protected members are only accessed within the class and derived class.\n",
    "- Protected members are created by starting the variable names with underscore `_`\n",
    "- In this example, we move the variable Seen from public to protected so that it can only be accessed within the class and the derived class using the Process() method"
   ]
  },
  {
   "cell_type": "code",
   "execution_count": 7,
   "id": "b9dc27ba",
   "metadata": {},
   "outputs": [],
   "source": [
    "class Node:\n",
    "    _Seen = False\n",
    "    def __init__(self, nextNode = None, value = 0):\n",
    "        self.NextNode = nextNode\n",
    "        self.Item = value\n",
    "        \n",
    "    def __init__(self, value = 0):\n",
    "        self.Item = value\n",
    "        self.NextNode = None\n",
    "        \n",
    "    def Process(self):\n",
    "        self._Seen = True\n",
    "        \n",
    "    def IsVisited(self):\n",
    "        return self._Seen"
   ]
  },
  {
   "cell_type": "markdown",
   "id": "5fff5bcd",
   "metadata": {},
   "source": [
    "- _Seen can still be accessed by a variable name\n",
    "- The underscore just tells us the variable `is only intended to be used by the class`"
   ]
  },
  {
   "cell_type": "code",
   "execution_count": 8,
   "id": "5063891a",
   "metadata": {},
   "outputs": [
    {
     "name": "stdout",
     "output_type": "stream",
     "text": [
      "Item: 5, Seen: False\n"
     ]
    }
   ],
   "source": [
    "node = Node(value = 5)\n",
    "print(f\"Item: {node.Item}, Seen: {node._Seen}\")"
   ]
  },
  {
   "cell_type": "code",
   "execution_count": 9,
   "id": "61324341",
   "metadata": {},
   "outputs": [
    {
     "data": {
      "text/plain": [
       "True"
      ]
     },
     "execution_count": 9,
     "metadata": {},
     "output_type": "execute_result"
    }
   ],
   "source": [
    "node._Seen = True\n",
    "node._Seen"
   ]
  },
  {
   "cell_type": "code",
   "execution_count": 10,
   "id": "1f571dbb",
   "metadata": {},
   "outputs": [
    {
     "name": "stdout",
     "output_type": "stream",
     "text": [
      "Item: 5, Seen: False\n"
     ]
    }
   ],
   "source": [
    "node = Node(value = 5)\n",
    "print(f\"Item: {node.Item}, Seen: {node.IsVisited()}\")"
   ]
  },
  {
   "cell_type": "code",
   "execution_count": 11,
   "id": "ce3a268a",
   "metadata": {},
   "outputs": [
    {
     "name": "stdout",
     "output_type": "stream",
     "text": [
      "Item: 5, Seen: True\n"
     ]
    }
   ],
   "source": [
    "node.Process()\n",
    "print(f\"Item: {node.Item}, Seen: {node.IsVisited()}\")"
   ]
  },
  {
   "cell_type": "markdown",
   "id": "e3e1f298",
   "metadata": {},
   "source": [
    "#### <span style=\"font-weight:bold;font-size:1.2em;color:#0e92ea\">1.6 Class Private Access Modifier</span>\n",
    "\n",
    "- Private members are marked by double underscore `__`\n",
    "- Private members are only accessed within the class"
   ]
  },
  {
   "cell_type": "code",
   "execution_count": 12,
   "id": "bf01fa2f",
   "metadata": {},
   "outputs": [],
   "source": [
    "class Node:\n",
    "    __Seen = False\n",
    "    def __init__(self, nextNode = None, value = 0):\n",
    "        self.NextNode = nextNode\n",
    "        self.Item = value\n",
    "        \n",
    "    def __init__(self, value = 0):\n",
    "        self.Item = value\n",
    "        self.NextNode = None\n",
    "        \n",
    "    def Process(self):\n",
    "        self.__Seen = True\n",
    "        \n",
    "    def IsVisited(self):\n",
    "        return self.__Seen"
   ]
  },
  {
   "cell_type": "markdown",
   "id": "c213725f",
   "metadata": {},
   "source": [
    "__Seen cannot be accessed by a vriable name"
   ]
  },
  {
   "cell_type": "code",
   "execution_count": 13,
   "id": "d57a2656",
   "metadata": {},
   "outputs": [
    {
     "ename": "AttributeError",
     "evalue": "'Node' object has no attribute '__Seen'",
     "output_type": "error",
     "traceback": [
      "\u001b[0;31m---------------------------------------------------------------------------\u001b[0m",
      "\u001b[0;31mAttributeError\u001b[0m                            Traceback (most recent call last)",
      "\u001b[0;32m/var/folders/my/dk1czlp12lv2qk5g5z05hww00000gn/T/ipykernel_25757/3619426996.py\u001b[0m in \u001b[0;36m<module>\u001b[0;34m\u001b[0m\n\u001b[1;32m      1\u001b[0m \u001b[0mnode\u001b[0m \u001b[0;34m=\u001b[0m \u001b[0mNode\u001b[0m\u001b[0;34m(\u001b[0m\u001b[0mvalue\u001b[0m \u001b[0;34m=\u001b[0m \u001b[0;36m5\u001b[0m\u001b[0;34m)\u001b[0m\u001b[0;34m\u001b[0m\u001b[0;34m\u001b[0m\u001b[0m\n\u001b[0;32m----> 2\u001b[0;31m \u001b[0mprint\u001b[0m\u001b[0;34m(\u001b[0m\u001b[0;34mf\"Item: {node.Item}, Seen: {node.__Seen}\"\u001b[0m\u001b[0;34m)\u001b[0m\u001b[0;34m\u001b[0m\u001b[0;34m\u001b[0m\u001b[0m\n\u001b[0m",
      "\u001b[0;31mAttributeError\u001b[0m: 'Node' object has no attribute '__Seen'"
     ]
    }
   ],
   "source": [
    "node = Node(value = 5)\n",
    "print(f\"Item: {node.Item}, Seen: {node.__Seen}\")"
   ]
  },
  {
   "cell_type": "code",
   "execution_count": 14,
   "id": "f2bbe5b8",
   "metadata": {},
   "outputs": [
    {
     "name": "stdout",
     "output_type": "stream",
     "text": [
      "Item: 5, Seen: False\n"
     ]
    }
   ],
   "source": [
    "node = Node(value = 5)\n",
    "print(f\"Item: {node.Item}, Seen: {node.IsVisited()}\")"
   ]
  },
  {
   "cell_type": "code",
   "execution_count": 15,
   "id": "975b36d9",
   "metadata": {},
   "outputs": [
    {
     "name": "stdout",
     "output_type": "stream",
     "text": [
      "Item: 5, Seen: True\n"
     ]
    }
   ],
   "source": [
    "node.Process()\n",
    "print(f\"Item: {node.Item}, Seen: {node.IsVisited()}\")"
   ]
  },
  {
   "cell_type": "markdown",
   "id": "32e817b6",
   "metadata": {},
   "source": [
    "#### <span style=\"font-weight:bold;font-size:1.2em;color:#0e92ea\">1.7 Method Overloading</span>\n",
    "\n",
    "- Method with the same name and return type but different arguments.\n",
    "- Logic executed may depend on the type of arguments used\n",
    "- Here we overload Process() providing it with a bolean value to set the __Seen Status"
   ]
  },
  {
   "cell_type": "code",
   "execution_count": 20,
   "id": "115d9a38",
   "metadata": {},
   "outputs": [],
   "source": [
    "class Node:\n",
    "    __Seen = False\n",
    "    def __init__(self, nextNode = None, value = 0):\n",
    "        self.NextNode = nextNode\n",
    "        self.Item = value\n",
    "        \n",
    "    def __init__(self, value = 0):\n",
    "        self.Item = value\n",
    "        self.NextNode = None\n",
    "        \n",
    "    def Process(self, seen = True):\n",
    "        self.__Seen = seen\n",
    "        \n",
    "    def IsVisited(self):\n",
    "        return self.__Seen"
   ]
  },
  {
   "cell_type": "code",
   "execution_count": 21,
   "id": "e92c40f5",
   "metadata": {},
   "outputs": [
    {
     "name": "stdout",
     "output_type": "stream",
     "text": [
      "Item: 5, Seen: False\n"
     ]
    }
   ],
   "source": [
    "node = Node(value = 5)\n",
    "print(f\"Item: {node.Item}, Seen: {node.IsVisited()}\")"
   ]
  },
  {
   "cell_type": "code",
   "execution_count": 22,
   "id": "7ff06ba1",
   "metadata": {},
   "outputs": [
    {
     "name": "stdout",
     "output_type": "stream",
     "text": [
      "Item: 5, Seen: True\n"
     ]
    }
   ],
   "source": [
    "node.Process()\n",
    "print(f\"Item: {node.Item}, Seen: {node.IsVisited()}\")"
   ]
  },
  {
   "cell_type": "code",
   "execution_count": 23,
   "id": "5e60dbc0",
   "metadata": {},
   "outputs": [
    {
     "name": "stdout",
     "output_type": "stream",
     "text": [
      "Item: 5, Seen: False\n"
     ]
    }
   ],
   "source": [
    "node.Process(False)\n",
    "print(f\"Item: {node.Item}, Seen: {node.IsVisited()}\")"
   ]
  },
  {
   "cell_type": "markdown",
   "id": "2793fe01",
   "metadata": {},
   "source": [
    "#### <span style=\"font-weight:bold;font-size:1.9em;color:#0e92ea\">2. Inheritence</span>"
   ]
  },
  {
   "cell_type": "markdown",
   "id": "89197fa0",
   "metadata": {},
   "source": [
    "#### <span style=\"font-weight:bold;font-size:1.2em;color:#0e92ea\">2.1 Inheritence Overview</span>\n",
    "- Inheritence provides a way for class to inherit attributes and functionality from another class.\n",
    "- This helps reduce duplication of code.\n",
    "- A class that inherits can also override the functionality of the parent class.\n",
    "- In the example below we create a DoubleLinkedListNode that inherits from Node. We do this by adding Node in the paranthesis of the DoubleLinkedListNode class name\n",
    "- A double LinkedList node has an extra attribute called \"PreviousNode\" that points to the  previous Node."
   ]
  },
  {
   "cell_type": "code",
   "execution_count": 30,
   "id": "c06a1c2a",
   "metadata": {},
   "outputs": [],
   "source": [
    "class DoubleLinkedListNode(Node):\n",
    "    __Seen = False\n",
    "    def __init__(self, previousNode = None, nextNode = None, value = 0):\n",
    "        super().__init__(nextNode, value)\n",
    "        self.PreviousNode = previousNode\n",
    "        \n",
    "    def __init__(self, value = 0):\n",
    "        self.Item = value\n",
    "        self.NextNode = None"
   ]
  },
  {
   "cell_type": "code",
   "execution_count": 34,
   "id": "d416cd7e",
   "metadata": {},
   "outputs": [
    {
     "name": "stdout",
     "output_type": "stream",
     "text": [
      "Item: 6, Seen: False\n"
     ]
    }
   ],
   "source": [
    "doubleLinkedListNode = DoubleLinkedListNode(6)\n",
    "print(f\"Item: {doubleLinkedListNode.Item}, Seen: {doubleLinkedListNode.IsVisited()}\")"
   ]
  },
  {
   "cell_type": "code",
   "execution_count": 35,
   "id": "e1163031",
   "metadata": {},
   "outputs": [
    {
     "name": "stdout",
     "output_type": "stream",
     "text": [
      "Item: 6, Seen: True\n"
     ]
    }
   ],
   "source": [
    "doubleLinkedListNode.Process()\n",
    "print(f\"Item: {doubleLinkedListNode.Item}, Seen: {doubleLinkedListNode.IsVisited()}\")"
   ]
  },
  {
   "cell_type": "code",
   "execution_count": 36,
   "id": "2b2dd95a",
   "metadata": {},
   "outputs": [
    {
     "name": "stdout",
     "output_type": "stream",
     "text": [
      "Item: 6, Seen: False\n"
     ]
    }
   ],
   "source": [
    "doubleLinkedListNode.Process(False)\n",
    "print(f\"Item: {doubleLinkedListNode.Item}, Seen: {doubleLinkedListNode.IsVisited()}\")"
   ]
  },
  {
   "cell_type": "markdown",
   "id": "02cf633c",
   "metadata": {},
   "source": [
    "#### <span style=\"font-weight:bold;font-size:1.2em;color:#0e92ea\">2.2 Abstract Base Class</span>\n",
    "- Abstract classes allow us to create a template for classes with base functionality.\n",
    "- Abstract classes can be instatiated since they may contain methods that arent implemtnted yet.\n",
    "- In the example below we create a base abstract Node class with an empty Process() method. This allows for different DS algorithms to provide their own implementation of Process()"
   ]
  },
  {
   "cell_type": "code",
   "execution_count": 48,
   "id": "e184922f",
   "metadata": {},
   "outputs": [],
   "source": [
    "class BaseNode:\n",
    "    __Seen = False\n",
    "    def __init__(self, nextNode = None, value = 0):\n",
    "        self.NextNode = nextNode\n",
    "        self.Item = value\n",
    "        \n",
    "    def __init__(self, value = 0):\n",
    "        self.Item = value\n",
    "        self.NextNode = None\n",
    "        \n",
    "    def Process(self, seen = True):\n",
    "        raise NotImplementedError(\"Process() has not been implemeted yet\") \n",
    "        \n",
    "    def IsVisited(self):\n",
    "        return self.__Seen"
   ]
  },
  {
   "cell_type": "code",
   "execution_count": 49,
   "id": "3b3eefcc",
   "metadata": {},
   "outputs": [
    {
     "name": "stdout",
     "output_type": "stream",
     "text": [
      "Item: 6, Seen: False\n"
     ]
    }
   ],
   "source": [
    "node = BaseNode(6)\n",
    "print(f\"Item: {node.Item}, Seen: {node.IsVisited()}\")"
   ]
  },
  {
   "cell_type": "code",
   "execution_count": 50,
   "id": "286b7685",
   "metadata": {},
   "outputs": [
    {
     "ename": "NotImplementedError",
     "evalue": "Process() has not been implemeted yet",
     "output_type": "error",
     "traceback": [
      "\u001b[0;31m---------------------------------------------------------------------------\u001b[0m",
      "\u001b[0;31mNotImplementedError\u001b[0m                       Traceback (most recent call last)",
      "\u001b[0;32m/var/folders/my/dk1czlp12lv2qk5g5z05hww00000gn/T/ipykernel_25757/1725775366.py\u001b[0m in \u001b[0;36m<module>\u001b[0;34m\u001b[0m\n\u001b[0;32m----> 1\u001b[0;31m \u001b[0mnode\u001b[0m\u001b[0;34m.\u001b[0m\u001b[0mProcess\u001b[0m\u001b[0;34m(\u001b[0m\u001b[0;34m)\u001b[0m\u001b[0;34m\u001b[0m\u001b[0;34m\u001b[0m\u001b[0m\n\u001b[0m\u001b[1;32m      2\u001b[0m \u001b[0mprint\u001b[0m\u001b[0;34m(\u001b[0m\u001b[0;34mf\"Item: {node.Item}, Seen: {node.IsVisited()}\"\u001b[0m\u001b[0;34m)\u001b[0m\u001b[0;34m\u001b[0m\u001b[0;34m\u001b[0m\u001b[0m\n",
      "\u001b[0;32m/var/folders/my/dk1czlp12lv2qk5g5z05hww00000gn/T/ipykernel_25757/1122974045.py\u001b[0m in \u001b[0;36mProcess\u001b[0;34m(self, seen)\u001b[0m\n\u001b[1;32m     10\u001b[0m \u001b[0;34m\u001b[0m\u001b[0m\n\u001b[1;32m     11\u001b[0m     \u001b[0;32mdef\u001b[0m \u001b[0mProcess\u001b[0m\u001b[0;34m(\u001b[0m\u001b[0mself\u001b[0m\u001b[0;34m,\u001b[0m \u001b[0mseen\u001b[0m \u001b[0;34m=\u001b[0m \u001b[0;32mTrue\u001b[0m\u001b[0;34m)\u001b[0m\u001b[0;34m:\u001b[0m\u001b[0;34m\u001b[0m\u001b[0;34m\u001b[0m\u001b[0m\n\u001b[0;32m---> 12\u001b[0;31m         \u001b[0;32mraise\u001b[0m \u001b[0mNotImplementedError\u001b[0m\u001b[0;34m(\u001b[0m\u001b[0;34m\"Process() has not been implemeted yet\"\u001b[0m\u001b[0;34m)\u001b[0m\u001b[0;34m\u001b[0m\u001b[0;34m\u001b[0m\u001b[0m\n\u001b[0m\u001b[1;32m     13\u001b[0m \u001b[0;34m\u001b[0m\u001b[0m\n\u001b[1;32m     14\u001b[0m     \u001b[0;32mdef\u001b[0m \u001b[0mIsVisited\u001b[0m\u001b[0;34m(\u001b[0m\u001b[0mself\u001b[0m\u001b[0;34m)\u001b[0m\u001b[0;34m:\u001b[0m\u001b[0;34m\u001b[0m\u001b[0;34m\u001b[0m\u001b[0m\n",
      "\u001b[0;31mNotImplementedError\u001b[0m: Process() has not been implemeted yet"
     ]
    }
   ],
   "source": [
    "node.Process()\n",
    "print(f\"Item: {node.Item}, Seen: {node.IsVisited()}\")"
   ]
  },
  {
   "cell_type": "code",
   "execution_count": null,
   "id": "582bc696",
   "metadata": {},
   "outputs": [],
   "source": []
  }
 ],
 "metadata": {
  "kernelspec": {
   "display_name": "Python 3 (ipykernel)",
   "language": "python",
   "name": "python3"
  },
  "language_info": {
   "codemirror_mode": {
    "name": "ipython",
    "version": 3
   },
   "file_extension": ".py",
   "mimetype": "text/x-python",
   "name": "python",
   "nbconvert_exporter": "python",
   "pygments_lexer": "ipython3",
   "version": "3.9.7"
  }
 },
 "nbformat": 4,
 "nbformat_minor": 5
}

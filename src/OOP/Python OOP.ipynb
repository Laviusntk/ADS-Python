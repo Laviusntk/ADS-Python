{
 "cells": [
  {
   "cell_type": "markdown",
   "id": "b05db695",
   "metadata": {},
   "source": [
    "## <span style=\"font-weight:bold;font-size:1.9em;color:#0e92ea\">Object Oriented Programming</span>\n",
    "<p style=\"font-family: Arial;color:#0e92ea\">OOP helps us : keep complex and large programs Organised, abstract complex code, and isolate different parts of the program.</p>\n",
    "\n",
    "#### <span style=\"font-weight:bold;font-size:1.9em;color:#0e92ea\">Content</span>\n",
    "\n",
    "<ol style=\"color:#0e92ea\">\n",
    "    <li>Classes</li>\n",
    "    <li>Inheritence</li>\n",
    "    <li>Interfaces</li>\n",
    "    <li>Composition</li>\n",
    "    <li>Overriding</li>\n",
    "    <li>Unit Testing</li>\n",
    "</ol>"
   ]
  },
  {
   "cell_type": "code",
   "execution_count": 1,
   "id": "6cbc1e59",
   "metadata": {},
   "outputs": [],
   "source": [
    "from abc import ABC, abstractmethod\n",
    "import json"
   ]
  },
  {
   "cell_type": "markdown",
   "id": "49cf8ae0",
   "metadata": {},
   "source": [
    "#### <span style=\"font-weight:bold;font-size:1.9em;color:#0e92ea\">1. Classes</span>"
   ]
  },
  {
   "cell_type": "markdown",
   "id": "ef3e88da",
   "metadata": {},
   "source": [
    "#### <span style=\"font-weight:bold;font-size:1.2em;color:#0e92ea\">1.1 Creating a class</span>"
   ]
  },
  {
   "cell_type": "code",
   "execution_count": 2,
   "id": "8bd78449",
   "metadata": {},
   "outputs": [],
   "source": [
    "class Node:\n",
    "    pass"
   ]
  },
  {
   "cell_type": "markdown",
   "id": "732365e5",
   "metadata": {},
   "source": [
    "#### <span style=\"font-weight:bold;font-size:1.2em;color:#0e92ea\">1.2 Class Construtor and Attributes</span>\n",
    "\n",
    "- The python __init__ method perfoms simlar function to a constructor in C#/Java/C++\n",
    "- We use this method to initalise class attributes and to define class member variables"
   ]
  },
  {
   "cell_type": "code",
   "execution_count": 3,
   "id": "cdef8133",
   "metadata": {},
   "outputs": [],
   "source": [
    "class Node:\n",
    "    def __init__(self, nextNode = None, value = 0):\n",
    "        self.NextNode = nextNode\n",
    "        self.Item = value"
   ]
  },
  {
   "cell_type": "markdown",
   "id": "349c39d0",
   "metadata": {},
   "source": [
    "#### <span style=\"font-weight:bold;font-size:1.2em;color:#0e92ea\">1.3 Creating an instance of a class</span>"
   ]
  },
  {
   "cell_type": "code",
   "execution_count": 4,
   "id": "ca72b349",
   "metadata": {},
   "outputs": [],
   "source": [
    "node = Node()"
   ]
  },
  {
   "cell_type": "markdown",
   "id": "10e9ea86",
   "metadata": {},
   "source": [
    "#### <span style=\"font-weight:bold;font-size:1.2em;color:#0e92ea\">1.4 Class Functions</span>\n",
    "\n",
    "- The keyword `def` is used to create python functions.\n",
    "- In this example we define a function called Process() that marks the current Node as seen by setting the Seen variable to True\n",
    "- to Access the Seen member variable we need to use the `self` keyword"
   ]
  },
  {
   "cell_type": "code",
   "execution_count": 5,
   "id": "8796e302",
   "metadata": {},
   "outputs": [],
   "source": [
    "class Node:\n",
    "    def __init__(self, nextNode = None, value = 0):\n",
    "        self.NextNode = nextNode\n",
    "        self.Item = value\n",
    "        self.Seen = False\n",
    "\n",
    "    def Process(self):\n",
    "        self.Seen = True"
   ]
  },
  {
   "cell_type": "code",
   "execution_count": 6,
   "id": "e2e8020a",
   "metadata": {},
   "outputs": [
    {
     "name": "stdout",
     "output_type": "stream",
     "text": [
      "Item: 5, Seen: False\n"
     ]
    }
   ],
   "source": [
    "node = Node(value = 5)\n",
    "print(f\"Item: {node.Item}, Seen: {node.Seen}\")"
   ]
  },
  {
   "cell_type": "code",
   "execution_count": 7,
   "id": "308f803b",
   "metadata": {},
   "outputs": [
    {
     "name": "stdout",
     "output_type": "stream",
     "text": [
      "Item: 5, Seen: True\n"
     ]
    }
   ],
   "source": [
    "node.Process()\n",
    "print(f\"Item: {node.Item}, Seen: {node.Seen}\")"
   ]
  },
  {
   "cell_type": "markdown",
   "id": "5b0eb472",
   "metadata": {},
   "source": [
    "#### <span style=\"font-weight:bold;font-size:1.2em;color:#0e92ea\">1.5 Class Protected Access Modifier</span>\n",
    "\n",
    "- Protected members are only accessed within the class and derived class.\n",
    "- Protected members are created by starting the variable names with underscore `_`\n",
    "- In this example, we move the variable Seen from public to protected so that it can only be accessed within the class and the derived class using the Process() method"
   ]
  },
  {
   "cell_type": "code",
   "execution_count": 8,
   "id": "81077b0b",
   "metadata": {},
   "outputs": [],
   "source": [
    "class Node:\n",
    "    _Seen = False\n",
    "    def __init__(self, nextNode = None, value = 0):\n",
    "        self.NextNode = nextNode\n",
    "        self.Item = value\n",
    "        \n",
    "    def Process(self):\n",
    "        self._Seen = True\n",
    "        \n",
    "    def IsVisited(self):\n",
    "        return self._Seen"
   ]
  },
  {
   "cell_type": "markdown",
   "id": "19c5c531",
   "metadata": {},
   "source": [
    "- _Seen can still be accessed by a variable name\n",
    "- The underscore just tells us the variable `is only intended to be used by the class`"
   ]
  },
  {
   "cell_type": "code",
   "execution_count": 9,
   "id": "95e13b47",
   "metadata": {},
   "outputs": [
    {
     "name": "stdout",
     "output_type": "stream",
     "text": [
      "Item: 5, Seen: False\n"
     ]
    }
   ],
   "source": [
    "node = Node(value = 5)\n",
    "print(f\"Item: {node.Item}, Seen: {node._Seen}\")"
   ]
  },
  {
   "cell_type": "code",
   "execution_count": 10,
   "id": "13bc3b9e",
   "metadata": {},
   "outputs": [
    {
     "data": {
      "text/plain": [
       "True"
      ]
     },
     "execution_count": 10,
     "metadata": {},
     "output_type": "execute_result"
    }
   ],
   "source": [
    "node._Seen = True\n",
    "node._Seen"
   ]
  },
  {
   "cell_type": "code",
   "execution_count": 11,
   "id": "bffe7fc0",
   "metadata": {},
   "outputs": [
    {
     "name": "stdout",
     "output_type": "stream",
     "text": [
      "Item: 5, Seen: False\n"
     ]
    }
   ],
   "source": [
    "node = Node(value = 5)\n",
    "print(f\"Item: {node.Item}, Seen: {node.IsVisited()}\")"
   ]
  },
  {
   "cell_type": "code",
   "execution_count": 12,
   "id": "fb986c11",
   "metadata": {},
   "outputs": [
    {
     "name": "stdout",
     "output_type": "stream",
     "text": [
      "Item: 5, Seen: True\n"
     ]
    }
   ],
   "source": [
    "node.Process()\n",
    "print(f\"Item: {node.Item}, Seen: {node.IsVisited()}\")"
   ]
  },
  {
   "cell_type": "markdown",
   "id": "e84c57bc",
   "metadata": {},
   "source": [
    "#### <span style=\"font-weight:bold;font-size:1.2em;color:#0e92ea\">1.6 Class Private Access Modifier</span>\n",
    "\n",
    "- Private members are marked by double underscore `__`\n",
    "- Private members are only accessed within the class"
   ]
  },
  {
   "cell_type": "code",
   "execution_count": 13,
   "id": "346dfc7e",
   "metadata": {},
   "outputs": [],
   "source": [
    "class Node:\n",
    "    __Seen = False\n",
    "    def __init__(self, nextNode = None, value = 0):\n",
    "        self.NextNode = nextNode\n",
    "        self.Item = value\n",
    "        \n",
    "    def Process(self):\n",
    "        self.__Seen = True\n",
    "        \n",
    "    def IsVisited(self):\n",
    "        return self.__Seen"
   ]
  },
  {
   "cell_type": "markdown",
   "id": "e953526b",
   "metadata": {},
   "source": [
    "__Seen cannot be accessed by a vriable name"
   ]
  },
  {
   "cell_type": "code",
   "execution_count": 14,
   "id": "2d644207",
   "metadata": {},
   "outputs": [
    {
     "ename": "AttributeError",
     "evalue": "'Node' object has no attribute '__Seen'",
     "output_type": "error",
     "traceback": [
      "\u001b[0;31m---------------------------------------------------------------------------\u001b[0m",
      "\u001b[0;31mAttributeError\u001b[0m                            Traceback (most recent call last)",
      "\u001b[0;32m/var/folders/my/dk1czlp12lv2qk5g5z05hww00000gn/T/ipykernel_31074/3619426996.py\u001b[0m in \u001b[0;36m<module>\u001b[0;34m\u001b[0m\n\u001b[1;32m      1\u001b[0m \u001b[0mnode\u001b[0m \u001b[0;34m=\u001b[0m \u001b[0mNode\u001b[0m\u001b[0;34m(\u001b[0m\u001b[0mvalue\u001b[0m \u001b[0;34m=\u001b[0m \u001b[0;36m5\u001b[0m\u001b[0;34m)\u001b[0m\u001b[0;34m\u001b[0m\u001b[0;34m\u001b[0m\u001b[0m\n\u001b[0;32m----> 2\u001b[0;31m \u001b[0mprint\u001b[0m\u001b[0;34m(\u001b[0m\u001b[0;34mf\"Item: {node.Item}, Seen: {node.__Seen}\"\u001b[0m\u001b[0;34m)\u001b[0m\u001b[0;34m\u001b[0m\u001b[0;34m\u001b[0m\u001b[0m\n\u001b[0m",
      "\u001b[0;31mAttributeError\u001b[0m: 'Node' object has no attribute '__Seen'"
     ]
    }
   ],
   "source": [
    "node = Node(value = 5)\n",
    "print(f\"Item: {node.Item}, Seen: {node.__Seen}\")"
   ]
  },
  {
   "cell_type": "code",
   "execution_count": 15,
   "id": "7b429685",
   "metadata": {},
   "outputs": [
    {
     "name": "stdout",
     "output_type": "stream",
     "text": [
      "Item: 5, Seen: False\n"
     ]
    }
   ],
   "source": [
    "node = Node(value = 5)\n",
    "print(f\"Item: {node.Item}, Seen: {node.IsVisited()}\")"
   ]
  },
  {
   "cell_type": "code",
   "execution_count": 16,
   "id": "253ec03f",
   "metadata": {},
   "outputs": [
    {
     "name": "stdout",
     "output_type": "stream",
     "text": [
      "Item: 5, Seen: True\n"
     ]
    }
   ],
   "source": [
    "node.Process()\n",
    "print(f\"Item: {node.Item}, Seen: {node.IsVisited()}\")"
   ]
  },
  {
   "cell_type": "markdown",
   "id": "6dcf57ab",
   "metadata": {},
   "source": [
    "#### <span style=\"font-weight:bold;font-size:1.2em;color:#0e92ea\">1.7 Method Overloading</span>\n",
    "\n",
    "- Method with the same name and return type but different arguments.\n",
    "- Logic executed may depend on the type of arguments used\n",
    "- Here we overload Process() providing it with a bolean value to set the __Seen Status"
   ]
  },
  {
   "cell_type": "code",
   "execution_count": 17,
   "id": "4bf5675b",
   "metadata": {},
   "outputs": [],
   "source": [
    "class Node:\n",
    "    __Seen = False\n",
    "    def __init__(self, nextNode = None, value = 0):\n",
    "        self.NextNode = nextNode\n",
    "        self.Item = value\n",
    "        \n",
    "    def Process(self, seen = True):\n",
    "        self.__Seen = seen\n",
    "        \n",
    "    def IsVisited(self):\n",
    "        return self.__Seen"
   ]
  },
  {
   "cell_type": "code",
   "execution_count": 18,
   "id": "472a31c2",
   "metadata": {},
   "outputs": [
    {
     "name": "stdout",
     "output_type": "stream",
     "text": [
      "Item: 5, Seen: False\n"
     ]
    }
   ],
   "source": [
    "node = Node(value = 5)\n",
    "print(f\"Item: {node.Item}, Seen: {node.IsVisited()}\")"
   ]
  },
  {
   "cell_type": "code",
   "execution_count": 19,
   "id": "d657e635",
   "metadata": {},
   "outputs": [
    {
     "name": "stdout",
     "output_type": "stream",
     "text": [
      "Item: 5, Seen: True\n"
     ]
    }
   ],
   "source": [
    "node.Process()\n",
    "print(f\"Item: {node.Item}, Seen: {node.IsVisited()}\")"
   ]
  },
  {
   "cell_type": "code",
   "execution_count": 20,
   "id": "150b7e66",
   "metadata": {},
   "outputs": [
    {
     "name": "stdout",
     "output_type": "stream",
     "text": [
      "Item: 5, Seen: False\n"
     ]
    }
   ],
   "source": [
    "node.Process(False)\n",
    "print(f\"Item: {node.Item}, Seen: {node.IsVisited()}\")"
   ]
  },
  {
   "cell_type": "markdown",
   "id": "221c6dcc",
   "metadata": {},
   "source": [
    "#### <span style=\"font-weight:bold;font-size:1.9em;color:#0e92ea\">2. Inheritence</span>"
   ]
  },
  {
   "cell_type": "markdown",
   "id": "4610f1ac",
   "metadata": {},
   "source": [
    "#### <span style=\"font-weight:bold;font-size:1.2em;color:#0e92ea\">2.1 Inheritence Overview</span>\n",
    "- Inheritence provides a way for class to inherit attributes and functionality from another class.\n",
    "- This helps reduce duplication of code.\n",
    "- A class that inherits can also override the functionality of the parent class.\n",
    "- In the example below we create a DoubleLinkedListNode that inherits from Node. We do this by adding Node in the paranthesis of the DoubleLinkedListNode class name\n",
    "- A double LinkedList node has an extra attribute called \"PreviousNode\" that points to the  previous Node."
   ]
  },
  {
   "cell_type": "code",
   "execution_count": 21,
   "id": "263e5aca",
   "metadata": {},
   "outputs": [],
   "source": [
    "class DoubleLinkedListNode(Node):\n",
    "    __Seen = False\n",
    "    def __init__(self, previousNode = None, nextNode = None, value = 0):\n",
    "        super().__init__(nextNode, value)\n",
    "        self.PreviousNode = previousNode"
   ]
  },
  {
   "cell_type": "code",
   "execution_count": 22,
   "id": "ec9f4453",
   "metadata": {},
   "outputs": [
    {
     "name": "stdout",
     "output_type": "stream",
     "text": [
      "Item: 0, Seen: False\n"
     ]
    }
   ],
   "source": [
    "doubleLinkedListNode = DoubleLinkedListNode(6)\n",
    "print(f\"Item: {doubleLinkedListNode.Item}, Seen: {doubleLinkedListNode.IsVisited()}\")"
   ]
  },
  {
   "cell_type": "code",
   "execution_count": 23,
   "id": "a14f5a64",
   "metadata": {},
   "outputs": [
    {
     "name": "stdout",
     "output_type": "stream",
     "text": [
      "Item: 0, Seen: True\n"
     ]
    }
   ],
   "source": [
    "doubleLinkedListNode.Process()\n",
    "print(f\"Item: {doubleLinkedListNode.Item}, Seen: {doubleLinkedListNode.IsVisited()}\")"
   ]
  },
  {
   "cell_type": "code",
   "execution_count": 24,
   "id": "948da673",
   "metadata": {},
   "outputs": [
    {
     "name": "stdout",
     "output_type": "stream",
     "text": [
      "Item: 0, Seen: False\n"
     ]
    }
   ],
   "source": [
    "doubleLinkedListNode.Process(False)\n",
    "print(f\"Item: {doubleLinkedListNode.Item}, Seen: {doubleLinkedListNode.IsVisited()}\")"
   ]
  },
  {
   "cell_type": "markdown",
   "id": "a58e8525",
   "metadata": {},
   "source": [
    "#### <span style=\"font-weight:bold;font-size:1.2em;color:#0e92ea\">2.2 Abstract Base Class</span>\n",
    "- Abstract classes allow us to create a template for classes with base functionality.\n",
    "- Abstract classes can be instatiated since they may contain methods that arent implemtnted yet. We can enforce this by inheriting from the Abtract Base classs (ABC).\n",
    "- In the example below we create a base abstract Node class with an empty Process() method. This allows for different DS algorithms to provide their own implementation of Process()"
   ]
  },
  {
   "cell_type": "code",
   "execution_count": 26,
   "id": "bc3b9122",
   "metadata": {},
   "outputs": [],
   "source": [
    "class BaseNode(ABC):\n",
    "    _Seen = False\n",
    "    def __init__(self, nextNode = None, value = 0):\n",
    "        self.NextNode = nextNode\n",
    "        self.Item = value\n",
    "        \n",
    "    def IsVisited(self):\n",
    "        return self._Seen\n",
    "    \n",
    "    @abstractmethod\n",
    "    def Process(self, seen = True):\n",
    "        pass "
   ]
  },
  {
   "cell_type": "markdown",
   "id": "10b079d4",
   "metadata": {},
   "source": [
    "- When we try to instantiate a base class we get an error:"
   ]
  },
  {
   "cell_type": "code",
   "execution_count": 27,
   "id": "482e44b3",
   "metadata": {},
   "outputs": [
    {
     "ename": "TypeError",
     "evalue": "Can't instantiate abstract class BaseNode with abstract method Process",
     "output_type": "error",
     "traceback": [
      "\u001b[0;31m---------------------------------------------------------------------------\u001b[0m",
      "\u001b[0;31mTypeError\u001b[0m                                 Traceback (most recent call last)",
      "\u001b[0;32m/var/folders/my/dk1czlp12lv2qk5g5z05hww00000gn/T/ipykernel_31074/818593405.py\u001b[0m in \u001b[0;36m<module>\u001b[0;34m\u001b[0m\n\u001b[0;32m----> 1\u001b[0;31m \u001b[0mnode\u001b[0m \u001b[0;34m=\u001b[0m \u001b[0mBaseNode\u001b[0m\u001b[0;34m(\u001b[0m\u001b[0;36m6\u001b[0m\u001b[0;34m)\u001b[0m\u001b[0;34m\u001b[0m\u001b[0;34m\u001b[0m\u001b[0m\n\u001b[0m\u001b[1;32m      2\u001b[0m \u001b[0mprint\u001b[0m\u001b[0;34m(\u001b[0m\u001b[0;34mf\"Item: {node.Item}, Seen: {node.IsVisited()}\"\u001b[0m\u001b[0;34m)\u001b[0m\u001b[0;34m\u001b[0m\u001b[0;34m\u001b[0m\u001b[0m\n",
      "\u001b[0;31mTypeError\u001b[0m: Can't instantiate abstract class BaseNode with abstract method Process"
     ]
    }
   ],
   "source": [
    "node = BaseNode(6)\n",
    "print(f\"Item: {node.Item}, Seen: {node.IsVisited()}\")"
   ]
  },
  {
   "cell_type": "markdown",
   "id": "95b2f216",
   "metadata": {},
   "source": [
    "- Now `DoubleLinkedListNode` inherits from `BaseNode` and implements the `Process()` method "
   ]
  },
  {
   "cell_type": "code",
   "execution_count": 28,
   "id": "3745b6b3",
   "metadata": {},
   "outputs": [],
   "source": [
    "class DoubleLinkedListNode(BaseNode):\n",
    "    def __init__(self, previousNode = None, nextNode = None, value = 0):\n",
    "        super().__init__(nextNode, value)\n",
    "        self.PreviousNode = previousNode\n",
    "        \n",
    "    def Process(self, seen = True):\n",
    "        print(\"Processing\")\n",
    "        self._Seen = seen"
   ]
  },
  {
   "cell_type": "code",
   "execution_count": 29,
   "id": "522466a4",
   "metadata": {},
   "outputs": [
    {
     "name": "stdout",
     "output_type": "stream",
     "text": [
      "Item: 0, Seen: False\n"
     ]
    }
   ],
   "source": [
    "doubleLinkedListNode = DoubleLinkedListNode(7)\n",
    "print(f\"Item: {doubleLinkedListNode.Item}, Seen: {doubleLinkedListNode.IsVisited()}\")"
   ]
  },
  {
   "cell_type": "code",
   "execution_count": 30,
   "id": "8a1ec6d5",
   "metadata": {},
   "outputs": [
    {
     "name": "stdout",
     "output_type": "stream",
     "text": [
      "Processing\n",
      "Item: 0, Seen: True\n"
     ]
    }
   ],
   "source": [
    "doubleLinkedListNode.Process()\n",
    "print(f\"Item: {doubleLinkedListNode.Item}, Seen: {doubleLinkedListNode.IsVisited()}\")"
   ]
  },
  {
   "cell_type": "markdown",
   "id": "533fe9f8",
   "metadata": {},
   "source": [
    "#### <span style=\"font-weight:bold;font-size:1.9em;color:#0e92ea\">3. Interfaces</span>\n",
    "\n",
    "- Interfaces are created in same way as an Abstract class\n",
    "- Here we create an interface called Stringify that forces class that inherits it to provide a string version of the class"
   ]
  },
  {
   "cell_type": "code",
   "execution_count": 47,
   "id": "42d9cd7b",
   "metadata": {},
   "outputs": [],
   "source": [
    "class Stringify(ABC):\n",
    "    @abstractmethod\n",
    "    def ToString(self):\n",
    "        pass\n",
    "    \n",
    "class DoubleLinkedListNode(BaseNode, Stringify):\n",
    "    def __init__(self, previousNode = None, nextNode = None, value = 0):\n",
    "        super().__init__(nextNode, value)\n",
    "        self.PreviousNode = previousNode\n",
    "        \n",
    "    def Process(self, seen = True):\n",
    "        print(\"Processing\")\n",
    "        self._Seen = seen\n",
    "    \n",
    "    def __GetNextNodeItem(self):\n",
    "        if self.NextNode is None:\n",
    "            return \"\"\n",
    "        return self.NextNode.Item\n",
    "    \n",
    "    def __GetPrevNodeItem(self):\n",
    "        if self.PreviousNode is None:\n",
    "            return \"\"\n",
    "        return self.PreviousNode.Item\n",
    "    \n",
    "    def ToString(self):\n",
    "        return json.dumps({\n",
    "            \"Seen\" : self._Seen,\n",
    "            \"PreviousNode\":  self.__GetPrevNodeItem(),\n",
    "            \"NextNode\": self.__GetNextNodeItem(),\n",
    "            \"CurrentNode\": self.Item\n",
    "        })"
   ]
  },
  {
   "cell_type": "code",
   "execution_count": 48,
   "id": "39e2bd0b",
   "metadata": {},
   "outputs": [
    {
     "data": {
      "text/plain": [
       "'{\"Seen\": false, \"PreviousNode\": 10, \"NextNode\": 12, \"CurrentNode\": 11}'"
      ]
     },
     "execution_count": 48,
     "metadata": {},
     "output_type": "execute_result"
    }
   ],
   "source": [
    "doubleLinkedListNode = DoubleLinkedListNode(\n",
    "    previousNode = DoubleLinkedListNode(None, None, 10),\n",
    "    nextNode     = DoubleLinkedListNode(None, None, 12),\n",
    "    value        = 11)\n",
    "doubleLinkedListNode.ToString()"
   ]
  },
  {
   "cell_type": "code",
   "execution_count": 49,
   "id": "37d9d790",
   "metadata": {},
   "outputs": [
    {
     "data": {
      "text/plain": [
       "(__main__.DoubleLinkedListNode,\n",
       " __main__.BaseNode,\n",
       " __main__.Stringify,\n",
       " abc.ABC,\n",
       " object)"
      ]
     },
     "execution_count": 49,
     "metadata": {},
     "output_type": "execute_result"
    }
   ],
   "source": [
    "DoubleLinkedListNode.__mro__"
   ]
  },
  {
   "cell_type": "markdown",
   "id": "6424d7bf",
   "metadata": {},
   "source": [
    "#### <span style=\"font-weight:bold;font-size:1.9em;color:#0e92ea\">4. Composition</span>\n",
    "- Just using a custom type as a member variable.\n",
    "- Example is NextNode used for Node type."
   ]
  },
  {
   "cell_type": "code",
   "execution_count": 34,
   "id": "0bc92da9",
   "metadata": {},
   "outputs": [
    {
     "data": {
      "text/plain": [
       "'{\"Seen\": false, \"PreviousNode\": 10, \"NextNode\": 12, \"CurrentNode\": 11}'"
      ]
     },
     "execution_count": 34,
     "metadata": {},
     "output_type": "execute_result"
    }
   ],
   "source": [
    "doubleLinkedListNode = DoubleLinkedListNode(\n",
    "    previousNode = DoubleLinkedListNode(None, None, 10),\n",
    "    nextNode     = DoubleLinkedListNode(None, None, 12),\n",
    "    value        = 11)\n",
    "doubleLinkedListNode.ToString()"
   ]
  },
  {
   "cell_type": "markdown",
   "id": "3d2ec7ca",
   "metadata": {},
   "source": [
    "#### <span style=\"font-weight:bold;font-size:1.9em;color:#0e92ea\">5. Overriding</span>"
   ]
  },
  {
   "cell_type": "code",
   "execution_count": 77,
   "id": "7fcec606",
   "metadata": {},
   "outputs": [],
   "source": [
    "class DoubleLinkedListNode(BaseNode):\n",
    "    def __init__(self, previousNode = None, nextNode = None, value = 0):\n",
    "        super().__init__(nextNode, value)\n",
    "        self.PreviousNode = previousNode\n",
    "        \n",
    "    def Process(self, seen = True):\n",
    "        print(\"Processing\")\n",
    "        self._Seen = seen\n",
    "    \n",
    "    def GetNextNodeItem(self):\n",
    "        if self.NextNode is None:\n",
    "            return \"\"\n",
    "        return self.NextNode.Item\n",
    "    \n",
    "    def GetPrevNodeItem(self):\n",
    "        if self.PreviousNode is None:\n",
    "            return \"\"\n",
    "        return self.PreviousNode.Item\n",
    "    \n",
    "    # --------Overrides------------\n",
    "    \n",
    "    def __str__(self):\n",
    "        return json.dumps({\n",
    "            \"Seen\" : self._Seen,\n",
    "            \"PreviousNode\":  self.GetPrevNodeItem(),\n",
    "            \"NextNode\": self.GetNextNodeItem(),\n",
    "            \"CurrentNode\": self.Item\n",
    "        })\n",
    "    \n",
    "    def __repr__(self):\n",
    "        return json.dumps({\n",
    "            \"Seen\" : self._Seen,\n",
    "            \"PreviousNode\":  self.GetPrevNodeItem(),\n",
    "            \"NextNode\": self.GetNextNodeItem(),\n",
    "            \"CurrentNode\": self.Item\n",
    "        })\n",
    "    \n",
    "    def __eq__(self, value):\n",
    "        return (\n",
    "            self._Seen == value._Seen and\n",
    "            self.Item == value.Item and\n",
    "            self.GetNextNodeItem() == value.GetNextNodeItem() and\n",
    "            self.GetPrevNodeItem() == value.GetPrevNodeItem()\n",
    "        )\n",
    "    \n",
    "    def __ge__(self, value):\n",
    "        return self.Item >= value.Item\n",
    "    \n",
    "    def __gt__(self, value):\n",
    "        return self.Item > value.Item"
   ]
  },
  {
   "cell_type": "code",
   "execution_count": 78,
   "id": "7b701e05",
   "metadata": {},
   "outputs": [],
   "source": [
    "doubleLinkedListNode = DoubleLinkedListNode(\n",
    "    previousNode = DoubleLinkedListNode(None, None, 10),\n",
    "    nextNode     = DoubleLinkedListNode(None, None, 12),\n",
    "    value        = 11)"
   ]
  },
  {
   "cell_type": "code",
   "execution_count": 79,
   "id": "5736e066",
   "metadata": {},
   "outputs": [
    {
     "data": {
      "text/plain": [
       "'{\"Seen\": false, \"PreviousNode\": 10, \"NextNode\": 12, \"CurrentNode\": 11}'"
      ]
     },
     "execution_count": 79,
     "metadata": {},
     "output_type": "execute_result"
    }
   ],
   "source": [
    "str(doubleLinkedListNode)"
   ]
  },
  {
   "cell_type": "code",
   "execution_count": 80,
   "id": "97035a98",
   "metadata": {},
   "outputs": [
    {
     "data": {
      "text/plain": [
       "'{\"Seen\": false, \"PreviousNode\": 10, \"NextNode\": 12, \"CurrentNode\": 11}'"
      ]
     },
     "execution_count": 80,
     "metadata": {},
     "output_type": "execute_result"
    }
   ],
   "source": [
    "repr(doubleLinkedListNode)"
   ]
  },
  {
   "cell_type": "code",
   "execution_count": 81,
   "id": "84d303cb",
   "metadata": {},
   "outputs": [
    {
     "name": "stdout",
     "output_type": "stream",
     "text": [
      "True\n"
     ]
    }
   ],
   "source": [
    "node1 = DoubleLinkedListNode(\n",
    "    previousNode = DoubleLinkedListNode(None, None, 10),\n",
    "    nextNode     = DoubleLinkedListNode(None, None, 12),\n",
    "    value        = 11)\n",
    "\n",
    "node2 = DoubleLinkedListNode(\n",
    "    previousNode = DoubleLinkedListNode(None, None, 10),\n",
    "    nextNode     = DoubleLinkedListNode(None, None, 12),\n",
    "    value        = 11)\n",
    "\n",
    "print(node1 == node1)"
   ]
  },
  {
   "cell_type": "code",
   "execution_count": 82,
   "id": "872b6ba9",
   "metadata": {},
   "outputs": [
    {
     "name": "stdout",
     "output_type": "stream",
     "text": [
      "False\n"
     ]
    }
   ],
   "source": [
    "node3 = DoubleLinkedListNode(\n",
    "    previousNode = DoubleLinkedListNode(None, None, 16),\n",
    "    nextNode     = DoubleLinkedListNode(None, None, 12),\n",
    "    value        = 15)\n",
    "\n",
    "print(node1 == node3)"
   ]
  },
  {
   "cell_type": "code",
   "execution_count": 83,
   "id": "6cb8b740",
   "metadata": {},
   "outputs": [
    {
     "name": "stdout",
     "output_type": "stream",
     "text": [
      "False\n"
     ]
    }
   ],
   "source": [
    "print(node1 >= node3)"
   ]
  },
  {
   "cell_type": "code",
   "execution_count": 84,
   "id": "dda88f5b",
   "metadata": {},
   "outputs": [
    {
     "name": "stdout",
     "output_type": "stream",
     "text": [
      "True\n"
     ]
    }
   ],
   "source": [
    "print(node1 <= node3)"
   ]
  },
  {
   "cell_type": "code",
   "execution_count": 85,
   "id": "7fe9e5c3",
   "metadata": {},
   "outputs": [
    {
     "name": "stdout",
     "output_type": "stream",
     "text": [
      "True\n"
     ]
    }
   ],
   "source": [
    "print(node1 < node3)"
   ]
  },
  {
   "cell_type": "code",
   "execution_count": 86,
   "id": "8b471454",
   "metadata": {},
   "outputs": [
    {
     "name": "stdout",
     "output_type": "stream",
     "text": [
      "False\n"
     ]
    }
   ],
   "source": [
    "print(node1 > node3)"
   ]
  },
  {
   "cell_type": "code",
   "execution_count": null,
   "id": "1a25b468",
   "metadata": {},
   "outputs": [],
   "source": []
  }
 ],
 "metadata": {
  "kernelspec": {
   "display_name": "Python 3 (ipykernel)",
   "language": "python",
   "name": "python3"
  },
  "language_info": {
   "codemirror_mode": {
    "name": "ipython",
    "version": 3
   },
   "file_extension": ".py",
   "mimetype": "text/x-python",
   "name": "python",
   "nbconvert_exporter": "python",
   "pygments_lexer": "ipython3",
   "version": "3.9.7"
  }
 },
 "nbformat": 4,
 "nbformat_minor": 5
}

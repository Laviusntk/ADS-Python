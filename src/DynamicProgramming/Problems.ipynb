{
 "cells": [
  {
   "cell_type": "markdown",
   "id": "0f885195",
   "metadata": {},
   "source": [
    "## <span style=\"font-weight:bold;font-size:1.9em;color:#0e92ea\">Dynamic Programming and Recursion</span>"
   ]
  },
  {
   "cell_type": "markdown",
   "id": "0292b853",
   "metadata": {},
   "source": [
    "#### <span style=\"font-weight:bold;font-size:1.9em;color:#0e92ea\">1. Find Encoded words in a grid</span>\n",
    "- Can only go forward and downwards\n",
    "\n",
    "```python\n",
    "letters_grid = [\n",
    "    ['c', 'b', 'a', 'l', 'w'],\n",
    "    ['s', 'a', 's', 's', 'e'],\n",
    "    ['b', 'e', 'n', 's', 's'],\n",
    "    ['a', 'l', 'x', 'd', 't'],\n",
    "    ['w', 'e', 't', 'd', 'y'],\n",
    "]\n",
    "\n",
    "words = ['sex', 'ass', 'west', 'wet', 'candy', 'bass', 'ball', 'driblle', 'donuts']\n",
    "```"
   ]
  },
  {
   "cell_type": "code",
   "execution_count": 15,
   "id": "8f09d059",
   "metadata": {},
   "outputs": [
    {
     "name": "stdout",
     "output_type": "stream",
     "text": [
      "sex\t: True\n",
      "ass\t: True\n",
      "west\t: True\n",
      "wet\t: True\n",
      "candy\t: True\n",
      "bass\t: True\n",
      "ball\t: False\n",
      "driblle\t: False\n",
      "donuts\t: False\n"
     ]
    }
   ],
   "source": [
    "letters_grid = [\n",
    "    ['c', 'b', 'a', 'l', 'w'],\n",
    "    ['s', 'a', 's', 's', 'e'],\n",
    "    ['b', 'e', 'n', 's', 's'],\n",
    "    ['a', 'l', 'x', 'd', 't'],\n",
    "    ['w', 'e', 't', 'd', 'y'],\n",
    "]\n",
    "\n",
    "words = ['sex', 'ass', 'west', 'wet', 'candy', 'bass', 'ball', 'driblle', 'donuts']\n",
    "\n",
    "def IsOutOfBound(grid, word, row, col, substr_size):\n",
    "    return row >= len(grid) or col >= len(grid[0]) and substr_size >= len(word)\n",
    "\n",
    "\n",
    "def Find(grid, word, row = 0, col = 0, substr_size = 0, operationalResults = {'done': False, 'found': False}):\n",
    "    if row >= len(grid) or col >= len(grid[0]) or substr_size >= len(word) or operationalResults['done']:\n",
    "        return\n",
    "    \n",
    "    if grid[row][col] == word[substr_size]:\n",
    "        substr_size = substr_size + 1\n",
    "        \n",
    "        if substr_size == len(word):\n",
    "            operationalResults['done']  = True\n",
    "            operationalResults['found'] = True\n",
    "            \n",
    "    Find(grid, word, row, col+1, substr_size, operationalResults)\n",
    "    Find(grid, word, row+1, col, substr_size, operationalResults)\n",
    "    \n",
    "    return operationalResults\n",
    "\n",
    "for word in words:\n",
    "    print(f\"{word}\\t: {Find(letters_grid, word, operationalResults = {'done': False, 'found': False})['found']}\")\n",
    "        "
   ]
  },
  {
   "cell_type": "code",
   "execution_count": null,
   "id": "6a6c6289",
   "metadata": {},
   "outputs": [],
   "source": []
  }
 ],
 "metadata": {
  "kernelspec": {
   "display_name": "Python 3 (ipykernel)",
   "language": "python",
   "name": "python3"
  },
  "language_info": {
   "codemirror_mode": {
    "name": "ipython",
    "version": 3
   },
   "file_extension": ".py",
   "mimetype": "text/x-python",
   "name": "python",
   "nbconvert_exporter": "python",
   "pygments_lexer": "ipython3",
   "version": "3.9.7"
  }
 },
 "nbformat": 4,
 "nbformat_minor": 5
}

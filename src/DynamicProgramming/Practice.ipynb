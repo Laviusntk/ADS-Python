{
 "cells": [
  {
   "cell_type": "code",
   "execution_count": 1,
   "id": "295f4bba",
   "metadata": {
    "scrolled": true
   },
   "outputs": [
    {
     "name": "stdout",
     "output_type": "stream",
     "text": [
      "[1 2 3]\n",
      "\n",
      "[[1 2 3]\n",
      " [1 3 3]]\n",
      "\n",
      "[ 0  4  8 12 16]\n",
      "[ 0. 15. 30.]\n",
      "\n",
      "[2, 4, 6, 8]\n",
      "[[ 0.]\n",
      " [15.]\n",
      " [30.]]\n"
     ]
    }
   ],
   "source": [
    "import numpy as np\n",
    "\n",
    "vector = np.array([1,2,3])\n",
    "print(vector)\n",
    "print(\"\")\n",
    "\n",
    "mat = np.array([[1,2,3],[1,3,3]])\n",
    "print(mat)\n",
    "print(\"\")\n",
    "\n",
    "vec2 = np.arange(0, 20, 4)\n",
    "vec3 = np.linspace(0, 30, 3)\n",
    "print(vec2)\n",
    "print(vec3)\n",
    "print(\"\")\n",
    "\n",
    "tempArray = [2, 4, 6, 8]\n",
    "print(tempArray)\n",
    "\n",
    "# Convert array to matrtix\n",
    "print(vec3.reshape(3, 1))"
   ]
  },
  {
   "cell_type": "code",
   "execution_count": 10,
   "id": "beab2f2e",
   "metadata": {},
   "outputs": [
    {
     "name": "stdout",
     "output_type": "stream",
     "text": [
      "[[ 30  80]\n",
      " [ 80 255]]\n"
     ]
    }
   ],
   "source": [
    "matrixOne = np.array([range(0,5), range(5, 10)])\n",
    "m = np.matrix([range(0,5), range(5, 10)])\n",
    "print(m * m.getT())"
   ]
  },
  {
   "cell_type": "code",
   "execution_count": 18,
   "id": "9643b3ae",
   "metadata": {},
   "outputs": [
    {
     "name": "stdout",
     "output_type": "stream",
     "text": [
      "[[ 0  1  2]\n",
      " [ 3  4  5]\n",
      " [ 6  7  8]\n",
      " [ 9 10 11]]\n",
      "[1, True, 'Hi']\n"
     ]
    }
   ],
   "source": [
    "print(np.arange(0, 12).reshape(4, 3))\n",
    "print([1, True, \"Hi\"])"
   ]
  },
  {
   "cell_type": "code",
   "execution_count": 20,
   "id": "2c6531a8",
   "metadata": {},
   "outputs": [
    {
     "data": {
      "text/plain": [
       "54.598150033144236"
      ]
     },
     "execution_count": 20,
     "metadata": {},
     "output_type": "execute_result"
    }
   ],
   "source": [
    "np.cos(np.pi)\n",
    "np.sqrt(1.44)\n",
    "np.log(6)\n",
    "np.exp(4)"
   ]
  },
  {
   "cell_type": "code",
   "execution_count": 21,
   "id": "04d9b955",
   "metadata": {},
   "outputs": [
    {
     "name": "stdout",
     "output_type": "stream",
     "text": [
      "[ 4  9 14 19]\n"
     ]
    }
   ],
   "source": [
    "print(np.arange(4, 20, 5))"
   ]
  },
  {
   "cell_type": "code",
   "execution_count": 23,
   "id": "7104bd23",
   "metadata": {},
   "outputs": [
    {
     "name": "stdout",
     "output_type": "stream",
     "text": [
      "[10 13 16 19]\n"
     ]
    }
   ],
   "source": [
    "print(np.arange(10, 20)[np.arange(0, 10, 3)])"
   ]
  },
  {
   "cell_type": "code",
   "execution_count": 27,
   "id": "8d91e8fe",
   "metadata": {},
   "outputs": [
    {
     "name": "stdout",
     "output_type": "stream",
     "text": [
      "[[0 1 2 3 4]\n",
      " [5 6 7 8 9]]\n",
      "\n",
      "[[0 1 2 3 4]\n",
      " [5 6 7 8 9]]\n",
      "\n",
      "[[ 0  1  4  9 16]\n",
      " [25 36 49 64 81]]\n"
     ]
    }
   ],
   "source": [
    "array1 = np.array([range(0,5), range(5, 10)])\n",
    "array2 = array1\n",
    "\n",
    "print(array1)\n",
    "\n",
    "array2 = array1 * array1\n",
    "\n",
    "print(\"\")\n",
    "print(array1)\n",
    "\n",
    "print(\"\")\n",
    "print(array2)"
   ]
  },
  {
   "cell_type": "code",
   "execution_count": 29,
   "id": "13b38c9f",
   "metadata": {},
   "outputs": [
    {
     "name": "stdout",
     "output_type": "stream",
     "text": [
      "[[1 2 3]\n",
      " [4 5 6]\n",
      " [7 8 9]]\n",
      "5\n"
     ]
    }
   ],
   "source": [
    "matrixOne = np.array([[1, 2, 3], [4, 5, 6], [7, 8, 9]])\n",
    "print(matrixOne)\n",
    "print(matrixOne[1, 1])"
   ]
  },
  {
   "cell_type": "code",
   "execution_count": 34,
   "id": "2f19987b",
   "metadata": {},
   "outputs": [
    {
     "name": "stdout",
     "output_type": "stream",
     "text": [
      "[ 7  8  9 10]\n"
     ]
    }
   ],
   "source": [
    "vec = np.array([4, 7, 8, 9, 10, 6, 1])\n",
    "print(vec[vec>6])"
   ]
  },
  {
   "cell_type": "code",
   "execution_count": 48,
   "id": "a59df9fd",
   "metadata": {},
   "outputs": [
    {
     "name": "stdout",
     "output_type": "stream",
     "text": [
      "a    10\n",
      "b    15\n",
      "c    20\n",
      "d    25\n",
      "dtype: int64\n"
     ]
    }
   ],
   "source": [
    "import pandas as pd\n",
    "\n",
    "score = [10, 15, 20, 25]\n",
    "\n",
    "print(pd.Series(data=score, index = ['a','b','c','d']))"
   ]
  },
  {
   "cell_type": "code",
   "execution_count": 50,
   "id": "a4ac8c42",
   "metadata": {},
   "outputs": [
    {
     "name": "stdout",
     "output_type": "stream",
     "text": [
      "   a  b  c\n",
      "0  1  2  2\n",
      "1  4  5  2\n",
      "2  7  8  2\n"
     ]
    }
   ],
   "source": [
    "df2 = pd.DataFrame(np.array([[1, 2, 3], [4, 5, 6], [7, 8, 9]]),\n",
    "                   columns=['a', 'b', 'c'])\n",
    "newColumn = [2, 2, 2]\n",
    "df2['c'] = newColumn\n",
    "print(df2)"
   ]
  },
  {
   "cell_type": "code",
   "execution_count": 52,
   "id": "035e2009",
   "metadata": {},
   "outputs": [
    {
     "name": "stdout",
     "output_type": "stream",
     "text": [
      "[ 0  6 12 18]\n"
     ]
    }
   ],
   "source": [
    "print(np.arange(0, 22, 6))"
   ]
  },
  {
   "cell_type": "code",
   "execution_count": 53,
   "id": "bc2e6c7f",
   "metadata": {},
   "outputs": [
    {
     "name": "stdout",
     "output_type": "stream",
     "text": [
      "[101 101 101 101 101 101 101]\n"
     ]
    }
   ],
   "source": [
    "demo_array = np.arange(10,21)\n",
    "\n",
    "subset_demo_array = demo_array[0:7]\n",
    "\n",
    "subset_demo_array[:]= 101\n",
    "\n",
    "print(subset_demo_array)"
   ]
  },
  {
   "cell_type": "code",
   "execution_count": 55,
   "id": "5b7abeac",
   "metadata": {},
   "outputs": [
    {
     "name": "stdout",
     "output_type": "stream",
     "text": [
      "5\n",
      "   a  b\n",
      "0  1  2\n",
      "1  4  5\n",
      "2  7  8\n"
     ]
    }
   ],
   "source": [
    "flowers = pd.Series([2, 3, 5, 4], index=['lily', 'rose', 'daisy', 'lotus'])\n",
    "\n",
    "print(flowers['daisy'])\n",
    "print(df2.drop('c', axis=1))"
   ]
  },
  {
   "cell_type": "code",
   "execution_count": 62,
   "id": "09b11bb9",
   "metadata": {},
   "outputs": [
    {
     "name": "stdout",
     "output_type": "stream",
     "text": [
      "0    a\n",
      "1    b\n",
      "0    c\n",
      "1    d\n",
      "dtype: object\n"
     ]
    }
   ],
   "source": [
    "s1 = pd.Series(['a', 'b'])\n",
    "s2 = pd.Series(['c', 'd'])\n",
    "print(pd.concat([s1,s2]))"
   ]
  },
  {
   "cell_type": "code",
   "execution_count": null,
   "id": "8f09d059",
   "metadata": {},
   "outputs": [],
   "source": []
  }
 ],
 "metadata": {
  "kernelspec": {
   "display_name": "Python 3 (ipykernel)",
   "language": "python",
   "name": "python3"
  },
  "language_info": {
   "codemirror_mode": {
    "name": "ipython",
    "version": 3
   },
   "file_extension": ".py",
   "mimetype": "text/x-python",
   "name": "python",
   "nbconvert_exporter": "python",
   "pygments_lexer": "ipython3",
   "version": "3.8.11"
  }
 },
 "nbformat": 4,
 "nbformat_minor": 5
}

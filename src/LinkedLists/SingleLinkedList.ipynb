{
 "cells": [
  {
   "cell_type": "markdown",
   "id": "0e6d0359",
   "metadata": {},
   "source": [
    "## <span style=\"font-weight:bold;font-size:1.9em;color:#0e92ea\">LinkedLists</span>\n",
    "\n",
    "#### <span style=\"font-weight:bold;font-size:1.9em;color:#0e92ea\">Content</span>\n",
    "\n",
    "<ol style=\"color:#0e92ea\">\n",
    "    <li>Node Class</li>\n",
    "    <li>SingleLinkedListNode Class</li>\n",
    "    <li>DoubleLinkedListNode Class</li>\n",
    "    <li>\n",
    "        LinkedList Abstract Base Class\n",
    "        <ol>\n",
    "            <li>Insert()</li>\n",
    "            <li>Remove()</li>\n",
    "            <li>Find()</li>\n",
    "        </ol>\n",
    "    </li>\n",
    "    <li>SingleLinkedList Class\n",
    "        <ol>\n",
    "            <li>Insert()</li>\n",
    "            <li>Remove()</li>\n",
    "            <li>Find()</li>\n",
    "        </ol>    \n",
    "    </li>\n",
    "    <li>DoubleLinkedList Class\n",
    "        <ol>\n",
    "            <li>Insert()</li>\n",
    "            <li>Remove()</li>\n",
    "            <li>Find()</li>\n",
    "        </ol>    \n",
    "    </li>\n",
    "    <li>Qeues Class\n",
    "        <ol>\n",
    "            <li>Enqueue()</li>\n",
    "            <li>Dequeque()</li>\n",
    "            <li>Peek()</li>\n",
    "            <li>IsEmpt()</li>\n",
    "            <li>Size()</li>\n",
    "        </ol>    \n",
    "    </li>\n",
    "    <li>Stack Class\n",
    "        <ol>\n",
    "            <li>Push()</li>\n",
    "            <li>Pop()</li>\n",
    "            <li>Peek()</li>\n",
    "            <li>IsEmpt()</li>\n",
    "            <li>Size()</li>\n",
    "        </ol>    \n",
    "    </li>\n",
    "</ol>"
   ]
  },
  {
   "cell_type": "code",
   "execution_count": 1,
   "id": "ce521f24",
   "metadata": {},
   "outputs": [],
   "source": [
    "from abc import ABC\n",
    "from abc import abstractmethod\n",
    "from dataclasses import dataclass\n",
    "import json"
   ]
  },
  {
   "cell_type": "markdown",
   "id": "38ae7f62",
   "metadata": {},
   "source": [
    "#### <span style=\"font-weight:bold;font-size:1.9em;color:#0e92ea\">1. Node Class</span>"
   ]
  },
  {
   "cell_type": "code",
   "execution_count": 2,
   "id": "dc52c7c3",
   "metadata": {},
   "outputs": [],
   "source": [
    "class Node(ABC):\n",
    "    __Visited = False\n",
    "\n",
    "    def __init__(self, value = 0, nextNode = None):\n",
    "        self.Next = nextNode\n",
    "        self.Value = value\n",
    "\n",
    "    def Visit(self):\n",
    "        self.__Visited = True\n",
    "\n",
    "    def IsVisited(self):\n",
    "        return self.__Visited\n",
    "\n",
    "    def __str__(self):\n",
    "        return json.dumps({\n",
    "            \"Node\"    : self.Value,\n",
    "            \"Next\"    : self.GetNodeValue(self.Next),\n",
    "            \"Visited\" : self.Visit() \n",
    "        })\n",
    "    \n",
    "    def __repr__(self):\n",
    "        return self.__str__()\n",
    "    \n",
    "    def __eq__(self, node):\n",
    "        if node is None:\n",
    "            return False\n",
    "        \n",
    "        return node.Value == self.Value \n",
    "\n",
    "    def __gt__(self, node):\n",
    "        if node is None:\n",
    "            return false\n",
    "        \n",
    "        return self.Value > node.Value \n",
    "    \n",
    "    def GetNodeValue(self, node):\n",
    "        if node is None:\n",
    "            return str(node)\n",
    "        else:\n",
    "            return node.Value\n",
    "        \n",
    "    @abstractmethod\n",
    "    def Process(self):\n",
    "        pass"
   ]
  },
  {
   "cell_type": "markdown",
   "id": "92533cfc",
   "metadata": {},
   "source": [
    "#### <span style=\"font-weight:bold;font-size:1.9em;color:#0e92ea\">2. Single LinkedList Node</span>"
   ]
  },
  {
   "cell_type": "code",
   "execution_count": 3,
   "id": "28447c67",
   "metadata": {},
   "outputs": [],
   "source": [
    "class SingleLinkedListNode(Node):\n",
    "    \n",
    "    def Process(self):\n",
    "        self.Visit()\n",
    "        \n",
    "    def __str__(self):\n",
    "        return json.dumps({\n",
    "            \"Node\"    : self.Value,\n",
    "            \"Next\"    : self.GetNodeValue(self.Next),\n",
    "            \"Visited\" : self.IsVisited() \n",
    "        })"
   ]
  },
  {
   "cell_type": "code",
   "execution_count": 4,
   "id": "e242992f",
   "metadata": {},
   "outputs": [
    {
     "data": {
      "text/plain": [
       "{\"Node\": 0, \"Next\": \"None\", \"Visited\": false}"
      ]
     },
     "execution_count": 4,
     "metadata": {},
     "output_type": "execute_result"
    }
   ],
   "source": [
    "node = SingleLinkedListNode()\n",
    "node"
   ]
  },
  {
   "cell_type": "code",
   "execution_count": 5,
   "id": "b1661954",
   "metadata": {},
   "outputs": [
    {
     "data": {
      "text/plain": [
       "{\"Node\": 0, \"Next\": \"None\", \"Visited\": true}"
      ]
     },
     "execution_count": 5,
     "metadata": {},
     "output_type": "execute_result"
    }
   ],
   "source": [
    "node.Visit()\n",
    "node"
   ]
  },
  {
   "cell_type": "code",
   "execution_count": 6,
   "id": "e2ea5542",
   "metadata": {},
   "outputs": [
    {
     "data": {
      "text/plain": [
       "{\"Node\": 5, \"Next\": \"None\", \"Visited\": false}"
      ]
     },
     "execution_count": 6,
     "metadata": {},
     "output_type": "execute_result"
    }
   ],
   "source": [
    "node = SingleLinkedListNode(5, None)\n",
    "node"
   ]
  },
  {
   "cell_type": "code",
   "execution_count": 7,
   "id": "f13b2864",
   "metadata": {},
   "outputs": [
    {
     "data": {
      "text/plain": [
       "{\"Node\": 5, \"Next\": 6, \"Visited\": false}"
      ]
     },
     "execution_count": 7,
     "metadata": {},
     "output_type": "execute_result"
    }
   ],
   "source": [
    "node = SingleLinkedListNode(5, SingleLinkedListNode(6, None))\n",
    "node"
   ]
  },
  {
   "cell_type": "code",
   "execution_count": 8,
   "id": "8dc82cd8",
   "metadata": {},
   "outputs": [
    {
     "data": {
      "text/plain": [
       "False"
      ]
     },
     "execution_count": 8,
     "metadata": {},
     "output_type": "execute_result"
    }
   ],
   "source": [
    "node1 = SingleLinkedListNode(5)\n",
    "node2 = SingleLinkedListNode(6)\n",
    "node1 == node2"
   ]
  },
  {
   "cell_type": "code",
   "execution_count": 9,
   "id": "636a52c7",
   "metadata": {},
   "outputs": [
    {
     "data": {
      "text/plain": [
       "True"
      ]
     },
     "execution_count": 9,
     "metadata": {},
     "output_type": "execute_result"
    }
   ],
   "source": [
    "node1 = SingleLinkedListNode(5)\n",
    "node2 = SingleLinkedListNode(5)\n",
    "node1 == node2"
   ]
  },
  {
   "cell_type": "markdown",
   "id": "4eba3e58",
   "metadata": {},
   "source": [
    "#### <span style=\"font-weight:bold;font-size:1.9em;color:#0e92ea\">2. Double LinkedList Node</span>"
   ]
  },
  {
   "cell_type": "code",
   "execution_count": 10,
   "id": "11c90307",
   "metadata": {},
   "outputs": [],
   "source": [
    "class DoubleLinkedListNode(Node):\n",
    "    def __init__(self, value = 0, previousNode = None, nextNode = None):\n",
    "            super().__init__(value, nextNode)\n",
    "            self.Previous = previousNode\n",
    "            \n",
    "    def __str__(self):\n",
    "        return json.dumps({\n",
    "            \"Node\"    : self.Value,\n",
    "            \"Previous\": self.GetNodeValue(self.Previous),\n",
    "            \"Next\"    : self.GetNodeValue(self.Next),\n",
    "            \"Visited\" : self.IsVisited() \n",
    "        })\n",
    "    \n",
    "    def Process(self):\n",
    "        self.Visit()"
   ]
  },
  {
   "cell_type": "code",
   "execution_count": 11,
   "id": "129e6466",
   "metadata": {},
   "outputs": [
    {
     "data": {
      "text/plain": [
       "{\"Node\": 5, \"Previous\": \"None\", \"Next\": \"None\", \"Visited\": false}"
      ]
     },
     "execution_count": 11,
     "metadata": {},
     "output_type": "execute_result"
    }
   ],
   "source": [
    "node = DoubleLinkedListNode(5, None, None)\n",
    "node"
   ]
  },
  {
   "cell_type": "code",
   "execution_count": 12,
   "id": "ed75ea9b",
   "metadata": {},
   "outputs": [
    {
     "data": {
      "text/plain": [
       "{\"Node\": 5, \"Previous\": 4, \"Next\": \"None\", \"Visited\": false}"
      ]
     },
     "execution_count": 12,
     "metadata": {},
     "output_type": "execute_result"
    }
   ],
   "source": [
    "node = DoubleLinkedListNode(5, DoubleLinkedListNode(4), None)\n",
    "node"
   ]
  },
  {
   "cell_type": "code",
   "execution_count": 13,
   "id": "1576614c",
   "metadata": {},
   "outputs": [
    {
     "data": {
      "text/plain": [
       "{\"Node\": 5, \"Previous\": 4, \"Next\": 6, \"Visited\": false}"
      ]
     },
     "execution_count": 13,
     "metadata": {},
     "output_type": "execute_result"
    }
   ],
   "source": [
    "node = DoubleLinkedListNode(5, DoubleLinkedListNode(4), DoubleLinkedListNode(6))\n",
    "node"
   ]
  },
  {
   "cell_type": "code",
   "execution_count": 14,
   "id": "52f06a8f",
   "metadata": {},
   "outputs": [
    {
     "data": {
      "text/plain": [
       "{\"Node\": 5, \"Previous\": 4, \"Next\": 6, \"Visited\": true}"
      ]
     },
     "execution_count": 14,
     "metadata": {},
     "output_type": "execute_result"
    }
   ],
   "source": [
    "node.Visit()\n",
    "node"
   ]
  },
  {
   "cell_type": "markdown",
   "id": "3ec401b8",
   "metadata": {},
   "source": [
    "#### <span style=\"font-weight:bold;font-size:1.9em;color:#0e92ea\">4. LinkedList abstract Base Class</span>"
   ]
  },
  {
   "cell_type": "code",
   "execution_count": 15,
   "id": "73b0efc6",
   "metadata": {},
   "outputs": [],
   "source": [
    "class LinkedList(ABC):\n",
    "    def __init__(self):\n",
    "        self.Head = None\n",
    "        self.Count = 0\n",
    "        \n",
    "    @abstractmethod\n",
    "    def Insert(self, newNodeValue):\n",
    "        pass\n",
    "    \n",
    "    @abstractmethod\n",
    "    def Remove(self, newNodeValue):\n",
    "        pass\n",
    "    \n",
    "    @abstractmethod\n",
    "    def Find(self, newNodeValue):\n",
    "        pass\n",
    "    \n",
    "    def __str__(self):\n",
    "        temp = self.Head\n",
    "        results = \"\"\n",
    "        while temp is not None:\n",
    "            results += f\"{temp.Value} => \"\n",
    "            temp = temp.Next\n",
    "        results += \"null\"\n",
    "        return results\n",
    "        \n",
    "    def __repr__(self):\n",
    "        return self.__str__()"
   ]
  },
  {
   "cell_type": "markdown",
   "id": "7f08ac3b",
   "metadata": {},
   "source": [
    "#### <span style=\"font-weight:bold;font-size:1.9em;color:#0e92ea\">5. Single LinkedList</span>"
   ]
  },
  {
   "cell_type": "code",
   "execution_count": 16,
   "id": "185517d5",
   "metadata": {},
   "outputs": [],
   "source": [
    "class SingleLinkedList(LinkedList):    \n",
    "    def Insert(self, newValue):\n",
    "        if self.Head is None:\n",
    "            self.Head = SingleLinkedListNode(newValue)\n",
    "        else:\n",
    "            temp = self.Head\n",
    "            while temp.Next is not None:\n",
    "                temp = temp.Next\n",
    "            temp.Next = SingleLinkedListNode(newValue)\n",
    "            self.Count += 1\n",
    "            \n",
    "    def Remove(self, value):\n",
    "        if self.Head is None:\n",
    "            return self\n",
    "        elif self.Head.Value == value:\n",
    "            self.Head = self.Head.Next\n",
    "            return self\n",
    "            \n",
    "        currentNode = self.Head\n",
    "        while currentNode.Next is not None:\n",
    "            if currentNode.Next.Value == value:\n",
    "                currentNode.Next = currentNode.Next.Next\n",
    "                return self\n",
    "            currentNode = currentNode.Next\n",
    "        return self\n",
    "    \n",
    "    def Find(self, value):\n",
    "        currentNode = self.Head\n",
    "        while currentNode is not None:\n",
    "            if currentNode.Value == value:\n",
    "                return currentNode\n",
    "            currentNode = currentNode.Next\n",
    "        return None"
   ]
  },
  {
   "cell_type": "code",
   "execution_count": 17,
   "id": "fed0b5a1",
   "metadata": {},
   "outputs": [
    {
     "data": {
      "text/plain": [
       "1 => 2 => 3 => null"
      ]
     },
     "execution_count": 17,
     "metadata": {},
     "output_type": "execute_result"
    }
   ],
   "source": [
    "linkedList = SingleLinkedList()\n",
    "linkedList.Insert(1)\n",
    "linkedList.Insert(2)\n",
    "linkedList.Insert(3)\n",
    "linkedList"
   ]
  },
  {
   "cell_type": "code",
   "execution_count": 18,
   "id": "d7896633",
   "metadata": {},
   "outputs": [
    {
     "data": {
      "text/plain": [
       "{\"Node\": 2, \"Next\": 3, \"Visited\": false}"
      ]
     },
     "execution_count": 18,
     "metadata": {},
     "output_type": "execute_result"
    }
   ],
   "source": [
    "linkedList.Find(2)"
   ]
  },
  {
   "cell_type": "code",
   "execution_count": 19,
   "id": "796388c5",
   "metadata": {},
   "outputs": [
    {
     "data": {
      "text/plain": [
       "1 => 3 => null"
      ]
     },
     "execution_count": 19,
     "metadata": {},
     "output_type": "execute_result"
    }
   ],
   "source": [
    "linkedList.Remove(2)"
   ]
  },
  {
   "cell_type": "code",
   "execution_count": 20,
   "id": "91d1cfea",
   "metadata": {},
   "outputs": [
    {
     "data": {
      "text/plain": [
       "1 => null"
      ]
     },
     "execution_count": 20,
     "metadata": {},
     "output_type": "execute_result"
    }
   ],
   "source": [
    "linkedList = SingleLinkedList()\n",
    "linkedList.Insert(1)\n",
    "linkedList"
   ]
  },
  {
   "cell_type": "code",
   "execution_count": 21,
   "id": "12d29ae5",
   "metadata": {},
   "outputs": [
    {
     "data": {
      "text/plain": [
       "1 => null"
      ]
     },
     "execution_count": 21,
     "metadata": {},
     "output_type": "execute_result"
    }
   ],
   "source": [
    "linkedList.Remove(2)"
   ]
  },
  {
   "cell_type": "code",
   "execution_count": 22,
   "id": "3ca47454",
   "metadata": {},
   "outputs": [
    {
     "data": {
      "text/plain": [
       "null"
      ]
     },
     "execution_count": 22,
     "metadata": {},
     "output_type": "execute_result"
    }
   ],
   "source": [
    "linkedList.Remove(1)"
   ]
  },
  {
   "cell_type": "code",
   "execution_count": 23,
   "id": "fcd1ebc7",
   "metadata": {},
   "outputs": [
    {
     "data": {
      "text/plain": [
       "1 => 2 => null"
      ]
     },
     "execution_count": 23,
     "metadata": {},
     "output_type": "execute_result"
    }
   ],
   "source": [
    "linkedList = SingleLinkedList()\n",
    "linkedList.Insert(1)\n",
    "linkedList.Insert(2)\n",
    "linkedList.Insert(3)\n",
    "linkedList\n",
    "linkedList.Remove(3)"
   ]
  },
  {
   "cell_type": "code",
   "execution_count": 24,
   "id": "0f6a4582",
   "metadata": {},
   "outputs": [
    {
     "data": {
      "text/plain": [
       "1 => 2 => null"
      ]
     },
     "execution_count": 24,
     "metadata": {},
     "output_type": "execute_result"
    }
   ],
   "source": [
    "linkedList.Remove(3)"
   ]
  },
  {
   "cell_type": "code",
   "execution_count": 25,
   "id": "2a332308",
   "metadata": {},
   "outputs": [
    {
     "data": {
      "text/plain": [
       "2 => null"
      ]
     },
     "execution_count": 25,
     "metadata": {},
     "output_type": "execute_result"
    }
   ],
   "source": [
    "linkedList.Remove(1)"
   ]
  },
  {
   "cell_type": "markdown",
   "id": "5adf9e52",
   "metadata": {},
   "source": [
    "#### <span style=\"font-weight:bold;font-size:1.9em;color:#0e92ea\">4. Double LinkedList</span>"
   ]
  },
  {
   "cell_type": "code",
   "execution_count": 26,
   "id": "27282c8d",
   "metadata": {},
   "outputs": [],
   "source": [
    "class DoubleLinkedList(LinkedList):\n",
    "    def Insert(self, newNodeValue):\n",
    "        if self.Head == None:\n",
    "            self.Head = DoubleLinkedListNode(newNodeValue)\n",
    "            return self\n",
    "        \n",
    "        currentNode = self.Head\n",
    "        while currentNode.Next is not None and currentNode.Next.Value < newNodeValue :\n",
    "            currentNode = currentNode.Next\n",
    "            \n",
    "        print(f\"current Node {currentNode.Value}\")\n",
    "        \n",
    "        tempNode = currentNode.Next\n",
    "        newNode = DoubleLinkedListNode(newNodeValue)\n",
    "        newNode.Next = currentNode.Next\n",
    "        newNode.Previous = currentNode\n",
    "        currentNode.Next = newNode\n",
    "        \n",
    "        if tempNode is not None:\n",
    "            tempNode.Previous = newNode\n",
    "        return self\n",
    "\n",
    "    def __str__(self):\n",
    "        temp = self.Head\n",
    "        results = \"\"\n",
    "        while temp.Next is not None:\n",
    "            results += f\"{temp.Value} => \"\n",
    "            temp = temp.Next\n",
    "        results += f\"{temp.Value} => null\"\n",
    "        \n",
    "        reverseResults = \"\"\n",
    "        while temp is not None:\n",
    "            reverseResults = f\"{temp.Value} <= {reverseResults}\"\n",
    "            temp = temp.Previous\n",
    "        reverseResults = f\"null <= {reverseResults}\"\n",
    "        return f\"{results}\\n{reverseResults}\"\n",
    "\n",
    "    def Remove(self, value):\n",
    "        if self.Head == None:\n",
    "            return self\n",
    "        elif self.Head.Value == value:\n",
    "            self.Head = self.Head.Next\n",
    "            self.Head.Previous = None\n",
    "            return self\n",
    "        \n",
    "        currentNode = self.Head\n",
    "        while currentNode.Next is not None and currentNode.Next.Value != value:\n",
    "            currentNode = currentNode.Next\n",
    "        \n",
    "        if currentNode.Next.Value == value:\n",
    "            temp = currentNode.Next.Next\n",
    "            currentNode.Next = currentNode.Next.Next\n",
    "            \n",
    "            if temp is not None:\n",
    "                temp.Previous = currentNode\n",
    "        return self\n",
    "    \n",
    "    def Find(self, value):\n",
    "        pass"
   ]
  },
  {
   "cell_type": "code",
   "execution_count": 27,
   "id": "29948b50",
   "metadata": {},
   "outputs": [
    {
     "name": "stdout",
     "output_type": "stream",
     "text": [
      "current Node 1\n",
      "current Node 2\n",
      "current Node 3\n"
     ]
    },
    {
     "data": {
      "text/plain": [
       "1 => 2 => 3 => 6 => null\n",
       "null <= 1 <= 2 <= 3 <= 6 <= "
      ]
     },
     "execution_count": 27,
     "metadata": {},
     "output_type": "execute_result"
    }
   ],
   "source": [
    "linkedList = DoubleLinkedList()\n",
    "linkedList.Insert(1)\n",
    "linkedList.Insert(2)\n",
    "linkedList.Insert(3)\n",
    "linkedList.Insert(6)"
   ]
  },
  {
   "cell_type": "code",
   "execution_count": 28,
   "id": "fa3e6e36",
   "metadata": {},
   "outputs": [
    {
     "name": "stdout",
     "output_type": "stream",
     "text": [
      "current Node 3\n"
     ]
    },
    {
     "data": {
      "text/plain": [
       "1 => 2 => 3 => 5 => 6 => null\n",
       "null <= 1 <= 2 <= 3 <= 5 <= 6 <= "
      ]
     },
     "execution_count": 28,
     "metadata": {},
     "output_type": "execute_result"
    }
   ],
   "source": [
    "linkedList.Insert(5)"
   ]
  },
  {
   "cell_type": "code",
   "execution_count": 29,
   "id": "d7b5b4d6",
   "metadata": {},
   "outputs": [
    {
     "name": "stdout",
     "output_type": "stream",
     "text": [
      "current Node 3\n"
     ]
    },
    {
     "data": {
      "text/plain": [
       "1 => 2 => 3 => 4 => 5 => 6 => null\n",
       "null <= 1 <= 2 <= 3 <= 4 <= 5 <= 6 <= "
      ]
     },
     "execution_count": 29,
     "metadata": {},
     "output_type": "execute_result"
    }
   ],
   "source": [
    "linkedList.Insert(4)"
   ]
  },
  {
   "cell_type": "code",
   "execution_count": 30,
   "id": "ed000db1",
   "metadata": {},
   "outputs": [
    {
     "data": {
      "text/plain": [
       "1 => 2 => 4 => 5 => 6 => null\n",
       "null <= 1 <= 2 <= 4 <= 5 <= 6 <= "
      ]
     },
     "execution_count": 30,
     "metadata": {},
     "output_type": "execute_result"
    }
   ],
   "source": [
    "linkedList.Remove(3)"
   ]
  },
  {
   "cell_type": "code",
   "execution_count": 31,
   "id": "7224b98c",
   "metadata": {},
   "outputs": [
    {
     "data": {
      "text/plain": [
       "1 => 2 => 4 => 5 => null\n",
       "null <= 1 <= 2 <= 4 <= 5 <= "
      ]
     },
     "execution_count": 31,
     "metadata": {},
     "output_type": "execute_result"
    }
   ],
   "source": [
    "linkedList.Remove(6)"
   ]
  },
  {
   "cell_type": "code",
   "execution_count": 32,
   "id": "93d885b9",
   "metadata": {},
   "outputs": [
    {
     "data": {
      "text/plain": [
       "2 => 4 => 5 => null\n",
       "null <= 2 <= 4 <= 5 <= "
      ]
     },
     "execution_count": 32,
     "metadata": {},
     "output_type": "execute_result"
    }
   ],
   "source": [
    "linkedList.Remove(1)"
   ]
  },
  {
   "cell_type": "markdown",
   "id": "5f02d679",
   "metadata": {},
   "source": [
    "#### <span style=\"font-weight:bold;font-size:1.9em;color:#0e92ea\">5. Queues</span>"
   ]
  },
  {
   "cell_type": "code",
   "execution_count": 33,
   "id": "dc0e9079",
   "metadata": {},
   "outputs": [],
   "source": [
    "class Queue:  \n",
    "    def __init__(self):\n",
    "        self.Front = None\n",
    "        self.Tail = None\n",
    "        self.Cont = 0\n",
    "    \n",
    "    def Enqueue(self, value):\n",
    "        newNode = SingleLinkedListNode(value)\n",
    "        if self.Front is None:\n",
    "            self.Front = newNode\n",
    "            self.Tail = newNode\n",
    "            return self\n",
    "        self.Tail.Next = newNode\n",
    "        self.Tail = newNode\n",
    "        return self\n",
    "    \n",
    "    def DeQueue(self):\n",
    "        if self.Front == None:\n",
    "            return None\n",
    "        \n",
    "        retults = self.Front\n",
    "        self.Front = self.Front.Next\n",
    "        \n",
    "        if self.Front is None:\n",
    "            self.Tail = None\n",
    "            \n",
    "        return self\n",
    "    \n",
    "    def __str__(self):\n",
    "        temp = self.Front\n",
    "        results = \"\"\n",
    "        while temp is not None:\n",
    "            results += f\"{temp.Value} => \"\n",
    "            temp = temp.Next\n",
    "        results += \"null\"\n",
    "        return results\n",
    "        \n",
    "    def __repr__(self):\n",
    "        return self.__str__()"
   ]
  },
  {
   "cell_type": "code",
   "execution_count": 34,
   "id": "45d595ee",
   "metadata": {},
   "outputs": [],
   "source": [
    "queue = Queue()"
   ]
  },
  {
   "cell_type": "code",
   "execution_count": 35,
   "id": "cf7160d5",
   "metadata": {},
   "outputs": [
    {
     "data": {
      "text/plain": [
       "1 => null"
      ]
     },
     "execution_count": 35,
     "metadata": {},
     "output_type": "execute_result"
    }
   ],
   "source": [
    "queue.Enqueue(1)"
   ]
  },
  {
   "cell_type": "code",
   "execution_count": 36,
   "id": "fb950f19",
   "metadata": {},
   "outputs": [
    {
     "data": {
      "text/plain": [
       "1 => 2 => null"
      ]
     },
     "execution_count": 36,
     "metadata": {},
     "output_type": "execute_result"
    }
   ],
   "source": [
    "queue.Enqueue(2)"
   ]
  },
  {
   "cell_type": "code",
   "execution_count": 37,
   "id": "11bb95fa",
   "metadata": {},
   "outputs": [
    {
     "data": {
      "text/plain": [
       "1 => 2 => 3 => null"
      ]
     },
     "execution_count": 37,
     "metadata": {},
     "output_type": "execute_result"
    }
   ],
   "source": [
    "queue.Enqueue(3)"
   ]
  },
  {
   "cell_type": "code",
   "execution_count": 38,
   "id": "3b1ea15d",
   "metadata": {},
   "outputs": [
    {
     "data": {
      "text/plain": [
       "2 => 3 => null"
      ]
     },
     "execution_count": 38,
     "metadata": {},
     "output_type": "execute_result"
    }
   ],
   "source": [
    "queue.DeQueue()"
   ]
  },
  {
   "cell_type": "code",
   "execution_count": 39,
   "id": "560f2488",
   "metadata": {},
   "outputs": [
    {
     "data": {
      "text/plain": [
       "3 => null"
      ]
     },
     "execution_count": 39,
     "metadata": {},
     "output_type": "execute_result"
    }
   ],
   "source": [
    "queue.DeQueue()"
   ]
  },
  {
   "cell_type": "markdown",
   "id": "83183639",
   "metadata": {},
   "source": [
    "#### <span style=\"font-weight:bold;font-size:1.9em;color:#0e92ea\">5. Stack</span>"
   ]
  },
  {
   "cell_type": "code",
   "execution_count": 57,
   "id": "58bc94e7",
   "metadata": {},
   "outputs": [],
   "source": [
    "class Stack:  \n",
    "    def __init__(self):\n",
    "        self.Top = None\n",
    "    \n",
    "    def Push(self, value):\n",
    "        newNode = SingleLinkedListNode(value)\n",
    "        newNode.Next = self.Top\n",
    "        self.Top = newNode\n",
    "        return self\n",
    "    \n",
    "    def Pop(self):\n",
    "        results = self.Top\n",
    "        self.Top = self.Top.Next\n",
    "        return results\n",
    "    \n",
    "    def __str__(self):\n",
    "        temp = self.Top\n",
    "        results = \"[\"\n",
    "        while temp is not None:\n",
    "            results += f\"{temp.Value}, \"\n",
    "            temp = temp.Next\n",
    "        results += \"]\"\n",
    "        return results\n",
    "        \n",
    "    def __repr__(self):\n",
    "        return self.__str__()"
   ]
  },
  {
   "cell_type": "code",
   "execution_count": 58,
   "id": "389c4ff7",
   "metadata": {},
   "outputs": [],
   "source": [
    "stack = Stack()"
   ]
  },
  {
   "cell_type": "code",
   "execution_count": 59,
   "id": "721a8b36",
   "metadata": {},
   "outputs": [
    {
     "data": {
      "text/plain": [
       "[1, ]"
      ]
     },
     "execution_count": 59,
     "metadata": {},
     "output_type": "execute_result"
    }
   ],
   "source": [
    "stack.Push(1)"
   ]
  },
  {
   "cell_type": "code",
   "execution_count": 60,
   "id": "4ae38c34",
   "metadata": {},
   "outputs": [
    {
     "data": {
      "text/plain": [
       "[2, 1, ]"
      ]
     },
     "execution_count": 60,
     "metadata": {},
     "output_type": "execute_result"
    }
   ],
   "source": [
    "stack.Push(2)"
   ]
  },
  {
   "cell_type": "code",
   "execution_count": 61,
   "id": "4a58d776",
   "metadata": {},
   "outputs": [
    {
     "data": {
      "text/plain": [
       "[4, 3, 2, 1, ]"
      ]
     },
     "execution_count": 61,
     "metadata": {},
     "output_type": "execute_result"
    }
   ],
   "source": [
    "stack.Push(3)\n",
    "stack.Push(4)"
   ]
  },
  {
   "cell_type": "code",
   "execution_count": 62,
   "id": "fc8a2226",
   "metadata": {},
   "outputs": [
    {
     "data": {
      "text/plain": [
       "{\"Node\": 4, \"Next\": 3, \"Visited\": false}"
      ]
     },
     "execution_count": 62,
     "metadata": {},
     "output_type": "execute_result"
    }
   ],
   "source": [
    "stack.Pop()"
   ]
  },
  {
   "cell_type": "code",
   "execution_count": 63,
   "id": "e91fe9f2",
   "metadata": {},
   "outputs": [
    {
     "data": {
      "text/plain": [
       "{\"Node\": 3, \"Next\": 2, \"Visited\": false}"
      ]
     },
     "execution_count": 63,
     "metadata": {},
     "output_type": "execute_result"
    }
   ],
   "source": [
    "stack.Pop()"
   ]
  },
  {
   "cell_type": "code",
   "execution_count": 64,
   "id": "cf450650",
   "metadata": {},
   "outputs": [
    {
     "data": {
      "text/plain": [
       "{\"Node\": 2, \"Next\": 1, \"Visited\": false}"
      ]
     },
     "execution_count": 64,
     "metadata": {},
     "output_type": "execute_result"
    }
   ],
   "source": [
    "stack.Pop()"
   ]
  },
  {
   "cell_type": "code",
   "execution_count": 65,
   "id": "15b2c00d",
   "metadata": {},
   "outputs": [
    {
     "data": {
      "text/plain": [
       "[1, ]"
      ]
     },
     "execution_count": 65,
     "metadata": {},
     "output_type": "execute_result"
    }
   ],
   "source": [
    "stack"
   ]
  },
  {
   "cell_type": "code",
   "execution_count": null,
   "id": "c44a7f41",
   "metadata": {},
   "outputs": [],
   "source": []
  }
 ],
 "metadata": {
  "kernelspec": {
   "display_name": "Python 3 (ipykernel)",
   "language": "python",
   "name": "python3"
  },
  "language_info": {
   "codemirror_mode": {
    "name": "ipython",
    "version": 3
   },
   "file_extension": ".py",
   "mimetype": "text/x-python",
   "name": "python",
   "nbconvert_exporter": "python",
   "pygments_lexer": "ipython3",
   "version": "3.9.7"
  }
 },
 "nbformat": 4,
 "nbformat_minor": 5
}

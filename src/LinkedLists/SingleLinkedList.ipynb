{
 "cells": [
  {
   "cell_type": "markdown",
   "id": "0e6d0359",
   "metadata": {},
   "source": [
    "## <span style=\"font-weight:bold;font-size:1.9em;color:#0e92ea\">LinkedLists</span>\n",
    "\n",
    "#### <span style=\"font-weight:bold;font-size:1.9em;color:#0e92ea\">Content</span>\n",
    "\n",
    "<ol style=\"color:#0e92ea\">\n",
    "    <li>Node Class</li>\n",
    "    <li>SingleLinkedListNode Class</li>\n",
    "    <li>DoubleLinkedListNode Class</li>\n",
    "    <li>\n",
    "        LinkedList Abstract Base Class\n",
    "        <ol>\n",
    "            <li>Insert</li>\n",
    "            <li>Remove</li>\n",
    "            <li>Find</li>\n",
    "            <li>Update</li>\n",
    "            <li>Sort</li>\n",
    "        </ol>\n",
    "    </li>\n",
    "    <li>SingleLinkedList Class\n",
    "        <ol>\n",
    "            <li>Insert</li>\n",
    "            <li>Remove</li>\n",
    "            <li>Find</li>\n",
    "            <li>Update</li>\n",
    "            <li>Sort</li>\n",
    "        </ol>    \n",
    "    </li>\n",
    "    <li>DoubleLinkedList Class\n",
    "        <ol>\n",
    "            <li>Insert</li>\n",
    "            <li>Remove</li>\n",
    "            <li>Find</li>\n",
    "            <li>Update</li>\n",
    "            <li>Sort</li>\n",
    "        </ol>    \n",
    "    </li>\n",
    "</ol>"
   ]
  },
  {
   "cell_type": "code",
   "execution_count": 1,
   "id": "ce521f24",
   "metadata": {},
   "outputs": [],
   "source": [
    "from abc import ABC\n",
    "from abc import abstractmethod\n",
    "from dataclasses import dataclass\n",
    "import json"
   ]
  },
  {
   "cell_type": "markdown",
   "id": "0fccf47c",
   "metadata": {},
   "source": [
    "#### <span style=\"font-weight:bold;font-size:1.9em;color:#0e92ea\">1. Node Class</span>"
   ]
  },
  {
   "cell_type": "code",
   "execution_count": 2,
   "id": "8aa67a9f",
   "metadata": {},
   "outputs": [],
   "source": [
    "class Node(ABC):\n",
    "    __Visited = False\n",
    "\n",
    "    def __init__(self, value = 0, nextNode = None):\n",
    "        self.Next = nextNode\n",
    "        self.Value = value\n",
    "\n",
    "    def Visit(self):\n",
    "        self.__Visited = True\n",
    "\n",
    "    def IsVisited(self):\n",
    "        return self.__Visited\n",
    "\n",
    "    def __str__(self):\n",
    "        return json.dumps({\n",
    "            \"Node\"    : self.Value,\n",
    "            \"Next\"    : self.GetNodeValue(self.Next),\n",
    "            \"Visited\" : self.Visit() \n",
    "        })\n",
    "    \n",
    "    def __repr__(self):\n",
    "        return self.__str__()\n",
    "    \n",
    "    def GetNodeValue(self, node):\n",
    "        if node is None:\n",
    "            return str(node)\n",
    "        else:\n",
    "            return node.Value\n",
    "        \n",
    "    @abstractmethod\n",
    "    def Process(self):\n",
    "        pass"
   ]
  },
  {
   "cell_type": "markdown",
   "id": "94d2924f",
   "metadata": {},
   "source": [
    "#### <span style=\"font-weight:bold;font-size:1.9em;color:#0e92ea\">2. Single LinkedList Node</span>"
   ]
  },
  {
   "cell_type": "code",
   "execution_count": 3,
   "id": "6b5a86db",
   "metadata": {},
   "outputs": [],
   "source": [
    "class SingleLinkedListNode(Node):\n",
    "    \n",
    "    def Process(self):\n",
    "        self.Visit()\n",
    "        \n",
    "    def __str__(self):\n",
    "        return json.dumps({\n",
    "            \"Node\"    : self.Value,\n",
    "            \"Next\"    : self.GetNodeValue(self.Next),\n",
    "            \"Visited\" : self.Visit() \n",
    "        })\n"
   ]
  },
  {
   "cell_type": "code",
   "execution_count": 4,
   "id": "7c4907f3",
   "metadata": {},
   "outputs": [
    {
     "data": {
      "text/plain": [
       "<__main__.SingleLinkedListNode at 0x7fbfe6364250>"
      ]
     },
     "execution_count": 4,
     "metadata": {},
     "output_type": "execute_result"
    }
   ],
   "source": [
    "node = SingleLinkedListNode()\n",
    "node"
   ]
  },
  {
   "cell_type": "code",
   "execution_count": 5,
   "id": "c5560ff6",
   "metadata": {},
   "outputs": [
    {
     "data": {
      "text/plain": [
       "<__main__.SingleLinkedListNode at 0x7fbfe6364250>"
      ]
     },
     "execution_count": 5,
     "metadata": {},
     "output_type": "execute_result"
    }
   ],
   "source": [
    "node.Visit()\n",
    "node"
   ]
  },
  {
   "cell_type": "code",
   "execution_count": 6,
   "id": "a59f75e8",
   "metadata": {},
   "outputs": [
    {
     "data": {
      "text/plain": [
       "<__main__.SingleLinkedListNode at 0x7fbfe636cdc0>"
      ]
     },
     "execution_count": 6,
     "metadata": {},
     "output_type": "execute_result"
    }
   ],
   "source": [
    "node = SingleLinkedListNode(5, None)\n",
    "node"
   ]
  },
  {
   "cell_type": "code",
   "execution_count": 7,
   "id": "91785130",
   "metadata": {},
   "outputs": [
    {
     "data": {
      "text/plain": [
       "<__main__.SingleLinkedListNode at 0x7fbfe636cbe0>"
      ]
     },
     "execution_count": 7,
     "metadata": {},
     "output_type": "execute_result"
    }
   ],
   "source": [
    "node = SingleLinkedListNode(5, SingleLinkedListNode(6, None))\n",
    "node"
   ]
  },
  {
   "cell_type": "markdown",
   "id": "6dd3e99f",
   "metadata": {},
   "source": [
    "#### <span style=\"font-weight:bold;font-size:1.9em;color:#0e92ea\">2. Double LinkedList Node</span>"
   ]
  },
  {
   "cell_type": "code",
   "execution_count": 8,
   "id": "c8032b77",
   "metadata": {},
   "outputs": [],
   "source": [
    "class DoubleLinkedListNode(Node):\n",
    "    def __init__(self, value = 0, previousNode = None, nextNode = None):\n",
    "            super().__init__(value, nextNode)\n",
    "            self.Previous = previousNode\n",
    "            \n",
    "    def __str__(self):\n",
    "        return json.dumps({\n",
    "            \"Node\"    : self.Value,\n",
    "            \"Previous\": self.GetNodeValue(self.Previous),\n",
    "            \"Next\"    : self.GetNodeValue(self.Next),\n",
    "            \"Visited\" : self.IsVisited() \n",
    "        })\n",
    "    \n",
    "    def Process(self):\n",
    "        self.Visit()"
   ]
  },
  {
   "cell_type": "code",
   "execution_count": 9,
   "id": "55055303",
   "metadata": {},
   "outputs": [
    {
     "data": {
      "text/plain": [
       "<__main__.DoubleLinkedListNode at 0x7fbfe62b3370>"
      ]
     },
     "execution_count": 9,
     "metadata": {},
     "output_type": "execute_result"
    }
   ],
   "source": [
    "node = DoubleLinkedListNode(5, None, None)\n",
    "node"
   ]
  },
  {
   "cell_type": "code",
   "execution_count": 10,
   "id": "6c342c56",
   "metadata": {},
   "outputs": [
    {
     "data": {
      "text/plain": [
       "<__main__.DoubleLinkedListNode at 0x7fbfe629d280>"
      ]
     },
     "execution_count": 10,
     "metadata": {},
     "output_type": "execute_result"
    }
   ],
   "source": [
    "node = DoubleLinkedListNode(5, DoubleLinkedListNode(4), None)\n",
    "node"
   ]
  },
  {
   "cell_type": "code",
   "execution_count": 11,
   "id": "1fd49658",
   "metadata": {},
   "outputs": [
    {
     "data": {
      "text/plain": [
       "<__main__.DoubleLinkedListNode at 0x7fbfe631b280>"
      ]
     },
     "execution_count": 11,
     "metadata": {},
     "output_type": "execute_result"
    }
   ],
   "source": [
    "node = DoubleLinkedListNode(5, DoubleLinkedListNode(4), DoubleLinkedListNode(6))\n",
    "node"
   ]
  },
  {
   "cell_type": "code",
   "execution_count": 12,
   "id": "ae6383e6",
   "metadata": {},
   "outputs": [
    {
     "data": {
      "text/plain": [
       "<__main__.DoubleLinkedListNode at 0x7fbfe631b280>"
      ]
     },
     "execution_count": 12,
     "metadata": {},
     "output_type": "execute_result"
    }
   ],
   "source": [
    "node.Visit()\n",
    "node"
   ]
  },
  {
   "cell_type": "markdown",
   "id": "4d50a9f0",
   "metadata": {},
   "source": [
    "#### <span style=\"font-weight:bold;font-size:1.9em;color:#0e92ea\">3. Single LinkedList</span>"
   ]
  },
  {
   "cell_type": "code",
   "execution_count": 13,
   "id": "75501a5c",
   "metadata": {},
   "outputs": [
    {
     "ename": "SyntaxError",
     "evalue": "invalid syntax (3635958149.py, line 16)",
     "output_type": "error",
     "traceback": [
      "\u001b[0;36m  File \u001b[0;32m\"/var/folders/my/dk1czlp12lv2qk5g5z05hww00000gn/T/ipykernel_28571/3635958149.py\"\u001b[0;36m, line \u001b[0;32m16\u001b[0m\n\u001b[0;31m    def __str__\u001b[0m\n\u001b[0m               ^\u001b[0m\n\u001b[0;31mSyntaxError\u001b[0m\u001b[0;31m:\u001b[0m invalid syntax\n"
     ]
    }
   ],
   "source": [
    "@dataclass\n",
    "class SingleLinkedList:\n",
    "    Head : SingleLinkedListNode\n",
    "    \n",
    "    def Insert(self, newValue):\n",
    "        if Head is None:\n",
    "            Head = SingleLinkedListNode(newValue)\n",
    "        else:\n",
    "            temp = Head.copy()\n",
    "            \n",
    "            while temp.Next is not None:\n",
    "                temp = temp.Next\n",
    "            \n",
    "            tempNode.Next = LinkedListNode(newValue)\n",
    "    \n",
    "    def __str__"
   ]
  },
  {
   "cell_type": "code",
   "execution_count": null,
   "id": "76ba417a",
   "metadata": {},
   "outputs": [],
   "source": []
  }
 ],
 "metadata": {
  "kernelspec": {
   "display_name": "Python 3 (ipykernel)",
   "language": "python",
   "name": "python3"
  },
  "language_info": {
   "codemirror_mode": {
    "name": "ipython",
    "version": 3
   },
   "file_extension": ".py",
   "mimetype": "text/x-python",
   "name": "python",
   "nbconvert_exporter": "python",
   "pygments_lexer": "ipython3",
   "version": "3.9.7"
  }
 },
 "nbformat": 4,
 "nbformat_minor": 5
}

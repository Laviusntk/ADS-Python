{
 "cells": [
  {
   "cell_type": "markdown",
   "id": "0e6d0359",
   "metadata": {},
   "source": [
    "## <span style=\"font-weight:bold;font-size:1.9em;color:#0e92ea\">LinkedLists</span>\n",
    "\n",
    "#### <span style=\"font-weight:bold;font-size:1.9em;color:#0e92ea\">Content</span>\n",
    "\n",
    "<ol style=\"color:#0e92ea\">\n",
    "    <li>Node Class</li>\n",
    "    <li>SingleLinkedListNode Class</li>\n",
    "    <li>DoubleLinkedListNode Class</li>\n",
    "    <li>\n",
    "        LinkedList Abstract Base Class\n",
    "        <ol>\n",
    "            <li>Insert()</li>\n",
    "            <li>Remove()</li>\n",
    "            <li>Find()</li>\n",
    "        </ol>\n",
    "    </li>\n",
    "    <li>SingleLinkedList Class\n",
    "        <ol>\n",
    "            <li>Insert()</li>\n",
    "            <li>Remove()</li>\n",
    "            <li>Find()</li>\n",
    "        </ol>    \n",
    "    </li>\n",
    "    <li>DoubleLinkedList Class\n",
    "        <ol>\n",
    "            <li>Insert()</li>\n",
    "            <li>Remove()</li>\n",
    "            <li>Find()</li>\n",
    "        </ol>    \n",
    "    </li>\n",
    "    <li>Qeues Class\n",
    "        <ol>\n",
    "            <li>Enqueue()</li>\n",
    "            <li>Dequeque()</li>\n",
    "            <li>Peek()</li>\n",
    "            <li>IsEmpt()</li>\n",
    "            <li>Size()</li>\n",
    "        </ol>    \n",
    "    </li>\n",
    "    <li>Stack Class\n",
    "        <ol>\n",
    "            <li>Push()</li>\n",
    "            <li>Pop()</li>\n",
    "            <li>Peek()</li>\n",
    "            <li>IsEmpt()</li>\n",
    "            <li>Size()</li>\n",
    "        </ol>    \n",
    "    </li>\n",
    "</ol>"
   ]
  },
  {
   "cell_type": "code",
   "execution_count": 1,
   "id": "ce521f24",
   "metadata": {},
   "outputs": [],
   "source": [
    "from abc import ABC\n",
    "from abc import abstractmethod\n",
    "from dataclasses import dataclass\n",
    "import json"
   ]
  },
  {
   "cell_type": "markdown",
   "id": "d5a16aef",
   "metadata": {},
   "source": [
    "#### <span style=\"font-weight:bold;font-size:1.9em;color:#0e92ea\">1. Node Class</span>"
   ]
  },
  {
   "cell_type": "code",
   "execution_count": 2,
   "id": "81ce7650",
   "metadata": {},
   "outputs": [],
   "source": [
    "class Node(ABC):\n",
    "    __Visited = False\n",
    "\n",
    "    def __init__(self, value = 0, nextNode = None):\n",
    "        self.Next = nextNode\n",
    "        self.Value = value\n",
    "\n",
    "    def Visit(self):\n",
    "        self.__Visited = True\n",
    "\n",
    "    def IsVisited(self):\n",
    "        return self.__Visited\n",
    "\n",
    "    def __str__(self):\n",
    "        return json.dumps({\n",
    "            \"Node\"    : self.Value,\n",
    "            \"Next\"    : self.GetNodeValue(self.Next),\n",
    "            \"Visited\" : self.Visit() \n",
    "        })\n",
    "    \n",
    "    def __repr__(self):\n",
    "        return self.__str__()\n",
    "    \n",
    "    def GetNodeValue(self, node):\n",
    "        if node is None:\n",
    "            return str(node)\n",
    "        else:\n",
    "            return node.Value\n",
    "        \n",
    "    @abstractmethod\n",
    "    def Process(self):\n",
    "        pass"
   ]
  },
  {
   "cell_type": "markdown",
   "id": "ecef2cd4",
   "metadata": {},
   "source": [
    "#### <span style=\"font-weight:bold;font-size:1.9em;color:#0e92ea\">2. Single LinkedList Node</span>"
   ]
  },
  {
   "cell_type": "code",
   "execution_count": 21,
   "id": "d0eeb0ff",
   "metadata": {},
   "outputs": [],
   "source": [
    "class SingleLinkedListNode(Node):\n",
    "    \n",
    "    def Process(self):\n",
    "        self.Visit()\n",
    "        \n",
    "    def __str__(self):\n",
    "        return json.dumps({\n",
    "            \"Node\"    : self.Value,\n",
    "            \"Next\"    : self.GetNodeValue(self.Next),\n",
    "            \"Visited\" : self.Visit() \n",
    "        })\n",
    "    \n",
    "    def __eq__(self, node):\n",
    "        if node is None:\n",
    "            return false\n",
    "        \n",
    "        return node.Value == self.Value "
   ]
  },
  {
   "cell_type": "code",
   "execution_count": 22,
   "id": "3a1870ef",
   "metadata": {},
   "outputs": [
    {
     "data": {
      "text/plain": [
       "{\"Node\": 0, \"Next\": \"None\", \"Visited\": null}"
      ]
     },
     "execution_count": 22,
     "metadata": {},
     "output_type": "execute_result"
    }
   ],
   "source": [
    "node = SingleLinkedListNode()\n",
    "node"
   ]
  },
  {
   "cell_type": "code",
   "execution_count": 23,
   "id": "ed14a67c",
   "metadata": {},
   "outputs": [
    {
     "data": {
      "text/plain": [
       "{\"Node\": 0, \"Next\": \"None\", \"Visited\": null}"
      ]
     },
     "execution_count": 23,
     "metadata": {},
     "output_type": "execute_result"
    }
   ],
   "source": [
    "node.Visit()\n",
    "node"
   ]
  },
  {
   "cell_type": "code",
   "execution_count": 24,
   "id": "99777cd4",
   "metadata": {},
   "outputs": [
    {
     "data": {
      "text/plain": [
       "{\"Node\": 5, \"Next\": \"None\", \"Visited\": null}"
      ]
     },
     "execution_count": 24,
     "metadata": {},
     "output_type": "execute_result"
    }
   ],
   "source": [
    "node = SingleLinkedListNode(5, None)\n",
    "node"
   ]
  },
  {
   "cell_type": "code",
   "execution_count": 25,
   "id": "2e1ed6e8",
   "metadata": {},
   "outputs": [
    {
     "data": {
      "text/plain": [
       "{\"Node\": 5, \"Next\": 6, \"Visited\": null}"
      ]
     },
     "execution_count": 25,
     "metadata": {},
     "output_type": "execute_result"
    }
   ],
   "source": [
    "node = SingleLinkedListNode(5, SingleLinkedListNode(6, None))\n",
    "node"
   ]
  },
  {
   "cell_type": "code",
   "execution_count": 26,
   "id": "0a9eee7f",
   "metadata": {},
   "outputs": [
    {
     "data": {
      "text/plain": [
       "False"
      ]
     },
     "execution_count": 26,
     "metadata": {},
     "output_type": "execute_result"
    }
   ],
   "source": [
    "node1 = SingleLinkedListNode(5)\n",
    "node2 = SingleLinkedListNode(6)\n",
    "node1 == node2"
   ]
  },
  {
   "cell_type": "code",
   "execution_count": 27,
   "id": "a759bf3d",
   "metadata": {},
   "outputs": [
    {
     "data": {
      "text/plain": [
       "True"
      ]
     },
     "execution_count": 27,
     "metadata": {},
     "output_type": "execute_result"
    }
   ],
   "source": [
    "node1 = SingleLinkedListNode(5)\n",
    "node2 = SingleLinkedListNode(5)\n",
    "node1 == node2"
   ]
  },
  {
   "cell_type": "markdown",
   "id": "fbe08b13",
   "metadata": {},
   "source": [
    "#### <span style=\"font-weight:bold;font-size:1.9em;color:#0e92ea\">2. Double LinkedList Node</span>"
   ]
  },
  {
   "cell_type": "code",
   "execution_count": 28,
   "id": "06bf24b6",
   "metadata": {},
   "outputs": [],
   "source": [
    "class DoubleLinkedListNode(Node):\n",
    "    def __init__(self, value = 0, previousNode = None, nextNode = None):\n",
    "            super().__init__(value, nextNode)\n",
    "            self.Previous = previousNode\n",
    "            \n",
    "    def __str__(self):\n",
    "        return json.dumps({\n",
    "            \"Node\"    : self.Value,\n",
    "            \"Previous\": self.GetNodeValue(self.Previous),\n",
    "            \"Next\"    : self.GetNodeValue(self.Next),\n",
    "            \"Visited\" : self.IsVisited() \n",
    "        })\n",
    "    \n",
    "    def Process(self):\n",
    "        self.Visit()"
   ]
  },
  {
   "cell_type": "code",
   "execution_count": 29,
   "id": "1f18d99d",
   "metadata": {},
   "outputs": [
    {
     "data": {
      "text/plain": [
       "{\"Node\": 5, \"Previous\": \"None\", \"Next\": \"None\", \"Visited\": false}"
      ]
     },
     "execution_count": 29,
     "metadata": {},
     "output_type": "execute_result"
    }
   ],
   "source": [
    "node = DoubleLinkedListNode(5, None, None)\n",
    "node"
   ]
  },
  {
   "cell_type": "code",
   "execution_count": 30,
   "id": "0ec55f19",
   "metadata": {},
   "outputs": [
    {
     "data": {
      "text/plain": [
       "{\"Node\": 5, \"Previous\": 4, \"Next\": \"None\", \"Visited\": false}"
      ]
     },
     "execution_count": 30,
     "metadata": {},
     "output_type": "execute_result"
    }
   ],
   "source": [
    "node = DoubleLinkedListNode(5, DoubleLinkedListNode(4), None)\n",
    "node"
   ]
  },
  {
   "cell_type": "code",
   "execution_count": 31,
   "id": "8d9cb37b",
   "metadata": {},
   "outputs": [
    {
     "data": {
      "text/plain": [
       "{\"Node\": 5, \"Previous\": 4, \"Next\": 6, \"Visited\": false}"
      ]
     },
     "execution_count": 31,
     "metadata": {},
     "output_type": "execute_result"
    }
   ],
   "source": [
    "node = DoubleLinkedListNode(5, DoubleLinkedListNode(4), DoubleLinkedListNode(6))\n",
    "node"
   ]
  },
  {
   "cell_type": "code",
   "execution_count": 32,
   "id": "fde31f5c",
   "metadata": {},
   "outputs": [
    {
     "data": {
      "text/plain": [
       "{\"Node\": 5, \"Previous\": 4, \"Next\": 6, \"Visited\": true}"
      ]
     },
     "execution_count": 32,
     "metadata": {},
     "output_type": "execute_result"
    }
   ],
   "source": [
    "node.Visit()\n",
    "node"
   ]
  },
  {
   "cell_type": "markdown",
   "id": "f95ffade",
   "metadata": {},
   "source": [
    "#### <span style=\"font-weight:bold;font-size:1.9em;color:#0e92ea\">3. Single LinkedList</span>"
   ]
  },
  {
   "cell_type": "code",
   "execution_count": 47,
   "id": "1ed82590",
   "metadata": {},
   "outputs": [],
   "source": [
    "class SingleLinkedList:\n",
    "    \n",
    "    def __init__(self):\n",
    "        self.Head = None\n",
    "        self.Count = 0\n",
    "        \n",
    "    def Insert(self, newValue):\n",
    "        if self.Head is None:\n",
    "            self.Head = SingleLinkedListNode(newValue)\n",
    "        else:\n",
    "            temp = self.Head\n",
    "            while temp.Next is not None:\n",
    "                temp = temp.Next\n",
    "            temp.Next = SingleLinkedListNode(newValue)\n",
    "            \n",
    "    def Remove(self, value):\n",
    "        if self.Head is None:\n",
    "            return self\n",
    "        elif self.Head.Value == value:\n",
    "            self.Head = self.Head.Next\n",
    "            return self\n",
    "            \n",
    "        currentNode = self.Head\n",
    "        while currentNode.Next is not None:\n",
    "            if currentNode.Next.Value == value:\n",
    "                currentNode.Next = currentNode.Next.Next\n",
    "                return self\n",
    "            currentNode = currentNode.Next\n",
    "        return self\n",
    "        \n",
    "    def __str__(self):\n",
    "        temp = self.Head\n",
    "        results = \"\"\n",
    "        while temp is not None:\n",
    "            results += f\"{temp.Value} => \"\n",
    "            temp = temp.Next\n",
    "        results += \"null\"\n",
    "        \n",
    "        return results\n",
    "        \n",
    "    def __repr__(self):\n",
    "        return self.__str__()"
   ]
  },
  {
   "cell_type": "code",
   "execution_count": 48,
   "id": "684767f7",
   "metadata": {},
   "outputs": [
    {
     "data": {
      "text/plain": [
       "1 => 2 => 3 => null"
      ]
     },
     "execution_count": 48,
     "metadata": {},
     "output_type": "execute_result"
    }
   ],
   "source": [
    "linkedList = SingleLinkedList()\n",
    "linkedList.Insert(1)\n",
    "linkedList.Insert(2)\n",
    "linkedList.Insert(3)\n",
    "linkedList"
   ]
  },
  {
   "cell_type": "code",
   "execution_count": 49,
   "id": "540aadd2",
   "metadata": {},
   "outputs": [
    {
     "data": {
      "text/plain": [
       "1 => 3 => null"
      ]
     },
     "execution_count": 49,
     "metadata": {},
     "output_type": "execute_result"
    }
   ],
   "source": [
    "linkedList.Remove(2)"
   ]
  },
  {
   "cell_type": "code",
   "execution_count": 50,
   "id": "d911a0a5",
   "metadata": {},
   "outputs": [
    {
     "data": {
      "text/plain": [
       "1 => null"
      ]
     },
     "execution_count": 50,
     "metadata": {},
     "output_type": "execute_result"
    }
   ],
   "source": [
    "linkedList = SingleLinkedList()\n",
    "linkedList.Insert(1)\n",
    "linkedList"
   ]
  },
  {
   "cell_type": "code",
   "execution_count": 51,
   "id": "5b13bfd6",
   "metadata": {},
   "outputs": [
    {
     "data": {
      "text/plain": [
       "1 => null"
      ]
     },
     "execution_count": 51,
     "metadata": {},
     "output_type": "execute_result"
    }
   ],
   "source": [
    "linkedList.Remove(2)"
   ]
  },
  {
   "cell_type": "code",
   "execution_count": 52,
   "id": "e4786c54",
   "metadata": {},
   "outputs": [
    {
     "data": {
      "text/plain": [
       "null"
      ]
     },
     "execution_count": 52,
     "metadata": {},
     "output_type": "execute_result"
    }
   ],
   "source": [
    "linkedList.Remove(1)"
   ]
  },
  {
   "cell_type": "code",
   "execution_count": 53,
   "id": "403c37b3",
   "metadata": {},
   "outputs": [
    {
     "data": {
      "text/plain": [
       "1 => 2 => null"
      ]
     },
     "execution_count": 53,
     "metadata": {},
     "output_type": "execute_result"
    }
   ],
   "source": [
    "linkedList = SingleLinkedList()\n",
    "linkedList.Insert(1)\n",
    "linkedList.Insert(2)\n",
    "linkedList.Insert(3)\n",
    "linkedList\n",
    "linkedList.Remove(3)"
   ]
  },
  {
   "cell_type": "code",
   "execution_count": 54,
   "id": "bbf864c3",
   "metadata": {},
   "outputs": [
    {
     "data": {
      "text/plain": [
       "1 => 2 => null"
      ]
     },
     "execution_count": 54,
     "metadata": {},
     "output_type": "execute_result"
    }
   ],
   "source": [
    "linkedList.Remove(3)"
   ]
  },
  {
   "cell_type": "code",
   "execution_count": 55,
   "id": "8d4916b4",
   "metadata": {},
   "outputs": [
    {
     "data": {
      "text/plain": [
       "2 => null"
      ]
     },
     "execution_count": 55,
     "metadata": {},
     "output_type": "execute_result"
    }
   ],
   "source": [
    "linkedList.Remove(1)"
   ]
  },
  {
   "cell_type": "code",
   "execution_count": null,
   "id": "807b5aee",
   "metadata": {},
   "outputs": [],
   "source": []
  }
 ],
 "metadata": {
  "kernelspec": {
   "display_name": "Python 3 (ipykernel)",
   "language": "python",
   "name": "python3"
  },
  "language_info": {
   "codemirror_mode": {
    "name": "ipython",
    "version": 3
   },
   "file_extension": ".py",
   "mimetype": "text/x-python",
   "name": "python",
   "nbconvert_exporter": "python",
   "pygments_lexer": "ipython3",
   "version": "3.9.7"
  }
 },
 "nbformat": 4,
 "nbformat_minor": 5
}

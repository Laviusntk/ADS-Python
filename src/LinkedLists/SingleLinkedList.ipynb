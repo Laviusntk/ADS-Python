{
 "cells": [
  {
   "cell_type": "markdown",
   "id": "0e6d0359",
   "metadata": {},
   "source": [
    "## <span style=\"font-weight:bold;font-size:1.9em;color:#0e92ea\">LinkedLists</span>\n",
    "\n",
    "#### <span style=\"font-weight:bold;font-size:1.9em;color:#0e92ea\">Content</span>\n",
    "\n",
    "<ol style=\"color:#0e92ea\">\n",
    "    <li>Node Class</li>\n",
    "    <li>SingleLinkedListNode Class</li>\n",
    "    <li>DoubleLinkedListNode Class</li>\n",
    "    <li>\n",
    "        LinkedList Abstract Base Class\n",
    "        <ol>\n",
    "            <li>Insert()</li>\n",
    "            <li>Remove()</li>\n",
    "            <li>Find()</li>\n",
    "        </ol>\n",
    "    </li>\n",
    "    <li>SingleLinkedList Class\n",
    "        <ol>\n",
    "            <li>Insert()</li>\n",
    "            <li>Remove()</li>\n",
    "            <li>Find()</li>\n",
    "        </ol>    \n",
    "    </li>\n",
    "    <li>DoubleLinkedList Class\n",
    "        <ol>\n",
    "            <li>Insert()</li>\n",
    "            <li>Remove()</li>\n",
    "            <li>Find()</li>\n",
    "        </ol>    \n",
    "    </li>\n",
    "    <li>Qeues Class\n",
    "        <ol>\n",
    "            <li>Enqueue()</li>\n",
    "            <li>Dequeque()</li>\n",
    "            <li>Peek()</li>\n",
    "            <li>IsEmpt()</li>\n",
    "            <li>Size()</li>\n",
    "        </ol>    \n",
    "    </li>\n",
    "    <li>Stack Class\n",
    "        <ol>\n",
    "            <li>Push()</li>\n",
    "            <li>Pop()</li>\n",
    "            <li>Peek()</li>\n",
    "            <li>IsEmpt()</li>\n",
    "            <li>Size()</li>\n",
    "        </ol>    \n",
    "    </li>\n",
    "</ol>"
   ]
  },
  {
   "cell_type": "code",
   "execution_count": 1,
   "id": "ce521f24",
   "metadata": {},
   "outputs": [],
   "source": [
    "from abc import ABC\n",
    "from abc import abstractmethod\n",
    "from dataclasses import dataclass\n",
    "import json"
   ]
  },
  {
   "cell_type": "markdown",
   "id": "69f1daec",
   "metadata": {},
   "source": [
    "#### <span style=\"font-weight:bold;font-size:1.9em;color:#0e92ea\">1. Node Class</span>"
   ]
  },
  {
   "cell_type": "code",
   "execution_count": 2,
   "id": "cd4fab2f",
   "metadata": {},
   "outputs": [],
   "source": [
    "class Node(ABC):\n",
    "    __Visited = False\n",
    "\n",
    "    def __init__(self, value = 0, nextNode = None):\n",
    "        self.Next = nextNode\n",
    "        self.Value = value\n",
    "\n",
    "    def Visit(self):\n",
    "        self.__Visited = True\n",
    "\n",
    "    def IsVisited(self):\n",
    "        return self.__Visited\n",
    "\n",
    "    def __str__(self):\n",
    "        return json.dumps({\n",
    "            \"Node\"    : self.Value,\n",
    "            \"Next\"    : self.GetNodeValue(self.Next),\n",
    "            \"Visited\" : self.Visit() \n",
    "        })\n",
    "    \n",
    "    def __repr__(self):\n",
    "        return self.__str__()\n",
    "    \n",
    "    def __eq__(self, node):\n",
    "        if node is None:\n",
    "            return False\n",
    "        \n",
    "        return node.Value == self.Value \n",
    "\n",
    "    def __gt__(self, node):\n",
    "        if node is None:\n",
    "            return false\n",
    "        \n",
    "        return self.Value > node.Value \n",
    "    \n",
    "    def GetNodeValue(self, node):\n",
    "        if node is None:\n",
    "            return str(node)\n",
    "        else:\n",
    "            return node.Value\n",
    "        \n",
    "    @abstractmethod\n",
    "    def Process(self):\n",
    "        pass"
   ]
  },
  {
   "cell_type": "markdown",
   "id": "273fc76f",
   "metadata": {},
   "source": [
    "#### <span style=\"font-weight:bold;font-size:1.9em;color:#0e92ea\">2. Single LinkedList Node</span>"
   ]
  },
  {
   "cell_type": "code",
   "execution_count": 3,
   "id": "ae11dedb",
   "metadata": {},
   "outputs": [],
   "source": [
    "class SingleLinkedListNode(Node):\n",
    "    \n",
    "    def Process(self):\n",
    "        self.Visit()\n",
    "        \n",
    "    def __str__(self):\n",
    "        return json.dumps({\n",
    "            \"Node\"    : self.Value,\n",
    "            \"Next\"    : self.GetNodeValue(self.Next),\n",
    "            \"Visited\" : self.IsVisited() \n",
    "        })"
   ]
  },
  {
   "cell_type": "code",
   "execution_count": 4,
   "id": "752ef527",
   "metadata": {},
   "outputs": [
    {
     "data": {
      "text/plain": [
       "{\"Node\": 0, \"Next\": \"None\", \"Visited\": false}"
      ]
     },
     "execution_count": 4,
     "metadata": {},
     "output_type": "execute_result"
    }
   ],
   "source": [
    "node = SingleLinkedListNode()\n",
    "node"
   ]
  },
  {
   "cell_type": "code",
   "execution_count": 5,
   "id": "41fc7381",
   "metadata": {},
   "outputs": [
    {
     "data": {
      "text/plain": [
       "{\"Node\": 0, \"Next\": \"None\", \"Visited\": true}"
      ]
     },
     "execution_count": 5,
     "metadata": {},
     "output_type": "execute_result"
    }
   ],
   "source": [
    "node.Visit()\n",
    "node"
   ]
  },
  {
   "cell_type": "code",
   "execution_count": 6,
   "id": "a559a309",
   "metadata": {},
   "outputs": [
    {
     "data": {
      "text/plain": [
       "{\"Node\": 5, \"Next\": \"None\", \"Visited\": false}"
      ]
     },
     "execution_count": 6,
     "metadata": {},
     "output_type": "execute_result"
    }
   ],
   "source": [
    "node = SingleLinkedListNode(5, None)\n",
    "node"
   ]
  },
  {
   "cell_type": "code",
   "execution_count": 7,
   "id": "9f03b1be",
   "metadata": {},
   "outputs": [
    {
     "data": {
      "text/plain": [
       "{\"Node\": 5, \"Next\": 6, \"Visited\": false}"
      ]
     },
     "execution_count": 7,
     "metadata": {},
     "output_type": "execute_result"
    }
   ],
   "source": [
    "node = SingleLinkedListNode(5, SingleLinkedListNode(6, None))\n",
    "node"
   ]
  },
  {
   "cell_type": "code",
   "execution_count": 8,
   "id": "b686b989",
   "metadata": {},
   "outputs": [
    {
     "data": {
      "text/plain": [
       "False"
      ]
     },
     "execution_count": 8,
     "metadata": {},
     "output_type": "execute_result"
    }
   ],
   "source": [
    "node1 = SingleLinkedListNode(5)\n",
    "node2 = SingleLinkedListNode(6)\n",
    "node1 == node2"
   ]
  },
  {
   "cell_type": "code",
   "execution_count": 9,
   "id": "337ef6de",
   "metadata": {},
   "outputs": [
    {
     "data": {
      "text/plain": [
       "True"
      ]
     },
     "execution_count": 9,
     "metadata": {},
     "output_type": "execute_result"
    }
   ],
   "source": [
    "node1 = SingleLinkedListNode(5)\n",
    "node2 = SingleLinkedListNode(5)\n",
    "node1 == node2"
   ]
  },
  {
   "cell_type": "markdown",
   "id": "caca50ea",
   "metadata": {},
   "source": [
    "#### <span style=\"font-weight:bold;font-size:1.9em;color:#0e92ea\">2. Double LinkedList Node</span>"
   ]
  },
  {
   "cell_type": "code",
   "execution_count": 10,
   "id": "8f6d79d4",
   "metadata": {},
   "outputs": [],
   "source": [
    "class DoubleLinkedListNode(Node):\n",
    "    def __init__(self, value = 0, previousNode = None, nextNode = None):\n",
    "            super().__init__(value, nextNode)\n",
    "            self.Previous = previousNode\n",
    "            \n",
    "    def __str__(self):\n",
    "        return json.dumps({\n",
    "            \"Node\"    : self.Value,\n",
    "            \"Previous\": self.GetNodeValue(self.Previous),\n",
    "            \"Next\"    : self.GetNodeValue(self.Next),\n",
    "            \"Visited\" : self.IsVisited() \n",
    "        })\n",
    "    \n",
    "    def Process(self):\n",
    "        self.Visit()"
   ]
  },
  {
   "cell_type": "code",
   "execution_count": 11,
   "id": "ced45945",
   "metadata": {},
   "outputs": [
    {
     "data": {
      "text/plain": [
       "{\"Node\": 5, \"Previous\": \"None\", \"Next\": \"None\", \"Visited\": false}"
      ]
     },
     "execution_count": 11,
     "metadata": {},
     "output_type": "execute_result"
    }
   ],
   "source": [
    "node = DoubleLinkedListNode(5, None, None)\n",
    "node"
   ]
  },
  {
   "cell_type": "code",
   "execution_count": 12,
   "id": "a58bd964",
   "metadata": {},
   "outputs": [
    {
     "data": {
      "text/plain": [
       "{\"Node\": 5, \"Previous\": 4, \"Next\": \"None\", \"Visited\": false}"
      ]
     },
     "execution_count": 12,
     "metadata": {},
     "output_type": "execute_result"
    }
   ],
   "source": [
    "node = DoubleLinkedListNode(5, DoubleLinkedListNode(4), None)\n",
    "node"
   ]
  },
  {
   "cell_type": "code",
   "execution_count": 13,
   "id": "9286049a",
   "metadata": {},
   "outputs": [
    {
     "data": {
      "text/plain": [
       "{\"Node\": 5, \"Previous\": 4, \"Next\": 6, \"Visited\": false}"
      ]
     },
     "execution_count": 13,
     "metadata": {},
     "output_type": "execute_result"
    }
   ],
   "source": [
    "node = DoubleLinkedListNode(5, DoubleLinkedListNode(4), DoubleLinkedListNode(6))\n",
    "node"
   ]
  },
  {
   "cell_type": "code",
   "execution_count": 14,
   "id": "e0420ee4",
   "metadata": {},
   "outputs": [
    {
     "data": {
      "text/plain": [
       "{\"Node\": 5, \"Previous\": 4, \"Next\": 6, \"Visited\": true}"
      ]
     },
     "execution_count": 14,
     "metadata": {},
     "output_type": "execute_result"
    }
   ],
   "source": [
    "node.Visit()\n",
    "node"
   ]
  },
  {
   "cell_type": "markdown",
   "id": "a7e656e1",
   "metadata": {},
   "source": [
    "#### <span style=\"font-weight:bold;font-size:1.9em;color:#0e92ea\">4. LinkedList abstract Base Class</span>"
   ]
  },
  {
   "cell_type": "code",
   "execution_count": 15,
   "id": "d6b13703",
   "metadata": {},
   "outputs": [],
   "source": [
    "class LinkedList(ABC):\n",
    "    def __init__(self):\n",
    "        self.Head = None\n",
    "        self.Count = 0\n",
    "        \n",
    "    @abstractmethod\n",
    "    def Insert(self, newNodeValue):\n",
    "        pass\n",
    "    \n",
    "    @abstractmethod\n",
    "    def Remove(self, newNodeValue):\n",
    "        pass\n",
    "    \n",
    "    @abstractmethod\n",
    "    def Find(self, newNodeValue):\n",
    "        pass\n",
    "    \n",
    "    def __str__(self):\n",
    "        temp = self.Head\n",
    "        results = \"\"\n",
    "        while temp is not None:\n",
    "            results += f\"{temp.Value} => \"\n",
    "            temp = temp.Next\n",
    "        results += \"null\"\n",
    "        return results\n",
    "        \n",
    "    def __repr__(self):\n",
    "        return self.__str__()"
   ]
  },
  {
   "cell_type": "markdown",
   "id": "4674b14c",
   "metadata": {},
   "source": [
    "#### <span style=\"font-weight:bold;font-size:1.9em;color:#0e92ea\">5. Single LinkedList</span>"
   ]
  },
  {
   "cell_type": "code",
   "execution_count": 16,
   "id": "50d2d016",
   "metadata": {},
   "outputs": [],
   "source": [
    "class SingleLinkedList(LinkedList):    \n",
    "    def Insert(self, newValue):\n",
    "        if self.Head is None:\n",
    "            self.Head = SingleLinkedListNode(newValue)\n",
    "        else:\n",
    "            temp = self.Head\n",
    "            while temp.Next is not None:\n",
    "                temp = temp.Next\n",
    "            temp.Next = SingleLinkedListNode(newValue)\n",
    "            self.Count += 1\n",
    "            \n",
    "    def Remove(self, value):\n",
    "        if self.Head is None:\n",
    "            return self\n",
    "        elif self.Head.Value == value:\n",
    "            self.Head = self.Head.Next\n",
    "            return self\n",
    "            \n",
    "        currentNode = self.Head\n",
    "        while currentNode.Next is not None:\n",
    "            if currentNode.Next.Value == value:\n",
    "                currentNode.Next = currentNode.Next.Next\n",
    "                return self\n",
    "            currentNode = currentNode.Next\n",
    "        return self\n",
    "    \n",
    "    def Find(self, value):\n",
    "        currentNode = self.Head\n",
    "        while currentNode is not None:\n",
    "            if currentNode.Value == value:\n",
    "                return currentNode\n",
    "            currentNode = currentNode.Next\n",
    "        return None"
   ]
  },
  {
   "cell_type": "code",
   "execution_count": 17,
   "id": "7305220e",
   "metadata": {},
   "outputs": [
    {
     "data": {
      "text/plain": [
       "1 => 2 => 3 => null"
      ]
     },
     "execution_count": 17,
     "metadata": {},
     "output_type": "execute_result"
    }
   ],
   "source": [
    "linkedList = SingleLinkedList()\n",
    "linkedList.Insert(1)\n",
    "linkedList.Insert(2)\n",
    "linkedList.Insert(3)\n",
    "linkedList"
   ]
  },
  {
   "cell_type": "code",
   "execution_count": 18,
   "id": "980f1327",
   "metadata": {},
   "outputs": [
    {
     "data": {
      "text/plain": [
       "{\"Node\": 2, \"Next\": 3, \"Visited\": false}"
      ]
     },
     "execution_count": 18,
     "metadata": {},
     "output_type": "execute_result"
    }
   ],
   "source": [
    "linkedList.Find(2)"
   ]
  },
  {
   "cell_type": "code",
   "execution_count": 19,
   "id": "8f7d8a3b",
   "metadata": {},
   "outputs": [
    {
     "data": {
      "text/plain": [
       "1 => 3 => null"
      ]
     },
     "execution_count": 19,
     "metadata": {},
     "output_type": "execute_result"
    }
   ],
   "source": [
    "linkedList.Remove(2)"
   ]
  },
  {
   "cell_type": "code",
   "execution_count": 20,
   "id": "d4673ec9",
   "metadata": {},
   "outputs": [
    {
     "data": {
      "text/plain": [
       "1 => null"
      ]
     },
     "execution_count": 20,
     "metadata": {},
     "output_type": "execute_result"
    }
   ],
   "source": [
    "linkedList = SingleLinkedList()\n",
    "linkedList.Insert(1)\n",
    "linkedList"
   ]
  },
  {
   "cell_type": "code",
   "execution_count": 21,
   "id": "71f633b1",
   "metadata": {},
   "outputs": [
    {
     "data": {
      "text/plain": [
       "1 => null"
      ]
     },
     "execution_count": 21,
     "metadata": {},
     "output_type": "execute_result"
    }
   ],
   "source": [
    "linkedList.Remove(2)"
   ]
  },
  {
   "cell_type": "code",
   "execution_count": 22,
   "id": "19d120b2",
   "metadata": {},
   "outputs": [
    {
     "data": {
      "text/plain": [
       "null"
      ]
     },
     "execution_count": 22,
     "metadata": {},
     "output_type": "execute_result"
    }
   ],
   "source": [
    "linkedList.Remove(1)"
   ]
  },
  {
   "cell_type": "code",
   "execution_count": 23,
   "id": "72ee039c",
   "metadata": {},
   "outputs": [
    {
     "data": {
      "text/plain": [
       "1 => 2 => null"
      ]
     },
     "execution_count": 23,
     "metadata": {},
     "output_type": "execute_result"
    }
   ],
   "source": [
    "linkedList = SingleLinkedList()\n",
    "linkedList.Insert(1)\n",
    "linkedList.Insert(2)\n",
    "linkedList.Insert(3)\n",
    "linkedList\n",
    "linkedList.Remove(3)"
   ]
  },
  {
   "cell_type": "code",
   "execution_count": 24,
   "id": "bd86e240",
   "metadata": {},
   "outputs": [
    {
     "data": {
      "text/plain": [
       "1 => 2 => null"
      ]
     },
     "execution_count": 24,
     "metadata": {},
     "output_type": "execute_result"
    }
   ],
   "source": [
    "linkedList.Remove(3)"
   ]
  },
  {
   "cell_type": "code",
   "execution_count": 25,
   "id": "583cd3d0",
   "metadata": {},
   "outputs": [
    {
     "data": {
      "text/plain": [
       "2 => null"
      ]
     },
     "execution_count": 25,
     "metadata": {},
     "output_type": "execute_result"
    }
   ],
   "source": [
    "linkedList.Remove(1)"
   ]
  },
  {
   "cell_type": "markdown",
   "id": "117b9f8c",
   "metadata": {},
   "source": [
    "#### <span style=\"font-weight:bold;font-size:1.9em;color:#0e92ea\">4. Double LinkedList</span>"
   ]
  },
  {
   "cell_type": "code",
   "execution_count": 32,
   "id": "dd56c0db",
   "metadata": {},
   "outputs": [],
   "source": [
    "class DoubleLinkedList(LinkedList):\n",
    "    def Insert(self, newNodeValue):\n",
    "        if self.Head == None:\n",
    "            self.Head = DoubleLinkedListNode(newNodeValue)\n",
    "            return self\n",
    "        \n",
    "        currentNode = self.Head\n",
    "        while currentNode.Next is not None and currentNode.Next.Value < newNodeValue :\n",
    "            currentNode = currentNode.Next\n",
    "         \n",
    "        tempNode = currentNode.Next \n",
    "        newNode = DoubleLinkedListNode(value)  \n",
    "        tempNode.Previous = newNode\n",
    "        currentNode.Next = newNode\n",
    "        newNode.Previous = currentNode\n",
    "        return self\n",
    "\n",
    "    def __str__(self):\n",
    "        temp = self.Head\n",
    "        results = \"\"\n",
    "        while temp.Next is not None:\n",
    "            results += f\"{temp.Value} => \"\n",
    "            temp = temp.Next\n",
    "        results += f\"{temp.Value} => null\"\n",
    "        \n",
    "        reverseResults = \"\"\n",
    "        while temp is not None:\n",
    "            reverseResults = f\"{temp.Value} <= {reverseResults}\"\n",
    "            temp = temp.Previous\n",
    "        reverseResults = f\"null <= {reverseResults}\"\n",
    "        return f\"{results}\\n{reverseResults}\"\n",
    "\n",
    "    def Remove(self, value):\n",
    "        pass\n",
    "    \n",
    "    def Find(self, value):\n",
    "        pass"
   ]
  },
  {
   "cell_type": "code",
   "execution_count": 33,
   "id": "1c5b1a51",
   "metadata": {},
   "outputs": [
    {
     "data": {
      "text/plain": [
       "1 => 2 => 8 => null\n",
       "null <= 1 <= 2 <= 8 <= "
      ]
     },
     "execution_count": 33,
     "metadata": {},
     "output_type": "execute_result"
    }
   ],
   "source": [
    "linkedList = DoubleLinkedList()\n",
    "linkedList.Insert(1)\n",
    "linkedList.Insert(2)\n",
    "linkedList.Insert(8)\n",
    "linkedList"
   ]
  },
  {
   "cell_type": "code",
   "execution_count": 34,
   "id": "fc78817a",
   "metadata": {},
   "outputs": [
    {
     "data": {
      "text/plain": [
       "1 => 2 => 8 => 4 => null\n",
       "null <= 1 <= 2 <= 8 <= 4 <= "
      ]
     },
     "execution_count": 34,
     "metadata": {},
     "output_type": "execute_result"
    }
   ],
   "source": [
    "linkedList.Insert(4)\n",
    "linkedList"
   ]
  },
  {
   "cell_type": "code",
   "execution_count": null,
   "id": "2117dc79",
   "metadata": {},
   "outputs": [],
   "source": []
  }
 ],
 "metadata": {
  "kernelspec": {
   "display_name": "Python 3 (ipykernel)",
   "language": "python",
   "name": "python3"
  },
  "language_info": {
   "codemirror_mode": {
    "name": "ipython",
    "version": 3
   },
   "file_extension": ".py",
   "mimetype": "text/x-python",
   "name": "python",
   "nbconvert_exporter": "python",
   "pygments_lexer": "ipython3",
   "version": "3.9.7"
  }
 },
 "nbformat": 4,
 "nbformat_minor": 5
}

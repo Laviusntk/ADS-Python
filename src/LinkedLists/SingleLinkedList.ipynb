{
 "cells": [
  {
   "cell_type": "markdown",
   "id": "0e6d0359",
   "metadata": {},
   "source": [
    "## <span style=\"font-weight:bold;font-size:1.9em;color:#0e92ea\">LinkedLists</span>\n",
    "\n",
    "#### <span style=\"font-weight:bold;font-size:1.9em;color:#0e92ea\">Content</span>\n",
    "\n",
    "<ol style=\"color:#0e92ea\">\n",
    "    <li>Node Class</li>\n",
    "    <li>SingleLinkedListNode Class</li>\n",
    "    <li>DoubleLinkedListNode Class</li>\n",
    "    <li>\n",
    "        LinkedList Abstract Base Class\n",
    "        <ol>\n",
    "            <li>Insert</li>\n",
    "            <li>Remove</li>\n",
    "            <li>Find</li>\n",
    "            <li>Update</li>\n",
    "            <li>Sort</li>\n",
    "        </ol>\n",
    "    </li>\n",
    "    <li>SingleLinkedList Class\n",
    "        <ol>\n",
    "            <li>Insert</li>\n",
    "            <li>Remove</li>\n",
    "            <li>Find</li>\n",
    "            <li>Update</li>\n",
    "            <li>Sort</li>\n",
    "        </ol>    \n",
    "    </li>\n",
    "    <li>DoubleLinkedList Class\n",
    "        <ol>\n",
    "            <li>Insert</li>\n",
    "            <li>Remove</li>\n",
    "            <li>Find</li>\n",
    "            <li>Update</li>\n",
    "            <li>Sort</li>\n",
    "        </ol>    \n",
    "    </li>\n",
    "</ol>"
   ]
  },
  {
   "cell_type": "code",
   "execution_count": 1,
   "id": "ce521f24",
   "metadata": {},
   "outputs": [],
   "source": [
    "from abc import ABC\n",
    "from abc import abstractmethod\n",
    "import json"
   ]
  },
  {
   "cell_type": "markdown",
   "id": "08370dc4",
   "metadata": {},
   "source": [
    "#### <span style=\"font-weight:bold;font-size:1.9em;color:#0e92ea\">1. Node Class</span>"
   ]
  },
  {
   "cell_type": "code",
   "execution_count": 2,
   "id": "a7924781",
   "metadata": {},
   "outputs": [],
   "source": [
    "class Node(ABC):\n",
    "    __Visited = False\n",
    "\n",
    "    def __init__(self, value = 0, nextNode = None):\n",
    "        self.NextNode = nextNode\n",
    "        self.Value = value\n",
    "\n",
    "    def Visit(self):\n",
    "        self.__Visited = True\n",
    "\n",
    "    def IsVisited(self):\n",
    "        return self.__Visited\n",
    "\n",
    "    def __str__(self):\n",
    "        return json.dumps({\n",
    "            \"Node\"    : self.Value,\n",
    "            \"Next\"    : self.GetNodeValue(self.NextNode),\n",
    "            \"Visited\" : self.Visit() \n",
    "        })\n",
    "\n",
    "    def __repr__(self):\n",
    "        return {\n",
    "            \"Node\"    : self.Value,\n",
    "            \"Next\"    : self.GetNodeValue(self.NextNode),\n",
    "            \"Visited\" : self.IsVisited() \n",
    "        }\n",
    "    \n",
    "    def GetNodeValue(self, node):\n",
    "        if node is None:\n",
    "            return str(node)\n",
    "        else:\n",
    "            return node.Value\n",
    "        \n",
    "    @abstractmethod\n",
    "    def Process(self):\n",
    "        pass"
   ]
  },
  {
   "cell_type": "markdown",
   "id": "2a904ca0",
   "metadata": {},
   "source": [
    "#### <span style=\"font-weight:bold;font-size:1.9em;color:#0e92ea\">2. Single LinkedList Node</span>"
   ]
  },
  {
   "cell_type": "code",
   "execution_count": 3,
   "id": "42297117",
   "metadata": {},
   "outputs": [],
   "source": [
    "class SingleLinkedListNode(Node):\n",
    "    \n",
    "    def Process(self):\n",
    "        self.Visit()\n",
    "        \n",
    "    def __str__(self):\n",
    "        return json.dumps({\n",
    "            \"Node\"    : self.Value,\n",
    "            \"Next\"    : self.GetNodeValue(self.NextNode),\n",
    "            \"Visited\" : self.Visit() \n",
    "        })\n",
    "    \n",
    "    def __repr__(self):\n",
    "        return json.dumps({\n",
    "            \"Node\"    : self.Value,\n",
    "            \"Next\"    : self.GetNodeValue(self.NextNode),\n",
    "            \"Visited\" : self.IsVisited() \n",
    "        })\n"
   ]
  },
  {
   "cell_type": "code",
   "execution_count": 4,
   "id": "e6acc3b7",
   "metadata": {},
   "outputs": [
    {
     "data": {
      "text/plain": [
       "{\"Node\": 0, \"Next\": \"None\", \"Visited\": false}"
      ]
     },
     "execution_count": 4,
     "metadata": {},
     "output_type": "execute_result"
    }
   ],
   "source": [
    "node = SingleLinkedListNode()\n",
    "node"
   ]
  },
  {
   "cell_type": "code",
   "execution_count": 5,
   "id": "c8167ee9",
   "metadata": {},
   "outputs": [
    {
     "data": {
      "text/plain": [
       "{\"Node\": 0, \"Next\": \"None\", \"Visited\": true}"
      ]
     },
     "execution_count": 5,
     "metadata": {},
     "output_type": "execute_result"
    }
   ],
   "source": [
    "node.Visit()\n",
    "node"
   ]
  },
  {
   "cell_type": "code",
   "execution_count": 6,
   "id": "c803e39b",
   "metadata": {},
   "outputs": [
    {
     "data": {
      "text/plain": [
       "{\"Node\": 5, \"Next\": \"None\", \"Visited\": false}"
      ]
     },
     "execution_count": 6,
     "metadata": {},
     "output_type": "execute_result"
    }
   ],
   "source": [
    "node = SingleLinkedListNode(5, None)\n",
    "node"
   ]
  },
  {
   "cell_type": "code",
   "execution_count": 7,
   "id": "fef28076",
   "metadata": {},
   "outputs": [
    {
     "data": {
      "text/plain": [
       "{\"Node\": 5, \"Next\": 6, \"Visited\": false}"
      ]
     },
     "execution_count": 7,
     "metadata": {},
     "output_type": "execute_result"
    }
   ],
   "source": [
    "node = SingleLinkedListNode(5, SingleLinkedListNode(6, None))\n",
    "node"
   ]
  },
  {
   "cell_type": "markdown",
   "id": "658767e9",
   "metadata": {},
   "source": [
    "#### <span style=\"font-weight:bold;font-size:1.9em;color:#0e92ea\">2. Double LinkedList Node</span>"
   ]
  },
  {
   "cell_type": "code",
   "execution_count": 8,
   "id": "da1f3b25",
   "metadata": {},
   "outputs": [],
   "source": [
    "class DoubleLinkedListNode(Node):\n",
    "    def __init__(self, value, previousNode = None, nextNode = None):\n",
    "            super().__init__(value, nextNode)\n",
    "            self.PreviousNode = previousNode\n",
    "            \n",
    "    def __str__(self):\n",
    "        return json.dumps({\n",
    "            \"Node\"    : self.Value,\n",
    "            \"Previous\": self.GetNodeValue(self.PreviousNode),\n",
    "            \"Next\"    : self.GetNodeValue(self.NextNode),\n",
    "            \"Visited\" : self.IsVisited() \n",
    "        })\n",
    "    \n",
    "    def __repr__(self):\n",
    "        return json.dumps({\n",
    "            \"Node\"    : self.Value,\n",
    "            \"Previous\": self.GetNodeValue(self.PreviousNode),\n",
    "            \"Next\"    : self.GetNodeValue(self.NextNode),\n",
    "            \"Visited\" : self.IsVisited() \n",
    "        })\n",
    "    \n",
    "    def Process(self):\n",
    "        self.Visit()"
   ]
  },
  {
   "cell_type": "code",
   "execution_count": 9,
   "id": "ea04c17a",
   "metadata": {},
   "outputs": [
    {
     "data": {
      "text/plain": [
       "{\"Node\": 5, \"Previous\": \"None\", \"Next\": \"None\", \"Visited\": false}"
      ]
     },
     "execution_count": 9,
     "metadata": {},
     "output_type": "execute_result"
    }
   ],
   "source": [
    "node = DoubleLinkedListNode(5, None, None)\n",
    "node"
   ]
  },
  {
   "cell_type": "code",
   "execution_count": 10,
   "id": "76387091",
   "metadata": {},
   "outputs": [
    {
     "data": {
      "text/plain": [
       "{\"Node\": 5, \"Previous\": 4, \"Next\": \"None\", \"Visited\": false}"
      ]
     },
     "execution_count": 10,
     "metadata": {},
     "output_type": "execute_result"
    }
   ],
   "source": [
    "node = DoubleLinkedListNode(5, DoubleLinkedListNode(4), None)\n",
    "node"
   ]
  },
  {
   "cell_type": "code",
   "execution_count": 11,
   "id": "dc6695e0",
   "metadata": {},
   "outputs": [
    {
     "data": {
      "text/plain": [
       "{\"Node\": 5, \"Previous\": 4, \"Next\": 6, \"Visited\": false}"
      ]
     },
     "execution_count": 11,
     "metadata": {},
     "output_type": "execute_result"
    }
   ],
   "source": [
    "node = DoubleLinkedListNode(5, DoubleLinkedListNode(4), DoubleLinkedListNode(6))\n",
    "node"
   ]
  },
  {
   "cell_type": "code",
   "execution_count": 12,
   "id": "823e71d0",
   "metadata": {},
   "outputs": [
    {
     "data": {
      "text/plain": [
       "{\"Node\": 5, \"Previous\": 4, \"Next\": 6, \"Visited\": true}"
      ]
     },
     "execution_count": 12,
     "metadata": {},
     "output_type": "execute_result"
    }
   ],
   "source": [
    "node.Visit()\n",
    "node"
   ]
  },
  {
   "cell_type": "markdown",
   "id": "20b06870",
   "metadata": {},
   "source": [
    "#### <span style=\"font-weight:bold;font-size:1.9em;color:#0e92ea\">3. Single LinkedList</span>"
   ]
  },
  {
   "cell_type": "code",
   "execution_count": null,
   "id": "4020bcb1",
   "metadata": {},
   "outputs": [],
   "source": []
  }
 ],
 "metadata": {
  "kernelspec": {
   "display_name": "Python 3 (ipykernel)",
   "language": "python",
   "name": "python3"
  },
  "language_info": {
   "codemirror_mode": {
    "name": "ipython",
    "version": 3
   },
   "file_extension": ".py",
   "mimetype": "text/x-python",
   "name": "python",
   "nbconvert_exporter": "python",
   "pygments_lexer": "ipython3",
   "version": "3.9.7"
  }
 },
 "nbformat": 4,
 "nbformat_minor": 5
}

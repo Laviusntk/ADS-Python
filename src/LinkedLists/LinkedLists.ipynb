{
 "cells": [
  {
   "cell_type": "markdown",
   "id": "0e6d0359",
   "metadata": {},
   "source": [
    "## <span style=\"font-weight:bold;font-size:1.9em;color:#0e92ea\">LinkedLists</span>\n",
    "\n",
    "#### <span style=\"font-weight:bold;font-size:1.9em;color:#0e92ea\">Content</span>\n",
    "\n",
    "<ol style=\"color:#0e92ea\">\n",
    "    <li>Node Class</li>\n",
    "    <li>SingleLinkedListNode Class</li>\n",
    "    <li>DoubleLinkedListNode Class</li>\n",
    "    <li>LinkedList Abstract Base Class</li>\n",
    "    <li>SingleLinkedList Class</li>\n",
    "    <li>DoubleLinkedList Class</li>\n",
    "    <li>Qeues Class</li>\n",
    "    <li>Stack Class</li>\n",
    "</ol>"
   ]
  },
  {
   "cell_type": "code",
   "execution_count": 1,
   "id": "ce521f24",
   "metadata": {},
   "outputs": [],
   "source": [
    "from abc import ABC\n",
    "from abc import abstractmethod\n",
    "from dataclasses import dataclass\n",
    "import json"
   ]
  },
  {
   "cell_type": "markdown",
   "id": "e21cb235",
   "metadata": {},
   "source": [
    "#### <span style=\"font-weight:bold;font-size:1.9em;color:#0e92ea\">1. Node Class</span>"
   ]
  },
  {
   "cell_type": "code",
   "execution_count": 2,
   "id": "99af59f5",
   "metadata": {},
   "outputs": [],
   "source": [
    "class Node(ABC):\n",
    "    __Visited = False\n",
    "\n",
    "    def __init__(self, value = 0, nextNode = None):\n",
    "        self.Next = nextNode\n",
    "        self.Value = value\n",
    "\n",
    "    def Visit(self):\n",
    "        self.__Visited = True\n",
    "\n",
    "    def IsVisited(self):\n",
    "        return self.__Visited\n",
    "\n",
    "    def __str__(self):\n",
    "        return json.dumps({\n",
    "            \"Node\"    : self.Value,\n",
    "            \"Next\"    : self.GetNodeValue(self.Next),\n",
    "            \"Visited\" : self.Visit() \n",
    "        })\n",
    "    \n",
    "    def __repr__(self):\n",
    "        return self.__str__()\n",
    "    \n",
    "    def __eq__(self, node):\n",
    "        if node is None:\n",
    "            return False\n",
    "        \n",
    "        return node.Value == self.Value \n",
    "\n",
    "    def __gt__(self, node):\n",
    "        if node is None:\n",
    "            return false\n",
    "        \n",
    "        return self.Value > node.Value \n",
    "    \n",
    "    def GetNodeValue(self, node):\n",
    "        if node is None:\n",
    "            return str(node)\n",
    "        else:\n",
    "            return node.Value\n",
    "        \n",
    "    @abstractmethod\n",
    "    def Process(self):\n",
    "        pass"
   ]
  },
  {
   "cell_type": "markdown",
   "id": "83c12ea9",
   "metadata": {},
   "source": [
    "#### <span style=\"font-weight:bold;font-size:1.9em;color:#0e92ea\">2. Single LinkedList Node</span>"
   ]
  },
  {
   "cell_type": "code",
   "execution_count": 3,
   "id": "0f820594",
   "metadata": {},
   "outputs": [],
   "source": [
    "class SingleLinkedListNode(Node):\n",
    "    \n",
    "    def Process(self):\n",
    "        self.Visit()\n",
    "        \n",
    "    def __str__(self):\n",
    "        return json.dumps({\n",
    "            \"Node\"    : self.Value,\n",
    "            \"Next\"    : self.GetNodeValue(self.Next),\n",
    "            \"Visited\" : self.IsVisited() \n",
    "        })"
   ]
  },
  {
   "cell_type": "code",
   "execution_count": 4,
   "id": "92c8791d",
   "metadata": {},
   "outputs": [
    {
     "data": {
      "text/plain": [
       "{\"Node\": 0, \"Next\": \"None\", \"Visited\": false}"
      ]
     },
     "execution_count": 4,
     "metadata": {},
     "output_type": "execute_result"
    }
   ],
   "source": [
    "node = SingleLinkedListNode()\n",
    "node"
   ]
  },
  {
   "cell_type": "code",
   "execution_count": 5,
   "id": "12ddd464",
   "metadata": {},
   "outputs": [
    {
     "data": {
      "text/plain": [
       "{\"Node\": 0, \"Next\": \"None\", \"Visited\": true}"
      ]
     },
     "execution_count": 5,
     "metadata": {},
     "output_type": "execute_result"
    }
   ],
   "source": [
    "node.Visit()\n",
    "node"
   ]
  },
  {
   "cell_type": "code",
   "execution_count": 6,
   "id": "7e67137b",
   "metadata": {},
   "outputs": [
    {
     "data": {
      "text/plain": [
       "{\"Node\": 5, \"Next\": \"None\", \"Visited\": false}"
      ]
     },
     "execution_count": 6,
     "metadata": {},
     "output_type": "execute_result"
    }
   ],
   "source": [
    "node = SingleLinkedListNode(5, None)\n",
    "node"
   ]
  },
  {
   "cell_type": "code",
   "execution_count": 7,
   "id": "07c4b6de",
   "metadata": {},
   "outputs": [
    {
     "data": {
      "text/plain": [
       "{\"Node\": 5, \"Next\": 6, \"Visited\": false}"
      ]
     },
     "execution_count": 7,
     "metadata": {},
     "output_type": "execute_result"
    }
   ],
   "source": [
    "node = SingleLinkedListNode(5, SingleLinkedListNode(6, None))\n",
    "node"
   ]
  },
  {
   "cell_type": "code",
   "execution_count": 8,
   "id": "6925c692",
   "metadata": {},
   "outputs": [
    {
     "data": {
      "text/plain": [
       "False"
      ]
     },
     "execution_count": 8,
     "metadata": {},
     "output_type": "execute_result"
    }
   ],
   "source": [
    "node1 = SingleLinkedListNode(5)\n",
    "node2 = SingleLinkedListNode(6)\n",
    "node1 == node2"
   ]
  },
  {
   "cell_type": "code",
   "execution_count": 9,
   "id": "2795b271",
   "metadata": {},
   "outputs": [
    {
     "data": {
      "text/plain": [
       "True"
      ]
     },
     "execution_count": 9,
     "metadata": {},
     "output_type": "execute_result"
    }
   ],
   "source": [
    "node1 = SingleLinkedListNode(5)\n",
    "node2 = SingleLinkedListNode(5)\n",
    "node1 == node2"
   ]
  },
  {
   "cell_type": "markdown",
   "id": "488f41ab",
   "metadata": {},
   "source": [
    "#### <span style=\"font-weight:bold;font-size:1.9em;color:#0e92ea\">2. Double LinkedList Node</span>"
   ]
  },
  {
   "cell_type": "code",
   "execution_count": 10,
   "id": "4569a011",
   "metadata": {},
   "outputs": [],
   "source": [
    "class DoubleLinkedListNode(Node):\n",
    "    def __init__(self, value = 0, previousNode = None, nextNode = None):\n",
    "            super().__init__(value, nextNode)\n",
    "            self.Previous = previousNode\n",
    "            \n",
    "    def __str__(self):\n",
    "        return json.dumps({\n",
    "            \"Node\"    : self.Value,\n",
    "            \"Previous\": self.GetNodeValue(self.Previous),\n",
    "            \"Next\"    : self.GetNodeValue(self.Next),\n",
    "            \"Visited\" : self.IsVisited() \n",
    "        })\n",
    "    \n",
    "    def Process(self):\n",
    "        self.Visit()"
   ]
  },
  {
   "cell_type": "code",
   "execution_count": 11,
   "id": "337092a1",
   "metadata": {},
   "outputs": [
    {
     "data": {
      "text/plain": [
       "{\"Node\": 5, \"Previous\": \"None\", \"Next\": \"None\", \"Visited\": false}"
      ]
     },
     "execution_count": 11,
     "metadata": {},
     "output_type": "execute_result"
    }
   ],
   "source": [
    "node = DoubleLinkedListNode(5, None, None)\n",
    "node"
   ]
  },
  {
   "cell_type": "code",
   "execution_count": 12,
   "id": "70b2931a",
   "metadata": {},
   "outputs": [
    {
     "data": {
      "text/plain": [
       "{\"Node\": 5, \"Previous\": 4, \"Next\": \"None\", \"Visited\": false}"
      ]
     },
     "execution_count": 12,
     "metadata": {},
     "output_type": "execute_result"
    }
   ],
   "source": [
    "node = DoubleLinkedListNode(5, DoubleLinkedListNode(4), None)\n",
    "node"
   ]
  },
  {
   "cell_type": "code",
   "execution_count": 13,
   "id": "8aba53cc",
   "metadata": {},
   "outputs": [
    {
     "data": {
      "text/plain": [
       "{\"Node\": 5, \"Previous\": 4, \"Next\": 6, \"Visited\": false}"
      ]
     },
     "execution_count": 13,
     "metadata": {},
     "output_type": "execute_result"
    }
   ],
   "source": [
    "node = DoubleLinkedListNode(5, DoubleLinkedListNode(4), DoubleLinkedListNode(6))\n",
    "node"
   ]
  },
  {
   "cell_type": "code",
   "execution_count": 14,
   "id": "a9f53f64",
   "metadata": {},
   "outputs": [
    {
     "data": {
      "text/plain": [
       "{\"Node\": 5, \"Previous\": 4, \"Next\": 6, \"Visited\": true}"
      ]
     },
     "execution_count": 14,
     "metadata": {},
     "output_type": "execute_result"
    }
   ],
   "source": [
    "node.Visit()\n",
    "node"
   ]
  },
  {
   "cell_type": "markdown",
   "id": "f91894bc",
   "metadata": {},
   "source": [
    "#### <span style=\"font-weight:bold;font-size:1.9em;color:#0e92ea\">4. LinkedList abstract Base Class</span>"
   ]
  },
  {
   "cell_type": "code",
   "execution_count": 15,
   "id": "63128dd1",
   "metadata": {},
   "outputs": [],
   "source": [
    "class LinkedList(ABC):\n",
    "    def __init__(self):\n",
    "        self.Head = None\n",
    "        self.Count = 0\n",
    "        \n",
    "    @abstractmethod\n",
    "    def Insert(self, newNodeValue):\n",
    "        pass\n",
    "    \n",
    "    @abstractmethod\n",
    "    def Remove(self, newNodeValue):\n",
    "        pass\n",
    "    \n",
    "    @abstractmethod\n",
    "    def Find(self, newNodeValue):\n",
    "        pass\n",
    "    \n",
    "    def __str__(self):\n",
    "        temp = self.Head\n",
    "        results = \"\"\n",
    "        while temp is not None:\n",
    "            results += f\"{temp.Value} => \"\n",
    "            temp = temp.Next\n",
    "        results += \"null\"\n",
    "        return results\n",
    "        \n",
    "    def __repr__(self):\n",
    "        return self.__str__()"
   ]
  },
  {
   "cell_type": "markdown",
   "id": "bb652bf6",
   "metadata": {},
   "source": [
    "#### <span style=\"font-weight:bold;font-size:1.9em;color:#0e92ea\">5. Single LinkedList</span>"
   ]
  },
  {
   "cell_type": "code",
   "execution_count": 16,
   "id": "224db2bb",
   "metadata": {},
   "outputs": [],
   "source": [
    "class SingleLinkedList(LinkedList):    \n",
    "    def Insert(self, newValue):\n",
    "        if self.Head is None:\n",
    "            self.Head = SingleLinkedListNode(newValue)\n",
    "        else:\n",
    "            temp = self.Head\n",
    "            while temp.Next is not None:\n",
    "                temp = temp.Next\n",
    "            temp.Next = SingleLinkedListNode(newValue)\n",
    "            self.Count += 1\n",
    "            \n",
    "    def Remove(self, value):\n",
    "        if self.Head is None:\n",
    "            return self\n",
    "        elif self.Head.Value == value:\n",
    "            self.Head = self.Head.Next\n",
    "            return self\n",
    "            \n",
    "        currentNode = self.Head\n",
    "        while currentNode.Next is not None:\n",
    "            if currentNode.Next.Value == value:\n",
    "                currentNode.Next = currentNode.Next.Next\n",
    "                return self\n",
    "            currentNode = currentNode.Next\n",
    "        return self\n",
    "    \n",
    "    def Find(self, value):\n",
    "        currentNode = self.Head\n",
    "        while currentNode is not None:\n",
    "            if currentNode.Value == value:\n",
    "                return currentNode\n",
    "            currentNode = currentNode.Next\n",
    "        return None"
   ]
  },
  {
   "cell_type": "code",
   "execution_count": 17,
   "id": "7f81a23f",
   "metadata": {},
   "outputs": [
    {
     "data": {
      "text/plain": [
       "1 => 2 => 3 => null"
      ]
     },
     "execution_count": 17,
     "metadata": {},
     "output_type": "execute_result"
    }
   ],
   "source": [
    "linkedList = SingleLinkedList()\n",
    "linkedList.Insert(1)\n",
    "linkedList.Insert(2)\n",
    "linkedList.Insert(3)\n",
    "linkedList"
   ]
  },
  {
   "cell_type": "code",
   "execution_count": 18,
   "id": "b9fa6742",
   "metadata": {},
   "outputs": [
    {
     "data": {
      "text/plain": [
       "{\"Node\": 2, \"Next\": 3, \"Visited\": false}"
      ]
     },
     "execution_count": 18,
     "metadata": {},
     "output_type": "execute_result"
    }
   ],
   "source": [
    "linkedList.Find(2)"
   ]
  },
  {
   "cell_type": "code",
   "execution_count": 19,
   "id": "6f7cc887",
   "metadata": {},
   "outputs": [
    {
     "data": {
      "text/plain": [
       "1 => 3 => null"
      ]
     },
     "execution_count": 19,
     "metadata": {},
     "output_type": "execute_result"
    }
   ],
   "source": [
    "linkedList.Remove(2)"
   ]
  },
  {
   "cell_type": "code",
   "execution_count": 20,
   "id": "bfd0ff31",
   "metadata": {},
   "outputs": [
    {
     "data": {
      "text/plain": [
       "1 => null"
      ]
     },
     "execution_count": 20,
     "metadata": {},
     "output_type": "execute_result"
    }
   ],
   "source": [
    "linkedList = SingleLinkedList()\n",
    "linkedList.Insert(1)\n",
    "linkedList"
   ]
  },
  {
   "cell_type": "code",
   "execution_count": 21,
   "id": "cd429c4a",
   "metadata": {},
   "outputs": [
    {
     "data": {
      "text/plain": [
       "1 => null"
      ]
     },
     "execution_count": 21,
     "metadata": {},
     "output_type": "execute_result"
    }
   ],
   "source": [
    "linkedList.Remove(2)"
   ]
  },
  {
   "cell_type": "code",
   "execution_count": 22,
   "id": "d238303f",
   "metadata": {},
   "outputs": [
    {
     "data": {
      "text/plain": [
       "null"
      ]
     },
     "execution_count": 22,
     "metadata": {},
     "output_type": "execute_result"
    }
   ],
   "source": [
    "linkedList.Remove(1)"
   ]
  },
  {
   "cell_type": "code",
   "execution_count": 23,
   "id": "add0f97b",
   "metadata": {},
   "outputs": [
    {
     "data": {
      "text/plain": [
       "1 => 2 => null"
      ]
     },
     "execution_count": 23,
     "metadata": {},
     "output_type": "execute_result"
    }
   ],
   "source": [
    "linkedList = SingleLinkedList()\n",
    "linkedList.Insert(1)\n",
    "linkedList.Insert(2)\n",
    "linkedList.Insert(3)\n",
    "linkedList\n",
    "linkedList.Remove(3)"
   ]
  },
  {
   "cell_type": "code",
   "execution_count": 24,
   "id": "d1229f1e",
   "metadata": {},
   "outputs": [
    {
     "data": {
      "text/plain": [
       "1 => 2 => null"
      ]
     },
     "execution_count": 24,
     "metadata": {},
     "output_type": "execute_result"
    }
   ],
   "source": [
    "linkedList.Remove(3)"
   ]
  },
  {
   "cell_type": "code",
   "execution_count": 25,
   "id": "2d6d2e73",
   "metadata": {},
   "outputs": [
    {
     "data": {
      "text/plain": [
       "2 => null"
      ]
     },
     "execution_count": 25,
     "metadata": {},
     "output_type": "execute_result"
    }
   ],
   "source": [
    "linkedList.Remove(1)"
   ]
  },
  {
   "cell_type": "markdown",
   "id": "bf6a4255",
   "metadata": {},
   "source": [
    "#### <span style=\"font-weight:bold;font-size:1.9em;color:#0e92ea\">4. Double LinkedList</span>"
   ]
  },
  {
   "cell_type": "code",
   "execution_count": 26,
   "id": "e4526869",
   "metadata": {},
   "outputs": [],
   "source": [
    "class DoubleLinkedList(LinkedList):\n",
    "    def Insert(self, newNodeValue):\n",
    "        if self.Head == None:\n",
    "            self.Head = DoubleLinkedListNode(newNodeValue)\n",
    "            return self\n",
    "        \n",
    "        currentNode = self.Head\n",
    "        while currentNode.Next is not None and currentNode.Next.Value < newNodeValue :\n",
    "            currentNode = currentNode.Next\n",
    "            \n",
    "        print(f\"current Node {currentNode.Value}\")\n",
    "        \n",
    "        tempNode = currentNode.Next\n",
    "        newNode = DoubleLinkedListNode(newNodeValue)\n",
    "        newNode.Next = currentNode.Next\n",
    "        newNode.Previous = currentNode\n",
    "        currentNode.Next = newNode\n",
    "        \n",
    "        if tempNode is not None:\n",
    "            tempNode.Previous = newNode\n",
    "        return self\n",
    "\n",
    "    def __str__(self):\n",
    "        temp = self.Head\n",
    "        results = \"\"\n",
    "        while temp.Next is not None:\n",
    "            results += f\"{temp.Value} => \"\n",
    "            temp = temp.Next\n",
    "        results += f\"{temp.Value} => null\"\n",
    "        \n",
    "        reverseResults = \"\"\n",
    "        while temp is not None:\n",
    "            reverseResults = f\"{temp.Value} <= {reverseResults}\"\n",
    "            temp = temp.Previous\n",
    "        reverseResults = f\"null <= {reverseResults}\"\n",
    "        return f\"{results}\\n{reverseResults}\"\n",
    "\n",
    "    def Remove(self, value):\n",
    "        if self.Head == None:\n",
    "            return self\n",
    "        elif self.Head.Value == value:\n",
    "            self.Head = self.Head.Next\n",
    "            self.Head.Previous = None\n",
    "            return self\n",
    "        \n",
    "        currentNode = self.Head\n",
    "        while currentNode.Next is not None and currentNode.Next.Value != value:\n",
    "            currentNode = currentNode.Next\n",
    "        \n",
    "        if currentNode.Next.Value == value:\n",
    "            temp = currentNode.Next.Next\n",
    "            currentNode.Next = currentNode.Next.Next\n",
    "            \n",
    "            if temp is not None:\n",
    "                temp.Previous = currentNode\n",
    "        return self\n",
    "    \n",
    "    def Find(self, value):\n",
    "        pass"
   ]
  },
  {
   "cell_type": "code",
   "execution_count": 27,
   "id": "1a447790",
   "metadata": {},
   "outputs": [
    {
     "name": "stdout",
     "output_type": "stream",
     "text": [
      "current Node 1\n",
      "current Node 2\n",
      "current Node 3\n"
     ]
    },
    {
     "data": {
      "text/plain": [
       "1 => 2 => 3 => 6 => null\n",
       "null <= 1 <= 2 <= 3 <= 6 <= "
      ]
     },
     "execution_count": 27,
     "metadata": {},
     "output_type": "execute_result"
    }
   ],
   "source": [
    "linkedList = DoubleLinkedList()\n",
    "linkedList.Insert(1)\n",
    "linkedList.Insert(2)\n",
    "linkedList.Insert(3)\n",
    "linkedList.Insert(6)"
   ]
  },
  {
   "cell_type": "code",
   "execution_count": 28,
   "id": "f8cf3e95",
   "metadata": {},
   "outputs": [
    {
     "name": "stdout",
     "output_type": "stream",
     "text": [
      "current Node 3\n"
     ]
    },
    {
     "data": {
      "text/plain": [
       "1 => 2 => 3 => 5 => 6 => null\n",
       "null <= 1 <= 2 <= 3 <= 5 <= 6 <= "
      ]
     },
     "execution_count": 28,
     "metadata": {},
     "output_type": "execute_result"
    }
   ],
   "source": [
    "linkedList.Insert(5)"
   ]
  },
  {
   "cell_type": "code",
   "execution_count": 29,
   "id": "1ccee823",
   "metadata": {},
   "outputs": [
    {
     "name": "stdout",
     "output_type": "stream",
     "text": [
      "current Node 3\n"
     ]
    },
    {
     "data": {
      "text/plain": [
       "1 => 2 => 3 => 4 => 5 => 6 => null\n",
       "null <= 1 <= 2 <= 3 <= 4 <= 5 <= 6 <= "
      ]
     },
     "execution_count": 29,
     "metadata": {},
     "output_type": "execute_result"
    }
   ],
   "source": [
    "linkedList.Insert(4)"
   ]
  },
  {
   "cell_type": "code",
   "execution_count": 30,
   "id": "20125af6",
   "metadata": {},
   "outputs": [
    {
     "data": {
      "text/plain": [
       "1 => 2 => 4 => 5 => 6 => null\n",
       "null <= 1 <= 2 <= 4 <= 5 <= 6 <= "
      ]
     },
     "execution_count": 30,
     "metadata": {},
     "output_type": "execute_result"
    }
   ],
   "source": [
    "linkedList.Remove(3)"
   ]
  },
  {
   "cell_type": "code",
   "execution_count": 31,
   "id": "d0294571",
   "metadata": {},
   "outputs": [
    {
     "data": {
      "text/plain": [
       "1 => 2 => 4 => 5 => null\n",
       "null <= 1 <= 2 <= 4 <= 5 <= "
      ]
     },
     "execution_count": 31,
     "metadata": {},
     "output_type": "execute_result"
    }
   ],
   "source": [
    "linkedList.Remove(6)"
   ]
  },
  {
   "cell_type": "code",
   "execution_count": 32,
   "id": "538e1864",
   "metadata": {},
   "outputs": [
    {
     "data": {
      "text/plain": [
       "2 => 4 => 5 => null\n",
       "null <= 2 <= 4 <= 5 <= "
      ]
     },
     "execution_count": 32,
     "metadata": {},
     "output_type": "execute_result"
    }
   ],
   "source": [
    "linkedList.Remove(1)"
   ]
  },
  {
   "cell_type": "markdown",
   "id": "cf8364ca",
   "metadata": {},
   "source": [
    "#### <span style=\"font-weight:bold;font-size:1.9em;color:#0e92ea\">5. Queues</span>"
   ]
  },
  {
   "cell_type": "code",
   "execution_count": 33,
   "id": "9132ddeb",
   "metadata": {},
   "outputs": [],
   "source": [
    "class Queue:  \n",
    "    def __init__(self):\n",
    "        self.Front = None\n",
    "        self.Tail = None\n",
    "        self.Cont = 0\n",
    "    \n",
    "    def Enqueue(self, value):\n",
    "        newNode = SingleLinkedListNode(value)\n",
    "        if self.Front is None:\n",
    "            self.Front = newNode\n",
    "            self.Tail = newNode\n",
    "            return self\n",
    "        self.Tail.Next = newNode\n",
    "        self.Tail = newNode\n",
    "        return self\n",
    "    \n",
    "    def DeQueue(self):\n",
    "        if self.Front == None:\n",
    "            return None\n",
    "        \n",
    "        retults = self.Front\n",
    "        self.Front = self.Front.Next\n",
    "        \n",
    "        if self.Front is None:\n",
    "            self.Tail = None\n",
    "            \n",
    "        return self\n",
    "    \n",
    "    def __str__(self):\n",
    "        temp = self.Front\n",
    "        results = \"\"\n",
    "        while temp is not None:\n",
    "            results += f\"{temp.Value} => \"\n",
    "            temp = temp.Next\n",
    "        results += \"null\"\n",
    "        return results\n",
    "        \n",
    "    def __repr__(self):\n",
    "        return self.__str__()"
   ]
  },
  {
   "cell_type": "code",
   "execution_count": 34,
   "id": "490ca067",
   "metadata": {},
   "outputs": [],
   "source": [
    "queue = Queue()"
   ]
  },
  {
   "cell_type": "code",
   "execution_count": 35,
   "id": "7a5fa67a",
   "metadata": {},
   "outputs": [
    {
     "data": {
      "text/plain": [
       "1 => null"
      ]
     },
     "execution_count": 35,
     "metadata": {},
     "output_type": "execute_result"
    }
   ],
   "source": [
    "queue.Enqueue(1)"
   ]
  },
  {
   "cell_type": "code",
   "execution_count": 36,
   "id": "92005731",
   "metadata": {},
   "outputs": [
    {
     "data": {
      "text/plain": [
       "1 => 2 => null"
      ]
     },
     "execution_count": 36,
     "metadata": {},
     "output_type": "execute_result"
    }
   ],
   "source": [
    "queue.Enqueue(2)"
   ]
  },
  {
   "cell_type": "code",
   "execution_count": 37,
   "id": "f9d25e7b",
   "metadata": {},
   "outputs": [
    {
     "data": {
      "text/plain": [
       "1 => 2 => 3 => null"
      ]
     },
     "execution_count": 37,
     "metadata": {},
     "output_type": "execute_result"
    }
   ],
   "source": [
    "queue.Enqueue(3)"
   ]
  },
  {
   "cell_type": "code",
   "execution_count": 38,
   "id": "1a89a9bd",
   "metadata": {},
   "outputs": [
    {
     "data": {
      "text/plain": [
       "2 => 3 => null"
      ]
     },
     "execution_count": 38,
     "metadata": {},
     "output_type": "execute_result"
    }
   ],
   "source": [
    "queue.DeQueue()"
   ]
  },
  {
   "cell_type": "code",
   "execution_count": 39,
   "id": "f98ae921",
   "metadata": {},
   "outputs": [
    {
     "data": {
      "text/plain": [
       "3 => null"
      ]
     },
     "execution_count": 39,
     "metadata": {},
     "output_type": "execute_result"
    }
   ],
   "source": [
    "queue.DeQueue()"
   ]
  },
  {
   "cell_type": "markdown",
   "id": "b160e00c",
   "metadata": {},
   "source": [
    "#### <span style=\"font-weight:bold;font-size:1.9em;color:#0e92ea\">5. Stack</span>"
   ]
  },
  {
   "cell_type": "code",
   "execution_count": 40,
   "id": "6d9fef90",
   "metadata": {},
   "outputs": [],
   "source": [
    "class Stack:  \n",
    "    def __init__(self):\n",
    "        self.Top = None\n",
    "    \n",
    "    def Push(self, value):\n",
    "        newNode = SingleLinkedListNode(value)\n",
    "        newNode.Next = self.Top\n",
    "        self.Top = newNode\n",
    "        return self\n",
    "    \n",
    "    def Pop(self):\n",
    "        results = self.Top\n",
    "        self.Top = self.Top.Next\n",
    "        return results\n",
    "    \n",
    "    def __str__(self):\n",
    "        temp = self.Top\n",
    "        results = \"[\"\n",
    "        while temp is not None:\n",
    "            results += f\"{temp.Value}, \"\n",
    "            temp = temp.Next\n",
    "        results += \"]\"\n",
    "        return results\n",
    "        \n",
    "    def __repr__(self):\n",
    "        return self.__str__()"
   ]
  },
  {
   "cell_type": "code",
   "execution_count": 41,
   "id": "f6f392bf",
   "metadata": {},
   "outputs": [],
   "source": [
    "stack = Stack()"
   ]
  },
  {
   "cell_type": "code",
   "execution_count": 42,
   "id": "c0cb7eec",
   "metadata": {},
   "outputs": [
    {
     "data": {
      "text/plain": [
       "[1, ]"
      ]
     },
     "execution_count": 42,
     "metadata": {},
     "output_type": "execute_result"
    }
   ],
   "source": [
    "stack.Push(1)"
   ]
  },
  {
   "cell_type": "code",
   "execution_count": 43,
   "id": "01a9ddd6",
   "metadata": {},
   "outputs": [
    {
     "data": {
      "text/plain": [
       "[2, 1, ]"
      ]
     },
     "execution_count": 43,
     "metadata": {},
     "output_type": "execute_result"
    }
   ],
   "source": [
    "stack.Push(2)"
   ]
  },
  {
   "cell_type": "code",
   "execution_count": 44,
   "id": "913f8a39",
   "metadata": {},
   "outputs": [
    {
     "data": {
      "text/plain": [
       "[4, 3, 2, 1, ]"
      ]
     },
     "execution_count": 44,
     "metadata": {},
     "output_type": "execute_result"
    }
   ],
   "source": [
    "stack.Push(3)\n",
    "stack.Push(4)"
   ]
  },
  {
   "cell_type": "code",
   "execution_count": 45,
   "id": "c3a8da22",
   "metadata": {},
   "outputs": [
    {
     "data": {
      "text/plain": [
       "{\"Node\": 4, \"Next\": 3, \"Visited\": false}"
      ]
     },
     "execution_count": 45,
     "metadata": {},
     "output_type": "execute_result"
    }
   ],
   "source": [
    "stack.Pop()"
   ]
  },
  {
   "cell_type": "code",
   "execution_count": 46,
   "id": "15bb6a78",
   "metadata": {},
   "outputs": [
    {
     "data": {
      "text/plain": [
       "{\"Node\": 3, \"Next\": 2, \"Visited\": false}"
      ]
     },
     "execution_count": 46,
     "metadata": {},
     "output_type": "execute_result"
    }
   ],
   "source": [
    "stack.Pop()"
   ]
  },
  {
   "cell_type": "code",
   "execution_count": 47,
   "id": "a815644e",
   "metadata": {},
   "outputs": [
    {
     "data": {
      "text/plain": [
       "{\"Node\": 2, \"Next\": 1, \"Visited\": false}"
      ]
     },
     "execution_count": 47,
     "metadata": {},
     "output_type": "execute_result"
    }
   ],
   "source": [
    "stack.Pop()"
   ]
  },
  {
   "cell_type": "code",
   "execution_count": 48,
   "id": "0f31b2ff",
   "metadata": {},
   "outputs": [
    {
     "data": {
      "text/plain": [
       "[1, ]"
      ]
     },
     "execution_count": 48,
     "metadata": {},
     "output_type": "execute_result"
    }
   ],
   "source": [
    "stack"
   ]
  },
  {
   "cell_type": "code",
   "execution_count": null,
   "id": "fd31663a",
   "metadata": {},
   "outputs": [],
   "source": []
  }
 ],
 "metadata": {
  "kernelspec": {
   "display_name": "Python 3 (ipykernel)",
   "language": "python",
   "name": "python3"
  },
  "language_info": {
   "codemirror_mode": {
    "name": "ipython",
    "version": 3
   },
   "file_extension": ".py",
   "mimetype": "text/x-python",
   "name": "python",
   "nbconvert_exporter": "python",
   "pygments_lexer": "ipython3",
   "version": "3.9.7"
  }
 },
 "nbformat": 4,
 "nbformat_minor": 5
}

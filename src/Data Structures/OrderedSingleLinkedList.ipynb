{
 "cells": [
  {
   "cell_type": "markdown",
   "id": "b68bd566",
   "metadata": {},
   "source": [
    "# Orderd Linkedlist\n",
    "\n",
    "Implementing a orded Linkedlist, inhering from SingleLinkedlist implemented on the SingleLinkedList.ipynb. For more info on how to import a notebook see [Importing Jupyter Notebooks as Modules](https://nbviewer.org/github/jupyter/notebook/blob/master/docs/source/examples/Notebook/Importing%20Notebooks.ipynb)"
   ]
  },
  {
   "cell_type": "code",
   "execution_count": 1,
   "id": "6a2eaf7f",
   "metadata": {},
   "outputs": [
    {
     "name": "stdout",
     "output_type": "stream",
     "text": [
      "importing Jupyter notebook from SingleLinkedList.ipynb\n"
     ]
    },
    {
     "name": "stderr",
     "output_type": "stream",
     "text": [
      "\n",
      "----------------------------------------------------------------------\n",
      "Ran 0 tests in 0.000s\n",
      "\n",
      "OK\n"
     ]
    }
   ],
   "source": [
    "import sys\n",
    "sys.path.insert(1, '../common/')\n",
    "\n",
    "import LoadNotebookHelper # Enables Jupyter to import exterbal notebooks as modules\n",
    "import SingleLinkedList"
   ]
  },
  {
   "cell_type": "code",
   "execution_count": 2,
   "id": "9192b3a1",
   "metadata": {},
   "outputs": [],
   "source": [
    "class OrderedSingleLinkedList(SingleLinkedList.SingleLinkedList):\n",
    "\n",
    "    def __init__(self):\n",
    "        super().__init__()\n",
    "        \n",
    "    def Add(self, newNode):\n",
    "        if self.head == None:\n",
    "            self.head = newNode\n",
    "            self.count += 1\n",
    "        elif self.head.Value > newNode.Value:\n",
    "            newNode.NextNode = self.head\n",
    "            self.head = newNode\n",
    "            self.count += 1\n",
    "        else:\n",
    "            currentNode = self.head\n",
    "            while currentNode != None:\n",
    "                if newNode.Value >= currentNode.Value:\n",
    "                    if  (currentNode.NextNode != None and currentNode.NextNode.Value >= newNode.Value) or currentNode.NextNode == None:\n",
    "                            newNode.NextNode = currentNode.NextNode\n",
    "                            currentNode.NextNode = newNode\n",
    "                            self.count += 1\n",
    "                            return\n",
    "                currentNode = currentNode.NextNode\n",
    "            "
   ]
  },
  {
   "cell_type": "markdown",
   "id": "bf9ba672",
   "metadata": {},
   "source": [
    "# Tests"
   ]
  },
  {
   "cell_type": "code",
   "execution_count": 3,
   "id": "0391b4ea",
   "metadata": {},
   "outputs": [],
   "source": [
    "class TestHelper:\n",
    "    \n",
    "    @staticmethod\n",
    "    def GenerateTestLinkedList(numOfItems = 3):\n",
    "        testLinkedList = OrderedSingleLinkedList()\n",
    "        for i in range (1, numOfItems + 1):\n",
    "            testLinkedList.Add(LinkedListNode(i))\n",
    "        return testLinkedList"
   ]
  },
  {
   "cell_type": "code",
   "execution_count": 4,
   "id": "4f9db8a1",
   "metadata": {},
   "outputs": [
    {
     "name": "stderr",
     "output_type": "stream",
     "text": [
      "test_Add_OnEmptyList_CountShouldBeOne (__main__.OrderedSingleLinkedListTest) ... ok\n",
      "test_Add_OnEmptyList_HeadShouldBeNewNode (__main__.OrderedSingleLinkedListTest) ... ok\n",
      "test_Add_OnNonEmptyList_CountShouldIncreaseByOne (__main__.OrderedSingleLinkedListTest) ... ok\n",
      "test_Add_Order_ItemsShouldBeInOrder (__main__.OrderedSingleLinkedListTest) ... ok\n",
      "test_Add_Order_WhenNewNodeIsSmallerThanHead_NewNodeIsNewHead (__main__.OrderedSingleLinkedListTest) ... ok\n",
      "\n",
      "----------------------------------------------------------------------\n",
      "Ran 5 tests in 0.002s\n",
      "\n",
      "OK\n"
     ]
    }
   ],
   "source": [
    "import unittest\n",
    "from SingleLinkedList import LinkedListNode\n",
    "\n",
    "class OrderedSingleLinkedListTest(unittest.TestCase):\n",
    "    \n",
    "        def test_Add_OnEmptyList_CountShouldBeOne(self):\n",
    "            # Arrange\n",
    "            orderedSingleLinkedList = TestHelper.GenerateTestLinkedList(0)\n",
    "            expectedListSize = 1\n",
    "            \n",
    "            # Act\n",
    "            orderedSingleLinkedList.Add(LinkedListNode(1))\n",
    "            actualListSize = orderedSingleLinkedList.Count()\n",
    "            \n",
    "            # Assert\n",
    "            self.assertEqual(expectedListSize, actualListSize)\n",
    "\n",
    "            \n",
    "        def test_Add_OnEmptyList_HeadShouldBeNewNode(self):\n",
    "            # Arrange\n",
    "            orderedSingleLinkedList = TestHelper.GenerateTestLinkedList()\n",
    "            expectedHead = LinkedListNode(1)\n",
    "            \n",
    "            # Act\n",
    "            orderedSingleLinkedList.Add(expectedHead)\n",
    "            actualHead = orderedSingleLinkedList.GetHead()\n",
    "            \n",
    "            # Assert\n",
    "            self.assertEqual(expectedHead.Value, actualHead.Value)\n",
    "            \n",
    "        def test_Add_OnNonEmptyList_CountShouldIncreaseByOne(self):\n",
    "            # Arrange\n",
    "            orderedSingleLinkedList = OrderedSingleLinkedList()\n",
    "            expectedListSize = 2\n",
    "            \n",
    "            # Act\n",
    "            orderedSingleLinkedList.Add(LinkedListNode(1))\n",
    "            orderedSingleLinkedList.Add(LinkedListNode(2))\n",
    "            actualListSize = orderedSingleLinkedList.Count()\n",
    "            \n",
    "            # Assert\n",
    "            self.assertEqual(expectedListSize, actualListSize)\n",
    "\n",
    "        def test_Add_Order_WhenNewNodeIsSmallerThanHead_NewNodeIsNewHead(self):\n",
    "            # Arrange\n",
    "            orderedSingleLinkedList = TestHelper.GenerateTestLinkedList()\n",
    "            expectedHeadNode = LinkedListNode(-5)\n",
    "            \n",
    "            # Act\n",
    "            orderedSingleLinkedList.Add(LinkedListNode(-5))\n",
    "            actualHeadNode = orderedSingleLinkedList.GetHead()\n",
    "            \n",
    "            # Assert\n",
    "            self.assertEqual(expectedHeadNode.Value, actualHeadNode.Value)\n",
    "            \n",
    "        def test_Add_Order_ItemsShouldBeInOrder(self):\n",
    "            # Arrange\n",
    "            orderedSingleLinkedList = TestHelper.GenerateTestLinkedList()\n",
    "            \n",
    "            # Act\n",
    "            orderedSingleLinkedList.Add(LinkedListNode(-5))\n",
    "            orderedSingleLinkedList.Add(LinkedListNode(-20))\n",
    "            orderedSingleLinkedList.Add(LinkedListNode(1))\n",
    "            orderedSingleLinkedList.Add(LinkedListNode(20))\n",
    "            orderedSingleLinkedList.Add(LinkedListNode(6))\n",
    "            \n",
    "            # Assert\n",
    "            prevNode = orderedSingleLinkedList.GetHead()\n",
    "            currentNode = prevNode.NextNode\n",
    "            \n",
    "            while currentNode != None:\n",
    "                self.assertGreaterEqual(currentNode.Value, prevNode.Value)\n",
    "                prevNode = currentNode\n",
    "                currentNode = currentNode.NextNode\n",
    "            \n",
    "unitTestResults = unittest.main(argv=[''], verbosity=2, exit=False)"
   ]
  },
  {
   "cell_type": "code",
   "execution_count": null,
   "id": "cb98f55d",
   "metadata": {},
   "outputs": [],
   "source": []
  }
 ],
 "metadata": {
  "kernelspec": {
   "display_name": "Python 3 (ipykernel)",
   "language": "python",
   "name": "python3"
  },
  "language_info": {
   "codemirror_mode": {
    "name": "ipython",
    "version": 3
   },
   "file_extension": ".py",
   "mimetype": "text/x-python",
   "name": "python",
   "nbconvert_exporter": "python",
   "pygments_lexer": "ipython3",
   "version": "3.8.11"
  }
 },
 "nbformat": 4,
 "nbformat_minor": 5
}

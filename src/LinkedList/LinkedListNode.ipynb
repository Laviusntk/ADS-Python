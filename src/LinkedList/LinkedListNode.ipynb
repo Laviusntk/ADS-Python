{
 "cells": [
  {
   "cell_type": "markdown",
   "id": "3acf276a",
   "metadata": {},
   "source": [
    "### SingleLinkedList Implementation\n",
    "LinkedList Node class used for both single and double LinkedList"
   ]
  },
  {
   "cell_type": "code",
   "execution_count": 146,
   "id": "80e59fcf",
   "metadata": {},
   "outputs": [],
   "source": [
    "class LinkedListNode:\n",
    "    NextNode = None\n",
    "    PrevNode = None\n",
    "    Value = 0\n",
    "    \n",
    "    def __init__(self, value, nextNode = None, prevNode = None):\n",
    "        self.Value = value\n",
    "        self.NextNode = nextNode\n",
    "        self.PrevNode = prevNode"
   ]
  },
  {
   "cell_type": "code",
   "execution_count": 147,
   "id": "af82f291",
   "metadata": {},
   "outputs": [],
   "source": [
    "class SingleLinkedList:\n",
    "    Head = None\n",
    "    Count = 1;\n",
    "    \n",
    "    def Add(self, newNode):\n",
    "        if self.Head == None:\n",
    "            self.Head = newNode\n",
    "        else:\n",
    "            tempNode = self.Head\n",
    "            print(tempNode.Value)\n",
    "            while tempNode.NextNode != None:\n",
    "                tempNode = tempNode.NextNode\n",
    "                print(tempNode.Value)\n",
    "            \n",
    "            tempNode.next = newNode\n",
    "            self.Count += 1\n",
    "    \n",
    "    def Display(self):\n",
    "        tempNode = self.Head\n",
    "        linkedListText = \"\"\n",
    "        while tempNode != None:\n",
    "            linkedListText += str(tempNode.Value) + \",\"\n",
    "            tempNode = tempNode.NextNode\n",
    "        \n",
    "        print(linkedListText)   "
   ]
  },
  {
   "cell_type": "code",
   "execution_count": 148,
   "id": "ddc1a896",
   "metadata": {},
   "outputs": [],
   "source": [
    "singleLinkedList = SingleLinkedList()"
   ]
  },
  {
   "cell_type": "code",
   "execution_count": 149,
   "id": "8ccfd47b",
   "metadata": {},
   "outputs": [
    {
     "name": "stdout",
     "output_type": "stream",
     "text": [
      "1\n",
      "1\n",
      "1\n"
     ]
    }
   ],
   "source": [
    "singleLinkedList.Add(LinkedListNode(1))\n",
    "singleLinkedList.Add(LinkedListNode(3))\n",
    "singleLinkedList.Add(LinkedListNode(4))\n",
    "singleLinkedList.Add(LinkedListNode(5))"
   ]
  },
  {
   "cell_type": "code",
   "execution_count": 139,
   "id": "a4b517af",
   "metadata": {},
   "outputs": [
    {
     "name": "stdout",
     "output_type": "stream",
     "text": [
      "1,\n",
      "4\n"
     ]
    }
   ],
   "source": [
    "singleLinkedList.Display()\n",
    "print(singleLinkedList.Count)"
   ]
  },
  {
   "cell_type": "code",
   "execution_count": null,
   "id": "18027f29",
   "metadata": {},
   "outputs": [],
   "source": []
  }
 ],
 "metadata": {
  "celltoolbar": "Raw Cell Format",
  "kernelspec": {
   "display_name": "Python 3",
   "language": "python",
   "name": "python3"
  },
  "language_info": {
   "codemirror_mode": {
    "name": "ipython",
    "version": 3
   },
   "file_extension": ".py",
   "mimetype": "text/x-python",
   "name": "python",
   "nbconvert_exporter": "python",
   "pygments_lexer": "ipython3",
   "version": "3.8.8"
  }
 },
 "nbformat": 4,
 "nbformat_minor": 5
}

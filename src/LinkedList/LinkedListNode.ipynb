{
 "cells": [
  {
   "cell_type": "markdown",
   "id": "186c0108",
   "metadata": {},
   "source": [
    "### SingleLinkedList Implementation\n",
    "LinkedList Node class used for both single and double LinkedList"
   ]
  },
  {
   "cell_type": "code",
   "execution_count": 1,
   "id": "2eca5e7b",
   "metadata": {},
   "outputs": [],
   "source": [
    "class LinkedListNode:\n",
    "    NextNode = None\n",
    "    PrevNode = None\n",
    "    Value = 0\n",
    "    \n",
    "    def __init__(self, value, nextNode = None, prevNode = None):\n",
    "        self.Value = value\n",
    "        self.NextNode = nextNode\n",
    "        self.PrevNode = prevNode"
   ]
  },
  {
   "cell_type": "code",
   "execution_count": 2,
   "id": "3b817b42",
   "metadata": {},
   "outputs": [],
   "source": [
    "class SingleLinkedList:\n",
    "    Head = None\n",
    "    Count = 1;\n",
    "    \n",
    "    def Add(self, newNode):\n",
    "        if self.Head == None:\n",
    "            self.Head = newNode\n",
    "        else:\n",
    "            tempNode = self.Head\n",
    "            while tempNode.NextNode != None:\n",
    "                tempNode = tempNode.NextNode\n",
    "            \n",
    "            tempNode.NextNode = newNode\n",
    "            self.Count += 1\n",
    "            \n",
    "    def Remove(self, node):\n",
    "        if self.Head == None:\n",
    "            return\n",
    "            \n",
    "        if self.Head != None and self.Head.Value == node.Value:\n",
    "            self.Head = None\n",
    "            return\n",
    "            \n",
    "        tempNode = self.Head\n",
    "        while tempNode.NextNode != None:\n",
    "                if tempNode.NextNode.Value == node.Value:\n",
    "                    tempNode.NextNode = tempNode.NextNode.NextNode\n",
    "                    return\n",
    "                \n",
    "                tempNode = tempNode.NextNode\n",
    "    \n",
    "    def Display(self):\n",
    "        tempNode = self.Head\n",
    "        linkedListText = \"\"\n",
    "        while tempNode != None:\n",
    "            linkedListText += str(tempNode.Value) + \",\"\n",
    "            tempNode = tempNode.NextNode\n",
    "        \n",
    "        print(linkedListText)   "
   ]
  },
  {
   "cell_type": "code",
   "execution_count": 3,
   "id": "3053f652",
   "metadata": {},
   "outputs": [],
   "source": [
    "singleLinkedList = SingleLinkedList()"
   ]
  },
  {
   "cell_type": "code",
   "execution_count": 4,
   "id": "0df8998a",
   "metadata": {},
   "outputs": [
    {
     "name": "stdout",
     "output_type": "stream",
     "text": [
      "1,3,4,5,\n",
      "4\n"
     ]
    }
   ],
   "source": [
    "singleLinkedList.Add(LinkedListNode(1))\n",
    "singleLinkedList.Add(LinkedListNode(3))\n",
    "singleLinkedList.Add(LinkedListNode(4))\n",
    "singleLinkedList.Add(LinkedListNode(5))\n",
    "\n",
    "singleLinkedList.Display()\n",
    "print(singleLinkedList.Count)"
   ]
  },
  {
   "cell_type": "code",
   "execution_count": 5,
   "id": "c4e7cc95",
   "metadata": {},
   "outputs": [
    {
     "name": "stdout",
     "output_type": "stream",
     "text": [
      "1,3,4,\n",
      "4\n"
     ]
    }
   ],
   "source": [
    "singleLinkedList.Remove(LinkedListNode(5))\n",
    "\n",
    "singleLinkedList.Display()\n",
    "print(singleLinkedList.Count)"
   ]
  },
  {
   "cell_type": "code",
   "execution_count": null,
   "id": "1d56863a",
   "metadata": {},
   "outputs": [],
   "source": []
  }
 ],
 "metadata": {
  "celltoolbar": "Raw Cell Format",
  "kernelspec": {
   "display_name": "Python 3",
   "language": "python",
   "name": "python3"
  },
  "language_info": {
   "codemirror_mode": {
    "name": "ipython",
    "version": 3
   },
   "file_extension": ".py",
   "mimetype": "text/x-python",
   "name": "python",
   "nbconvert_exporter": "python",
   "pygments_lexer": "ipython3",
   "version": "3.8.8"
  }
 },
 "nbformat": 4,
 "nbformat_minor": 5
}

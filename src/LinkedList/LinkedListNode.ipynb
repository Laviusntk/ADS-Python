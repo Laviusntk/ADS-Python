{
 "cells": [
  {
   "cell_type": "markdown",
   "id": "886739a6",
   "metadata": {},
   "source": [
    "LinkedList Node class used for both single and double LinkedList"
   ]
  },
  {
   "cell_type": "code",
   "execution_count": 2,
   "id": "a7b5118c",
   "metadata": {},
   "outputs": [],
   "source": [
    "class LinkedListNode:\n",
    "    NextNode = None\n",
    "    PrevNode = None\n",
    "    Value = 0\n",
    "    \n",
    "    def __init__(self, value, nextNode = None, prevNode = None):\n",
    "        self.Value = value\n",
    "        self.NextNode = nextNode\n",
    "        self.PrevNode = prevNode"
   ]
  },
  {
   "cell_type": "code",
   "execution_count": null,
   "id": "6afea165",
   "metadata": {},
   "outputs": [],
   "source": []
  }
 ],
 "metadata": {
  "kernelspec": {
   "display_name": "Python 3",
   "language": "python",
   "name": "python3"
  },
  "language_info": {
   "codemirror_mode": {
    "name": "ipython",
    "version": 3
   },
   "file_extension": ".py",
   "mimetype": "text/x-python",
   "name": "python",
   "nbconvert_exporter": "python",
   "pygments_lexer": "ipython3",
   "version": "3.8.8"
  }
 },
 "nbformat": 4,
 "nbformat_minor": 5
}

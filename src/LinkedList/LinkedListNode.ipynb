{
 "cells": [
  {
   "cell_type": "markdown",
   "id": "186c0108",
   "metadata": {},
   "source": [
    "### SingleLinkedList Implementation\n",
    "LinkedList Node class used for both single and double LinkedList"
   ]
  },
  {
   "cell_type": "code",
   "execution_count": 1,
   "id": "2eca5e7b",
   "metadata": {},
   "outputs": [],
   "source": [
    "class LinkedListNode:\n",
    "    NextNode = None\n",
    "    PrevNode = None\n",
    "    Value = 0\n",
    "    \n",
    "    def __init__(self, value, nextNode = None, prevNode = None):\n",
    "        self.Value = value\n",
    "        self.NextNode = nextNode\n",
    "        self.PrevNode = prevNode"
   ]
  },
  {
   "cell_type": "code",
   "execution_count": 3,
   "id": "3b817b42",
   "metadata": {},
   "outputs": [],
   "source": [
    "class SingleLinkedList:\n",
    "    \n",
    "    Head = None\n",
    "    Count = 1;\n",
    "    \n",
    "    \n",
    "    def Add(self, newNode):\n",
    "        if self.Head == None:\n",
    "            self.Head = newNode\n",
    "        else:\n",
    "            tempNode = self.Head\n",
    "            while tempNode.NextNode != None:\n",
    "                tempNode = tempNode.NextNode\n",
    "            \n",
    "            tempNode.NextNode = newNode\n",
    "            self.Count += 1\n",
    "            \n",
    "    \n",
    "    def Remove(self, node):\n",
    "        if self.Head == None:\n",
    "            return\n",
    "            \n",
    "        if self.Head != None and self.Head.Value == node.Value:\n",
    "            self.Head = None\n",
    "            self.Count -= 1\n",
    "            return\n",
    "            \n",
    "        tempNode = self.Head\n",
    "        while tempNode.NextNode != None:\n",
    "                if tempNode.NextNode.Value == node.Value:\n",
    "                    tempNode.NextNode = tempNode.NextNode.NextNode\n",
    "                    self.Count -= 1\n",
    "                    return\n",
    "                \n",
    "                tempNode = tempNode.NextNode\n",
    "\n",
    "    \n",
    "    \n",
    "    def Display(self):\n",
    "        tempNode = self.Head\n",
    "        linkedListText = \"\"\n",
    "        while tempNode != None:\n",
    "            linkedListText += str(tempNode.Value) + \",\"\n",
    "            tempNode = tempNode.NextNode\n",
    "        \n",
    "        print(linkedListText)   "
   ]
  },
  {
   "cell_type": "markdown",
   "id": "7df3ea5e",
   "metadata": {},
   "source": [
    "# Tests"
   ]
  },
  {
   "cell_type": "code",
   "execution_count": 4,
   "id": "661f2bc0",
   "metadata": {},
   "outputs": [
    {
     "ename": "NameError",
     "evalue": "name 'unittest' is not defined",
     "output_type": "error",
     "traceback": [
      "\u001b[0;31m---------------------------------------------------------------------------\u001b[0m",
      "\u001b[0;31mNameError\u001b[0m                                 Traceback (most recent call last)",
      "\u001b[0;32m/var/folders/yg/zlw0nsmd39v2sv_h1mmwzf140000gn/T/ipykernel_21330/739619356.py\u001b[0m in \u001b[0;36m<module>\u001b[0;34m\u001b[0m\n\u001b[1;32m      1\u001b[0m \u001b[0;31m# import unittest\u001b[0m\u001b[0;34m\u001b[0m\u001b[0;34m\u001b[0m\u001b[0;34m\u001b[0m\u001b[0m\n\u001b[1;32m      2\u001b[0m \u001b[0;34m\u001b[0m\u001b[0m\n\u001b[0;32m----> 3\u001b[0;31m \u001b[0;32mclass\u001b[0m \u001b[0mSingleLinkedlistTest\u001b[0m\u001b[0;34m(\u001b[0m\u001b[0munittest\u001b[0m\u001b[0;34m.\u001b[0m\u001b[0mTestCase\u001b[0m\u001b[0;34m)\u001b[0m\u001b[0;34m:\u001b[0m\u001b[0;34m\u001b[0m\u001b[0;34m\u001b[0m\u001b[0m\n\u001b[0m\u001b[1;32m      4\u001b[0m \u001b[0;34m\u001b[0m\u001b[0m\n\u001b[1;32m      5\u001b[0m         \u001b[0;32mdef\u001b[0m \u001b[0mAdd_OnEmptyList_CountShouldBeOne\u001b[0m \u001b[0;34m(\u001b[0m\u001b[0mself\u001b[0m\u001b[0;34m)\u001b[0m\u001b[0;34m:\u001b[0m\u001b[0;34m\u001b[0m\u001b[0;34m\u001b[0m\u001b[0m\n",
      "\u001b[0;31mNameError\u001b[0m: name 'unittest' is not defined"
     ]
    }
   ],
   "source": [
    "# import unittest\n",
    "\n",
    "class SingleLinkedlistTest(unittest.TestCase):\n",
    "    \n",
    "        def Add_OnEmptyList_CountShouldBeOne (self):\n",
    "            # Arrange\n",
    "            singleLinkedList = SingleLinkedList()\n",
    "            expectedListSize = 1\n",
    "            \n",
    "            # Act\n",
    "            singleLinkedList.Add(LinkedListNode(1))\n",
    "            actualListSize = singleLinkedList.Count\n",
    "            \n",
    "            # Assert\n",
    "            self.assertEqual(expectedListSize, actualListSize, \"LinkedList size should be 1\")\n",
    "            \n",
    "        def Add_OnEmptyList_HeadShouldBeNewNode (self):\n",
    "            # Arrange\n",
    "            singleLinkedList = SingleLinkedList()\n",
    "            expectedHead = LinkedlistNode(1)\n",
    "            \n",
    "            # Act\n",
    "            singleLinkedList.Add(expectedHead)\n",
    "            actualHead = singleLinkedList.Head\n",
    "            \n",
    "            # Assert\n",
    "            self.assertEqual(actualHead.Value, actualHead.Value, \"New head should have value 1\")\n",
    "            \n",
    "        def Add_OnNonEmptyList_CountShouldIncreaseByOne (self):\n",
    "            # Arrange\n",
    "            singleLinkedList = SingleLinkedList()\n",
    "            expectedListSize = 4\n",
    "            \n",
    "            # Act\n",
    "            singleLinkedList.Add(LinkedListNode(1))\n",
    "            singleLinkedList.Add(LinkedListNode(2))\n",
    "            singleLinkedList.Add(LinkedListNode(3))\n",
    "            singleLinkedList.Add(LinkedListNode(4))\n",
    "            actualListSize = singleLinkedList.Count\n",
    "            \n",
    "            # Assert\n",
    "            self.assertEqual(expectedListSize, actualListSize, \"LinkedList size should be 4\")\n",
    "            \n",
    "            "
   ]
  },
  {
   "cell_type": "code",
   "execution_count": null,
   "id": "c2c88ec7",
   "metadata": {},
   "outputs": [],
   "source": []
  }
 ],
 "metadata": {
  "celltoolbar": "Raw Cell Format",
  "kernelspec": {
   "display_name": "Python 3 (ipykernel)",
   "language": "python",
   "name": "python3"
  },
  "language_info": {
   "codemirror_mode": {
    "name": "ipython",
    "version": 3
   },
   "file_extension": ".py",
   "mimetype": "text/x-python",
   "name": "python",
   "nbconvert_exporter": "python",
   "pygments_lexer": "ipython3",
   "version": "3.8.2"
  }
 },
 "nbformat": 4,
 "nbformat_minor": 5
}

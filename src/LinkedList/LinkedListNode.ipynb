{
 "cells": [
  {
   "cell_type": "markdown",
   "id": "186c0108",
   "metadata": {},
   "source": [
    "### SingleLinkedList Implementation\n",
    "LinkedList Node class used for both single and double LinkedList"
   ]
  },
  {
   "cell_type": "code",
   "execution_count": 28,
   "id": "2eca5e7b",
   "metadata": {},
   "outputs": [],
   "source": [
    "class LinkedListNode:\n",
    "    NextNode = None\n",
    "    PrevNode = None\n",
    "    Value = 0\n",
    "    \n",
    "    def __init__(self, value, nextNode = None, prevNode = None):\n",
    "        self.Value = value\n",
    "        self.NextNode = nextNode\n",
    "        self.PrevNode = prevNode"
   ]
  },
  {
   "cell_type": "code",
   "execution_count": 29,
   "id": "3b817b42",
   "metadata": {},
   "outputs": [],
   "source": [
    "class SingleLinkedList:\n",
    "    Head = None\n",
    "    Count = 1;\n",
    "    \n",
    "    def Add(self, newNode):\n",
    "        if self.Head == None:\n",
    "            self.Head = newNode\n",
    "        else:\n",
    "            tempNode = self.Head\n",
    "            while tempNode.NextNode != None:\n",
    "                tempNode = tempNode.NextNode\n",
    "            \n",
    "            tempNode.NextNode = newNode\n",
    "            self.Count += 1\n",
    "            \n",
    "    def Remove(self, node):\n",
    "        if self.Head == None:\n",
    "            return\n",
    "            \n",
    "        if self.Head != None and self.Head.Value == node.Value:\n",
    "            self.Head = None\n",
    "            return\n",
    "            \n",
    "        tempNode = self.Head\n",
    "        while tempNode.NextNode != None:\n",
    "                if tempNode.NextNode.Value == node.Value:\n",
    "                    tempNode.NextNode = tempNode.NextNode.NextNode\n",
    "                    return\n",
    "                \n",
    "                tempNode = tempNode.NextNode\n",
    "\n",
    "    def Display(self):\n",
    "        tempNode = self.Head\n",
    "        linkedListText = \"\"\n",
    "        while tempNode != None:\n",
    "            linkedListText += str(tempNode.Value) + \",\"\n",
    "            tempNode = tempNode.NextNode\n",
    "        \n",
    "        print(linkedListText)   "
   ]
  },
  {
   "cell_type": "markdown",
   "id": "c29dd656",
   "metadata": {},
   "source": [
    "# Tests"
   ]
  },
  {
   "cell_type": "code",
   "execution_count": 30,
   "id": "3053f652",
   "metadata": {},
   "outputs": [],
   "source": [
    "import unittest\n",
    "\n",
    "class SingleLinkedlistTest(unittest.TestCase):\n",
    "    \n",
    "        def Add_OnEmptyList_CountShouldBeOne (self):\n",
    "            # Arrange\n",
    "            singleLinkedList = SingleLinkedList()\n",
    "            expectedListSize = 1\n",
    "            \n",
    "            # Act\n",
    "            singleLinkedList.Add(LinkedListNode(1))\n",
    "            actualListSize = singleLinkedList.Count\n",
    "            \n",
    "            # Assert\n",
    "            self.assertEqual(expectedListSize, actualListSize, \"LinkedList size should be 1\")\n",
    "            \n",
    "        def Add_OnEmptyList_HeadShouldBeNewNode (self):\n",
    "            # Arrange\n",
    "            singleLinkedList = SingleLinkedList()\n",
    "            expectedHead = LinkedlistNode(1)\n",
    "            \n",
    "            # Act\n",
    "            singleLinkedList.Add(expectedHead)\n",
    "            actualHead = singleLinkedList.Head\n",
    "            \n",
    "            # Assert\n",
    "            self.assertEqual(actualHead.Value, actualHead.Value, \"New head should have value 1\")\n"
   ]
  }
 ],
 "metadata": {
  "celltoolbar": "Raw Cell Format",
  "kernelspec": {
   "display_name": "Python 3",
   "language": "python",
   "name": "python3"
  },
  "language_info": {
   "codemirror_mode": {
    "name": "ipython",
    "version": 3
   },
   "file_extension": ".py",
   "mimetype": "text/x-python",
   "name": "python",
   "nbconvert_exporter": "python",
   "pygments_lexer": "ipython3",
   "version": "3.8.8"
  }
 },
 "nbformat": 4,
 "nbformat_minor": 5
}

{
 "cells": [
  {
   "cell_type": "markdown",
   "id": "3c97693f",
   "metadata": {},
   "source": [
    "# DoubleLinkedList\n",
    "\n",
    "Implementing a double linkedlist. Inhering from SingleLinkedlist implemented on the SingleLinkedList.ipynb. For more info on how to import a notebook see Importing Jupyter Notebooks as Modules"
   ]
  },
  {
   "cell_type": "code",
   "execution_count": 1,
   "id": "3226a178",
   "metadata": {},
   "outputs": [
    {
     "name": "stdout",
     "output_type": "stream",
     "text": [
      "importing Jupyter notebook from SingleLinkedList.ipynb\n"
     ]
    },
    {
     "name": "stderr",
     "output_type": "stream",
     "text": [
      "\n",
      "----------------------------------------------------------------------\n",
      "Ran 0 tests in 0.000s\n",
      "\n",
      "OK\n"
     ]
    }
   ],
   "source": [
    "import sys\n",
    "sys.path.insert(1, '../common/')\n",
    "\n",
    "import LoadNotebookHelper # Enables Jupyter to import exterbal notebooks as modules\n",
    "import SingleLinkedList"
   ]
  },
  {
   "cell_type": "code",
   "execution_count": null,
   "id": "10483c2c",
   "metadata": {},
   "outputs": [],
   "source": [
    "from SingleLinkedList import LinkedListNode\n",
    "\n",
    "class DoubleLinkedList(LinkedListNode):\n",
    "    \n",
    "    def __init__(self, value = 0, preNode = None, nextNode = None):\n",
    "        super().__init__(self, value, nextNode)\n",
    "        self.PrevNode = prevNode"
   ]
  }
 ],
 "metadata": {
  "kernelspec": {
   "display_name": "Python 3 (ipykernel)",
   "language": "python",
   "name": "python3"
  },
  "language_info": {
   "codemirror_mode": {
    "name": "ipython",
    "version": 3
   },
   "file_extension": ".py",
   "mimetype": "text/x-python",
   "name": "python",
   "nbconvert_exporter": "python",
   "pygments_lexer": "ipython3",
   "version": "3.8.11"
  }
 },
 "nbformat": 4,
 "nbformat_minor": 5
}
